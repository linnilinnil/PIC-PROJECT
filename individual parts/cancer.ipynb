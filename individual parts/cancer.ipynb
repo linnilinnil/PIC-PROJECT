{
 "cells": [
  {
   "cell_type": "markdown",
   "id": "b76f6077",
   "metadata": {},
   "source": [
    "# National Cancer Institute Inclusion Reports"
   ]
  },
  {
   "cell_type": "markdown",
   "id": "23c07b3b",
   "metadata": {},
   "source": [
    "Data scraped and processed with Power Query\n",
    "- https://report.nih.gov/sites/report/files/docs/2019-NCI-Triennial-Inclusion-Report.pdf \n",
    "- https://report.nih.gov/sites/report/files/docs/NCITriennialInclusionReportFY2019_FY2021Final.pdf\n",
    "\n",
    "Appendix B: **Enrollment for All NIH-Defined Clinical Research**, illustrated in NCI Triennial Inclusion Reports"
   ]
  },
  {
   "cell_type": "markdown",
   "id": "a79a71d4",
   "metadata": {},
   "source": [
    "### Sex & Ethnicity vs Enrollment for NIH-Defined Clinical Research"
   ]
  },
  {
   "cell_type": "code",
   "execution_count": 4,
   "id": "5b3c5ebd",
   "metadata": {},
   "outputs": [
    {
     "data": {
      "text/html": [
       "<div>\n",
       "<style scoped>\n",
       "    .dataframe tbody tr th:only-of-type {\n",
       "        vertical-align: middle;\n",
       "    }\n",
       "\n",
       "    .dataframe tbody tr th {\n",
       "        vertical-align: top;\n",
       "    }\n",
       "\n",
       "    .dataframe thead th {\n",
       "        text-align: right;\n",
       "    }\n",
       "</style>\n",
       "<table border=\"1\" class=\"dataframe\">\n",
       "  <thead>\n",
       "    <tr style=\"text-align: right;\">\n",
       "      <th></th>\n",
       "      <th>Year</th>\n",
       "      <th>Sex</th>\n",
       "      <th>Ethnicity</th>\n",
       "      <th>Enrollment</th>\n",
       "    </tr>\n",
       "  </thead>\n",
       "  <tbody>\n",
       "    <tr>\n",
       "      <th>0</th>\n",
       "      <td>2016</td>\n",
       "      <td>Female</td>\n",
       "      <td>Not Hispanic</td>\n",
       "      <td>2257542</td>\n",
       "    </tr>\n",
       "    <tr>\n",
       "      <th>1</th>\n",
       "      <td>2016</td>\n",
       "      <td>Female</td>\n",
       "      <td>Hispanic Latino</td>\n",
       "      <td>189508</td>\n",
       "    </tr>\n",
       "    <tr>\n",
       "      <th>2</th>\n",
       "      <td>2016</td>\n",
       "      <td>Male</td>\n",
       "      <td>Not Hispanic</td>\n",
       "      <td>1414034</td>\n",
       "    </tr>\n",
       "    <tr>\n",
       "      <th>3</th>\n",
       "      <td>2016</td>\n",
       "      <td>Male</td>\n",
       "      <td>Hispanic Latino</td>\n",
       "      <td>136656</td>\n",
       "    </tr>\n",
       "    <tr>\n",
       "      <th>4</th>\n",
       "      <td>2017</td>\n",
       "      <td>Female</td>\n",
       "      <td>Not Hispanic</td>\n",
       "      <td>3343498</td>\n",
       "    </tr>\n",
       "  </tbody>\n",
       "</table>\n",
       "</div>"
      ],
      "text/plain": [
       "   Year     Sex        Ethnicity  Enrollment\n",
       "0  2016  Female     Not Hispanic     2257542\n",
       "1  2016  Female  Hispanic Latino      189508\n",
       "2  2016    Male     Not Hispanic     1414034\n",
       "3  2016    Male  Hispanic Latino      136656\n",
       "4  2017  Female     Not Hispanic     3343498"
      ]
     },
     "execution_count": 4,
     "metadata": {},
     "output_type": "execute_result"
    }
   ],
   "source": [
    "import pandas as pd\n",
    "enroll_ethn=pd.read_csv('~/Desktop/PIC16B/PIC16B Project/diversity/cancer/Enroll_ethnicity.csv')\n",
    "enroll_ethn.head()"
   ]
  },
  {
   "cell_type": "code",
   "execution_count": 16,
   "id": "5e8c06c2",
   "metadata": {},
   "outputs": [
    {
     "data": {
      "text/html": [
       "<div>\n",
       "<style scoped>\n",
       "    .dataframe tbody tr th:only-of-type {\n",
       "        vertical-align: middle;\n",
       "    }\n",
       "\n",
       "    .dataframe tbody tr th {\n",
       "        vertical-align: top;\n",
       "    }\n",
       "\n",
       "    .dataframe thead th {\n",
       "        text-align: right;\n",
       "    }\n",
       "</style>\n",
       "<table border=\"1\" class=\"dataframe\">\n",
       "  <thead>\n",
       "    <tr style=\"text-align: right;\">\n",
       "      <th></th>\n",
       "      <th>Year</th>\n",
       "      <th>Sex</th>\n",
       "      <th>Ethnicity</th>\n",
       "      <th>Enrollment</th>\n",
       "      <th>eth_sex</th>\n",
       "      <th>Ethnicity, Sex</th>\n",
       "    </tr>\n",
       "  </thead>\n",
       "  <tbody>\n",
       "    <tr>\n",
       "      <th>0</th>\n",
       "      <td>2016</td>\n",
       "      <td>Female</td>\n",
       "      <td>Not Hispanic</td>\n",
       "      <td>2257542</td>\n",
       "      <td>Female, Not Hispanic</td>\n",
       "      <td>Female, Not Hispanic</td>\n",
       "    </tr>\n",
       "    <tr>\n",
       "      <th>1</th>\n",
       "      <td>2016</td>\n",
       "      <td>Female</td>\n",
       "      <td>Hispanic Latino</td>\n",
       "      <td>189508</td>\n",
       "      <td>Female, Hispanic Latino</td>\n",
       "      <td>Female, Hispanic Latino</td>\n",
       "    </tr>\n",
       "    <tr>\n",
       "      <th>2</th>\n",
       "      <td>2016</td>\n",
       "      <td>Male</td>\n",
       "      <td>Not Hispanic</td>\n",
       "      <td>1414034</td>\n",
       "      <td>Male, Not Hispanic</td>\n",
       "      <td>Male, Not Hispanic</td>\n",
       "    </tr>\n",
       "    <tr>\n",
       "      <th>3</th>\n",
       "      <td>2016</td>\n",
       "      <td>Male</td>\n",
       "      <td>Hispanic Latino</td>\n",
       "      <td>136656</td>\n",
       "      <td>Male, Hispanic Latino</td>\n",
       "      <td>Male, Hispanic Latino</td>\n",
       "    </tr>\n",
       "    <tr>\n",
       "      <th>4</th>\n",
       "      <td>2017</td>\n",
       "      <td>Female</td>\n",
       "      <td>Not Hispanic</td>\n",
       "      <td>3343498</td>\n",
       "      <td>Female, Not Hispanic</td>\n",
       "      <td>Female, Not Hispanic</td>\n",
       "    </tr>\n",
       "  </tbody>\n",
       "</table>\n",
       "</div>"
      ],
      "text/plain": [
       "   Year     Sex        Ethnicity  Enrollment                  eth_sex  \\\n",
       "0  2016  Female     Not Hispanic     2257542     Female, Not Hispanic   \n",
       "1  2016  Female  Hispanic Latino      189508  Female, Hispanic Latino   \n",
       "2  2016    Male     Not Hispanic     1414034       Male, Not Hispanic   \n",
       "3  2016    Male  Hispanic Latino      136656    Male, Hispanic Latino   \n",
       "4  2017  Female     Not Hispanic     3343498     Female, Not Hispanic   \n",
       "\n",
       "            Ethnicity, Sex  \n",
       "0     Female, Not Hispanic  \n",
       "1  Female, Hispanic Latino  \n",
       "2       Male, Not Hispanic  \n",
       "3    Male, Hispanic Latino  \n",
       "4     Female, Not Hispanic  "
      ]
     },
     "execution_count": 16,
     "metadata": {},
     "output_type": "execute_result"
    }
   ],
   "source": [
    "enroll_ethn['Ethnicity, Sex'] = enroll_ethn[enroll_ethn.columns[1:3]].apply(\n",
    "    lambda x: ', '.join(x.dropna().astype(str)), axis=1)\n",
    "enroll_ethn.head()"
   ]
  },
  {
   "cell_type": "code",
   "execution_count": 18,
   "id": "655e4aad",
   "metadata": {},
   "outputs": [
    {
     "data": {
      "application/vnd.plotly.v1+json": {
       "config": {
        "plotlyServerURL": "https://plot.ly"
       },
       "data": [
        {
         "alignmentgroup": "True",
         "hovertemplate": "<b>%{hovertext}</b><br><br>Ethnicity, Sex=Female, Not Hispanic<br>Year=%{x}<br>Enrollment=%{y}<extra></extra>",
         "hovertext": [
          "Female, Not Hispanic",
          "Female, Not Hispanic",
          "Female, Not Hispanic",
          "Female, Not Hispanic",
          "Female, Not Hispanic",
          "Female, Not Hispanic"
         ],
         "legendgroup": "Female, Not Hispanic",
         "marker": {
          "color": "#636efa",
          "pattern": {
           "shape": ""
          }
         },
         "name": "Female, Not Hispanic",
         "offsetgroup": "Female, Not Hispanic",
         "orientation": "v",
         "showlegend": true,
         "textposition": "auto",
         "type": "bar",
         "x": [
          2016,
          2017,
          2018,
          2019,
          2020,
          2021
         ],
         "xaxis": "x",
         "y": [
          2257542,
          3343498,
          1576153,
          1542085,
          1757027,
          2645146
         ],
         "yaxis": "y"
        },
        {
         "alignmentgroup": "True",
         "hovertemplate": "<b>%{hovertext}</b><br><br>Ethnicity, Sex=Female, Hispanic Latino<br>Year=%{x}<br>Enrollment=%{y}<extra></extra>",
         "hovertext": [
          "Female, Hispanic Latino",
          "Female, Hispanic Latino",
          "Female, Hispanic Latino",
          "Female, Hispanic Latino",
          "Female, Hispanic Latino",
          "Female, Hispanic Latino"
         ],
         "legendgroup": "Female, Hispanic Latino",
         "marker": {
          "color": "#EF553B",
          "pattern": {
           "shape": ""
          }
         },
         "name": "Female, Hispanic Latino",
         "offsetgroup": "Female, Hispanic Latino",
         "orientation": "v",
         "showlegend": true,
         "textposition": "auto",
         "type": "bar",
         "x": [
          2016,
          2017,
          2018,
          2019,
          2020,
          2021
         ],
         "xaxis": "x",
         "y": [
          189508,
          184035,
          143283,
          206965,
          243034,
          304006
         ],
         "yaxis": "y"
        },
        {
         "alignmentgroup": "True",
         "hovertemplate": "<b>%{hovertext}</b><br><br>Ethnicity, Sex=Male, Not Hispanic<br>Year=%{x}<br>Enrollment=%{y}<extra></extra>",
         "hovertext": [
          "Male, Not Hispanic",
          "Male, Not Hispanic",
          "Male, Not Hispanic",
          "Male, Not Hispanic",
          "Male, Not Hispanic",
          "Male, Not Hispanic"
         ],
         "legendgroup": "Male, Not Hispanic",
         "marker": {
          "color": "#00cc96",
          "pattern": {
           "shape": ""
          }
         },
         "name": "Male, Not Hispanic",
         "offsetgroup": "Male, Not Hispanic",
         "orientation": "v",
         "showlegend": true,
         "textposition": "auto",
         "type": "bar",
         "x": [
          2016,
          2017,
          2018,
          2019,
          2020,
          2021
         ],
         "xaxis": "x",
         "y": [
          1414034,
          4271627,
          999889,
          949603,
          987506,
          1664913
         ],
         "yaxis": "y"
        },
        {
         "alignmentgroup": "True",
         "hovertemplate": "<b>%{hovertext}</b><br><br>Ethnicity, Sex=Male, Hispanic Latino<br>Year=%{x}<br>Enrollment=%{y}<extra></extra>",
         "hovertext": [
          "Male, Hispanic Latino",
          "Male, Hispanic Latino",
          "Male, Hispanic Latino",
          "Male, Hispanic Latino",
          "Male, Hispanic Latino",
          "Male, Hispanic Latino"
         ],
         "legendgroup": "Male, Hispanic Latino",
         "marker": {
          "color": "#ab63fa",
          "pattern": {
           "shape": ""
          }
         },
         "name": "Male, Hispanic Latino",
         "offsetgroup": "Male, Hispanic Latino",
         "orientation": "v",
         "showlegend": true,
         "textposition": "auto",
         "type": "bar",
         "x": [
          2016,
          2017,
          2018,
          2019,
          2020,
          2021
         ],
         "xaxis": "x",
         "y": [
          136656,
          118711,
          84300,
          87192,
          82945,
          105038
         ],
         "yaxis": "y"
        }
       ],
       "layout": {
        "barmode": "relative",
        "legend": {
         "title": {
          "text": "Ethnicity, Sex"
         },
         "tracegroupgap": 0
        },
        "margin": {
         "t": 60
        },
        "template": {
         "data": {
          "bar": [
           {
            "error_x": {
             "color": "#2a3f5f"
            },
            "error_y": {
             "color": "#2a3f5f"
            },
            "marker": {
             "line": {
              "color": "#E5ECF6",
              "width": 0.5
             },
             "pattern": {
              "fillmode": "overlay",
              "size": 10,
              "solidity": 0.2
             }
            },
            "type": "bar"
           }
          ],
          "barpolar": [
           {
            "marker": {
             "line": {
              "color": "#E5ECF6",
              "width": 0.5
             },
             "pattern": {
              "fillmode": "overlay",
              "size": 10,
              "solidity": 0.2
             }
            },
            "type": "barpolar"
           }
          ],
          "carpet": [
           {
            "aaxis": {
             "endlinecolor": "#2a3f5f",
             "gridcolor": "white",
             "linecolor": "white",
             "minorgridcolor": "white",
             "startlinecolor": "#2a3f5f"
            },
            "baxis": {
             "endlinecolor": "#2a3f5f",
             "gridcolor": "white",
             "linecolor": "white",
             "minorgridcolor": "white",
             "startlinecolor": "#2a3f5f"
            },
            "type": "carpet"
           }
          ],
          "choropleth": [
           {
            "colorbar": {
             "outlinewidth": 0,
             "ticks": ""
            },
            "type": "choropleth"
           }
          ],
          "contour": [
           {
            "colorbar": {
             "outlinewidth": 0,
             "ticks": ""
            },
            "colorscale": [
             [
              0,
              "#0d0887"
             ],
             [
              0.1111111111111111,
              "#46039f"
             ],
             [
              0.2222222222222222,
              "#7201a8"
             ],
             [
              0.3333333333333333,
              "#9c179e"
             ],
             [
              0.4444444444444444,
              "#bd3786"
             ],
             [
              0.5555555555555556,
              "#d8576b"
             ],
             [
              0.6666666666666666,
              "#ed7953"
             ],
             [
              0.7777777777777778,
              "#fb9f3a"
             ],
             [
              0.8888888888888888,
              "#fdca26"
             ],
             [
              1,
              "#f0f921"
             ]
            ],
            "type": "contour"
           }
          ],
          "contourcarpet": [
           {
            "colorbar": {
             "outlinewidth": 0,
             "ticks": ""
            },
            "type": "contourcarpet"
           }
          ],
          "heatmap": [
           {
            "colorbar": {
             "outlinewidth": 0,
             "ticks": ""
            },
            "colorscale": [
             [
              0,
              "#0d0887"
             ],
             [
              0.1111111111111111,
              "#46039f"
             ],
             [
              0.2222222222222222,
              "#7201a8"
             ],
             [
              0.3333333333333333,
              "#9c179e"
             ],
             [
              0.4444444444444444,
              "#bd3786"
             ],
             [
              0.5555555555555556,
              "#d8576b"
             ],
             [
              0.6666666666666666,
              "#ed7953"
             ],
             [
              0.7777777777777778,
              "#fb9f3a"
             ],
             [
              0.8888888888888888,
              "#fdca26"
             ],
             [
              1,
              "#f0f921"
             ]
            ],
            "type": "heatmap"
           }
          ],
          "heatmapgl": [
           {
            "colorbar": {
             "outlinewidth": 0,
             "ticks": ""
            },
            "colorscale": [
             [
              0,
              "#0d0887"
             ],
             [
              0.1111111111111111,
              "#46039f"
             ],
             [
              0.2222222222222222,
              "#7201a8"
             ],
             [
              0.3333333333333333,
              "#9c179e"
             ],
             [
              0.4444444444444444,
              "#bd3786"
             ],
             [
              0.5555555555555556,
              "#d8576b"
             ],
             [
              0.6666666666666666,
              "#ed7953"
             ],
             [
              0.7777777777777778,
              "#fb9f3a"
             ],
             [
              0.8888888888888888,
              "#fdca26"
             ],
             [
              1,
              "#f0f921"
             ]
            ],
            "type": "heatmapgl"
           }
          ],
          "histogram": [
           {
            "marker": {
             "pattern": {
              "fillmode": "overlay",
              "size": 10,
              "solidity": 0.2
             }
            },
            "type": "histogram"
           }
          ],
          "histogram2d": [
           {
            "colorbar": {
             "outlinewidth": 0,
             "ticks": ""
            },
            "colorscale": [
             [
              0,
              "#0d0887"
             ],
             [
              0.1111111111111111,
              "#46039f"
             ],
             [
              0.2222222222222222,
              "#7201a8"
             ],
             [
              0.3333333333333333,
              "#9c179e"
             ],
             [
              0.4444444444444444,
              "#bd3786"
             ],
             [
              0.5555555555555556,
              "#d8576b"
             ],
             [
              0.6666666666666666,
              "#ed7953"
             ],
             [
              0.7777777777777778,
              "#fb9f3a"
             ],
             [
              0.8888888888888888,
              "#fdca26"
             ],
             [
              1,
              "#f0f921"
             ]
            ],
            "type": "histogram2d"
           }
          ],
          "histogram2dcontour": [
           {
            "colorbar": {
             "outlinewidth": 0,
             "ticks": ""
            },
            "colorscale": [
             [
              0,
              "#0d0887"
             ],
             [
              0.1111111111111111,
              "#46039f"
             ],
             [
              0.2222222222222222,
              "#7201a8"
             ],
             [
              0.3333333333333333,
              "#9c179e"
             ],
             [
              0.4444444444444444,
              "#bd3786"
             ],
             [
              0.5555555555555556,
              "#d8576b"
             ],
             [
              0.6666666666666666,
              "#ed7953"
             ],
             [
              0.7777777777777778,
              "#fb9f3a"
             ],
             [
              0.8888888888888888,
              "#fdca26"
             ],
             [
              1,
              "#f0f921"
             ]
            ],
            "type": "histogram2dcontour"
           }
          ],
          "mesh3d": [
           {
            "colorbar": {
             "outlinewidth": 0,
             "ticks": ""
            },
            "type": "mesh3d"
           }
          ],
          "parcoords": [
           {
            "line": {
             "colorbar": {
              "outlinewidth": 0,
              "ticks": ""
             }
            },
            "type": "parcoords"
           }
          ],
          "pie": [
           {
            "automargin": true,
            "type": "pie"
           }
          ],
          "scatter": [
           {
            "fillpattern": {
             "fillmode": "overlay",
             "size": 10,
             "solidity": 0.2
            },
            "type": "scatter"
           }
          ],
          "scatter3d": [
           {
            "line": {
             "colorbar": {
              "outlinewidth": 0,
              "ticks": ""
             }
            },
            "marker": {
             "colorbar": {
              "outlinewidth": 0,
              "ticks": ""
             }
            },
            "type": "scatter3d"
           }
          ],
          "scattercarpet": [
           {
            "marker": {
             "colorbar": {
              "outlinewidth": 0,
              "ticks": ""
             }
            },
            "type": "scattercarpet"
           }
          ],
          "scattergeo": [
           {
            "marker": {
             "colorbar": {
              "outlinewidth": 0,
              "ticks": ""
             }
            },
            "type": "scattergeo"
           }
          ],
          "scattergl": [
           {
            "marker": {
             "colorbar": {
              "outlinewidth": 0,
              "ticks": ""
             }
            },
            "type": "scattergl"
           }
          ],
          "scattermapbox": [
           {
            "marker": {
             "colorbar": {
              "outlinewidth": 0,
              "ticks": ""
             }
            },
            "type": "scattermapbox"
           }
          ],
          "scatterpolar": [
           {
            "marker": {
             "colorbar": {
              "outlinewidth": 0,
              "ticks": ""
             }
            },
            "type": "scatterpolar"
           }
          ],
          "scatterpolargl": [
           {
            "marker": {
             "colorbar": {
              "outlinewidth": 0,
              "ticks": ""
             }
            },
            "type": "scatterpolargl"
           }
          ],
          "scatterternary": [
           {
            "marker": {
             "colorbar": {
              "outlinewidth": 0,
              "ticks": ""
             }
            },
            "type": "scatterternary"
           }
          ],
          "surface": [
           {
            "colorbar": {
             "outlinewidth": 0,
             "ticks": ""
            },
            "colorscale": [
             [
              0,
              "#0d0887"
             ],
             [
              0.1111111111111111,
              "#46039f"
             ],
             [
              0.2222222222222222,
              "#7201a8"
             ],
             [
              0.3333333333333333,
              "#9c179e"
             ],
             [
              0.4444444444444444,
              "#bd3786"
             ],
             [
              0.5555555555555556,
              "#d8576b"
             ],
             [
              0.6666666666666666,
              "#ed7953"
             ],
             [
              0.7777777777777778,
              "#fb9f3a"
             ],
             [
              0.8888888888888888,
              "#fdca26"
             ],
             [
              1,
              "#f0f921"
             ]
            ],
            "type": "surface"
           }
          ],
          "table": [
           {
            "cells": {
             "fill": {
              "color": "#EBF0F8"
             },
             "line": {
              "color": "white"
             }
            },
            "header": {
             "fill": {
              "color": "#C8D4E3"
             },
             "line": {
              "color": "white"
             }
            },
            "type": "table"
           }
          ]
         },
         "layout": {
          "annotationdefaults": {
           "arrowcolor": "#2a3f5f",
           "arrowhead": 0,
           "arrowwidth": 1
          },
          "autotypenumbers": "strict",
          "coloraxis": {
           "colorbar": {
            "outlinewidth": 0,
            "ticks": ""
           }
          },
          "colorscale": {
           "diverging": [
            [
             0,
             "#8e0152"
            ],
            [
             0.1,
             "#c51b7d"
            ],
            [
             0.2,
             "#de77ae"
            ],
            [
             0.3,
             "#f1b6da"
            ],
            [
             0.4,
             "#fde0ef"
            ],
            [
             0.5,
             "#f7f7f7"
            ],
            [
             0.6,
             "#e6f5d0"
            ],
            [
             0.7,
             "#b8e186"
            ],
            [
             0.8,
             "#7fbc41"
            ],
            [
             0.9,
             "#4d9221"
            ],
            [
             1,
             "#276419"
            ]
           ],
           "sequential": [
            [
             0,
             "#0d0887"
            ],
            [
             0.1111111111111111,
             "#46039f"
            ],
            [
             0.2222222222222222,
             "#7201a8"
            ],
            [
             0.3333333333333333,
             "#9c179e"
            ],
            [
             0.4444444444444444,
             "#bd3786"
            ],
            [
             0.5555555555555556,
             "#d8576b"
            ],
            [
             0.6666666666666666,
             "#ed7953"
            ],
            [
             0.7777777777777778,
             "#fb9f3a"
            ],
            [
             0.8888888888888888,
             "#fdca26"
            ],
            [
             1,
             "#f0f921"
            ]
           ],
           "sequentialminus": [
            [
             0,
             "#0d0887"
            ],
            [
             0.1111111111111111,
             "#46039f"
            ],
            [
             0.2222222222222222,
             "#7201a8"
            ],
            [
             0.3333333333333333,
             "#9c179e"
            ],
            [
             0.4444444444444444,
             "#bd3786"
            ],
            [
             0.5555555555555556,
             "#d8576b"
            ],
            [
             0.6666666666666666,
             "#ed7953"
            ],
            [
             0.7777777777777778,
             "#fb9f3a"
            ],
            [
             0.8888888888888888,
             "#fdca26"
            ],
            [
             1,
             "#f0f921"
            ]
           ]
          },
          "colorway": [
           "#636efa",
           "#EF553B",
           "#00cc96",
           "#ab63fa",
           "#FFA15A",
           "#19d3f3",
           "#FF6692",
           "#B6E880",
           "#FF97FF",
           "#FECB52"
          ],
          "font": {
           "color": "#2a3f5f"
          },
          "geo": {
           "bgcolor": "white",
           "lakecolor": "white",
           "landcolor": "#E5ECF6",
           "showlakes": true,
           "showland": true,
           "subunitcolor": "white"
          },
          "hoverlabel": {
           "align": "left"
          },
          "hovermode": "closest",
          "mapbox": {
           "style": "light"
          },
          "paper_bgcolor": "white",
          "plot_bgcolor": "#E5ECF6",
          "polar": {
           "angularaxis": {
            "gridcolor": "white",
            "linecolor": "white",
            "ticks": ""
           },
           "bgcolor": "#E5ECF6",
           "radialaxis": {
            "gridcolor": "white",
            "linecolor": "white",
            "ticks": ""
           }
          },
          "scene": {
           "xaxis": {
            "backgroundcolor": "#E5ECF6",
            "gridcolor": "white",
            "gridwidth": 2,
            "linecolor": "white",
            "showbackground": true,
            "ticks": "",
            "zerolinecolor": "white"
           },
           "yaxis": {
            "backgroundcolor": "#E5ECF6",
            "gridcolor": "white",
            "gridwidth": 2,
            "linecolor": "white",
            "showbackground": true,
            "ticks": "",
            "zerolinecolor": "white"
           },
           "zaxis": {
            "backgroundcolor": "#E5ECF6",
            "gridcolor": "white",
            "gridwidth": 2,
            "linecolor": "white",
            "showbackground": true,
            "ticks": "",
            "zerolinecolor": "white"
           }
          },
          "shapedefaults": {
           "line": {
            "color": "#2a3f5f"
           }
          },
          "ternary": {
           "aaxis": {
            "gridcolor": "white",
            "linecolor": "white",
            "ticks": ""
           },
           "baxis": {
            "gridcolor": "white",
            "linecolor": "white",
            "ticks": ""
           },
           "bgcolor": "#E5ECF6",
           "caxis": {
            "gridcolor": "white",
            "linecolor": "white",
            "ticks": ""
           }
          },
          "title": {
           "x": 0.05
          },
          "xaxis": {
           "automargin": true,
           "gridcolor": "white",
           "linecolor": "white",
           "ticks": "",
           "title": {
            "standoff": 15
           },
           "zerolinecolor": "white",
           "zerolinewidth": 2
          },
          "yaxis": {
           "automargin": true,
           "gridcolor": "white",
           "linecolor": "white",
           "ticks": "",
           "title": {
            "standoff": 15
           },
           "zerolinecolor": "white",
           "zerolinewidth": 2
          }
         }
        },
        "xaxis": {
         "anchor": "y",
         "domain": [
          0,
          1
         ],
         "title": {
          "text": "Year"
         }
        },
        "yaxis": {
         "anchor": "x",
         "domain": [
          0,
          1
         ],
         "title": {
          "text": "Enrollment"
         }
        }
       }
      },
      "text/html": [
       "<div>                            <div id=\"82ce3a01-4bfa-494e-abc4-4e790101704b\" class=\"plotly-graph-div\" style=\"height:525px; width:100%;\"></div>            <script type=\"text/javascript\">                require([\"plotly\"], function(Plotly) {                    window.PLOTLYENV=window.PLOTLYENV || {};                                    if (document.getElementById(\"82ce3a01-4bfa-494e-abc4-4e790101704b\")) {                    Plotly.newPlot(                        \"82ce3a01-4bfa-494e-abc4-4e790101704b\",                        [{\"alignmentgroup\":\"True\",\"hovertemplate\":\"<b>%{hovertext}</b><br><br>Ethnicity, Sex=Female, Not Hispanic<br>Year=%{x}<br>Enrollment=%{y}<extra></extra>\",\"hovertext\":[\"Female, Not Hispanic\",\"Female, Not Hispanic\",\"Female, Not Hispanic\",\"Female, Not Hispanic\",\"Female, Not Hispanic\",\"Female, Not Hispanic\"],\"legendgroup\":\"Female, Not Hispanic\",\"marker\":{\"color\":\"#636efa\",\"pattern\":{\"shape\":\"\"}},\"name\":\"Female, Not Hispanic\",\"offsetgroup\":\"Female, Not Hispanic\",\"orientation\":\"v\",\"showlegend\":true,\"textposition\":\"auto\",\"x\":[2016,2017,2018,2019,2020,2021],\"xaxis\":\"x\",\"y\":[2257542,3343498,1576153,1542085,1757027,2645146],\"yaxis\":\"y\",\"type\":\"bar\"},{\"alignmentgroup\":\"True\",\"hovertemplate\":\"<b>%{hovertext}</b><br><br>Ethnicity, Sex=Female, Hispanic Latino<br>Year=%{x}<br>Enrollment=%{y}<extra></extra>\",\"hovertext\":[\"Female, Hispanic Latino\",\"Female, Hispanic Latino\",\"Female, Hispanic Latino\",\"Female, Hispanic Latino\",\"Female, Hispanic Latino\",\"Female, Hispanic Latino\"],\"legendgroup\":\"Female, Hispanic Latino\",\"marker\":{\"color\":\"#EF553B\",\"pattern\":{\"shape\":\"\"}},\"name\":\"Female, Hispanic Latino\",\"offsetgroup\":\"Female, Hispanic Latino\",\"orientation\":\"v\",\"showlegend\":true,\"textposition\":\"auto\",\"x\":[2016,2017,2018,2019,2020,2021],\"xaxis\":\"x\",\"y\":[189508,184035,143283,206965,243034,304006],\"yaxis\":\"y\",\"type\":\"bar\"},{\"alignmentgroup\":\"True\",\"hovertemplate\":\"<b>%{hovertext}</b><br><br>Ethnicity, Sex=Male, Not Hispanic<br>Year=%{x}<br>Enrollment=%{y}<extra></extra>\",\"hovertext\":[\"Male, Not Hispanic\",\"Male, Not Hispanic\",\"Male, Not Hispanic\",\"Male, Not Hispanic\",\"Male, Not Hispanic\",\"Male, Not Hispanic\"],\"legendgroup\":\"Male, Not Hispanic\",\"marker\":{\"color\":\"#00cc96\",\"pattern\":{\"shape\":\"\"}},\"name\":\"Male, Not Hispanic\",\"offsetgroup\":\"Male, Not Hispanic\",\"orientation\":\"v\",\"showlegend\":true,\"textposition\":\"auto\",\"x\":[2016,2017,2018,2019,2020,2021],\"xaxis\":\"x\",\"y\":[1414034,4271627,999889,949603,987506,1664913],\"yaxis\":\"y\",\"type\":\"bar\"},{\"alignmentgroup\":\"True\",\"hovertemplate\":\"<b>%{hovertext}</b><br><br>Ethnicity, Sex=Male, Hispanic Latino<br>Year=%{x}<br>Enrollment=%{y}<extra></extra>\",\"hovertext\":[\"Male, Hispanic Latino\",\"Male, Hispanic Latino\",\"Male, Hispanic Latino\",\"Male, Hispanic Latino\",\"Male, Hispanic Latino\",\"Male, Hispanic Latino\"],\"legendgroup\":\"Male, Hispanic Latino\",\"marker\":{\"color\":\"#ab63fa\",\"pattern\":{\"shape\":\"\"}},\"name\":\"Male, Hispanic Latino\",\"offsetgroup\":\"Male, Hispanic Latino\",\"orientation\":\"v\",\"showlegend\":true,\"textposition\":\"auto\",\"x\":[2016,2017,2018,2019,2020,2021],\"xaxis\":\"x\",\"y\":[136656,118711,84300,87192,82945,105038],\"yaxis\":\"y\",\"type\":\"bar\"}],                        {\"template\":{\"data\":{\"histogram2dcontour\":[{\"type\":\"histogram2dcontour\",\"colorbar\":{\"outlinewidth\":0,\"ticks\":\"\"},\"colorscale\":[[0.0,\"#0d0887\"],[0.1111111111111111,\"#46039f\"],[0.2222222222222222,\"#7201a8\"],[0.3333333333333333,\"#9c179e\"],[0.4444444444444444,\"#bd3786\"],[0.5555555555555556,\"#d8576b\"],[0.6666666666666666,\"#ed7953\"],[0.7777777777777778,\"#fb9f3a\"],[0.8888888888888888,\"#fdca26\"],[1.0,\"#f0f921\"]]}],\"choropleth\":[{\"type\":\"choropleth\",\"colorbar\":{\"outlinewidth\":0,\"ticks\":\"\"}}],\"histogram2d\":[{\"type\":\"histogram2d\",\"colorbar\":{\"outlinewidth\":0,\"ticks\":\"\"},\"colorscale\":[[0.0,\"#0d0887\"],[0.1111111111111111,\"#46039f\"],[0.2222222222222222,\"#7201a8\"],[0.3333333333333333,\"#9c179e\"],[0.4444444444444444,\"#bd3786\"],[0.5555555555555556,\"#d8576b\"],[0.6666666666666666,\"#ed7953\"],[0.7777777777777778,\"#fb9f3a\"],[0.8888888888888888,\"#fdca26\"],[1.0,\"#f0f921\"]]}],\"heatmap\":[{\"type\":\"heatmap\",\"colorbar\":{\"outlinewidth\":0,\"ticks\":\"\"},\"colorscale\":[[0.0,\"#0d0887\"],[0.1111111111111111,\"#46039f\"],[0.2222222222222222,\"#7201a8\"],[0.3333333333333333,\"#9c179e\"],[0.4444444444444444,\"#bd3786\"],[0.5555555555555556,\"#d8576b\"],[0.6666666666666666,\"#ed7953\"],[0.7777777777777778,\"#fb9f3a\"],[0.8888888888888888,\"#fdca26\"],[1.0,\"#f0f921\"]]}],\"heatmapgl\":[{\"type\":\"heatmapgl\",\"colorbar\":{\"outlinewidth\":0,\"ticks\":\"\"},\"colorscale\":[[0.0,\"#0d0887\"],[0.1111111111111111,\"#46039f\"],[0.2222222222222222,\"#7201a8\"],[0.3333333333333333,\"#9c179e\"],[0.4444444444444444,\"#bd3786\"],[0.5555555555555556,\"#d8576b\"],[0.6666666666666666,\"#ed7953\"],[0.7777777777777778,\"#fb9f3a\"],[0.8888888888888888,\"#fdca26\"],[1.0,\"#f0f921\"]]}],\"contourcarpet\":[{\"type\":\"contourcarpet\",\"colorbar\":{\"outlinewidth\":0,\"ticks\":\"\"}}],\"contour\":[{\"type\":\"contour\",\"colorbar\":{\"outlinewidth\":0,\"ticks\":\"\"},\"colorscale\":[[0.0,\"#0d0887\"],[0.1111111111111111,\"#46039f\"],[0.2222222222222222,\"#7201a8\"],[0.3333333333333333,\"#9c179e\"],[0.4444444444444444,\"#bd3786\"],[0.5555555555555556,\"#d8576b\"],[0.6666666666666666,\"#ed7953\"],[0.7777777777777778,\"#fb9f3a\"],[0.8888888888888888,\"#fdca26\"],[1.0,\"#f0f921\"]]}],\"surface\":[{\"type\":\"surface\",\"colorbar\":{\"outlinewidth\":0,\"ticks\":\"\"},\"colorscale\":[[0.0,\"#0d0887\"],[0.1111111111111111,\"#46039f\"],[0.2222222222222222,\"#7201a8\"],[0.3333333333333333,\"#9c179e\"],[0.4444444444444444,\"#bd3786\"],[0.5555555555555556,\"#d8576b\"],[0.6666666666666666,\"#ed7953\"],[0.7777777777777778,\"#fb9f3a\"],[0.8888888888888888,\"#fdca26\"],[1.0,\"#f0f921\"]]}],\"mesh3d\":[{\"type\":\"mesh3d\",\"colorbar\":{\"outlinewidth\":0,\"ticks\":\"\"}}],\"scatter\":[{\"fillpattern\":{\"fillmode\":\"overlay\",\"size\":10,\"solidity\":0.2},\"type\":\"scatter\"}],\"parcoords\":[{\"type\":\"parcoords\",\"line\":{\"colorbar\":{\"outlinewidth\":0,\"ticks\":\"\"}}}],\"scatterpolargl\":[{\"type\":\"scatterpolargl\",\"marker\":{\"colorbar\":{\"outlinewidth\":0,\"ticks\":\"\"}}}],\"bar\":[{\"error_x\":{\"color\":\"#2a3f5f\"},\"error_y\":{\"color\":\"#2a3f5f\"},\"marker\":{\"line\":{\"color\":\"#E5ECF6\",\"width\":0.5},\"pattern\":{\"fillmode\":\"overlay\",\"size\":10,\"solidity\":0.2}},\"type\":\"bar\"}],\"scattergeo\":[{\"type\":\"scattergeo\",\"marker\":{\"colorbar\":{\"outlinewidth\":0,\"ticks\":\"\"}}}],\"scatterpolar\":[{\"type\":\"scatterpolar\",\"marker\":{\"colorbar\":{\"outlinewidth\":0,\"ticks\":\"\"}}}],\"histogram\":[{\"marker\":{\"pattern\":{\"fillmode\":\"overlay\",\"size\":10,\"solidity\":0.2}},\"type\":\"histogram\"}],\"scattergl\":[{\"type\":\"scattergl\",\"marker\":{\"colorbar\":{\"outlinewidth\":0,\"ticks\":\"\"}}}],\"scatter3d\":[{\"type\":\"scatter3d\",\"line\":{\"colorbar\":{\"outlinewidth\":0,\"ticks\":\"\"}},\"marker\":{\"colorbar\":{\"outlinewidth\":0,\"ticks\":\"\"}}}],\"scattermapbox\":[{\"type\":\"scattermapbox\",\"marker\":{\"colorbar\":{\"outlinewidth\":0,\"ticks\":\"\"}}}],\"scatterternary\":[{\"type\":\"scatterternary\",\"marker\":{\"colorbar\":{\"outlinewidth\":0,\"ticks\":\"\"}}}],\"scattercarpet\":[{\"type\":\"scattercarpet\",\"marker\":{\"colorbar\":{\"outlinewidth\":0,\"ticks\":\"\"}}}],\"carpet\":[{\"aaxis\":{\"endlinecolor\":\"#2a3f5f\",\"gridcolor\":\"white\",\"linecolor\":\"white\",\"minorgridcolor\":\"white\",\"startlinecolor\":\"#2a3f5f\"},\"baxis\":{\"endlinecolor\":\"#2a3f5f\",\"gridcolor\":\"white\",\"linecolor\":\"white\",\"minorgridcolor\":\"white\",\"startlinecolor\":\"#2a3f5f\"},\"type\":\"carpet\"}],\"table\":[{\"cells\":{\"fill\":{\"color\":\"#EBF0F8\"},\"line\":{\"color\":\"white\"}},\"header\":{\"fill\":{\"color\":\"#C8D4E3\"},\"line\":{\"color\":\"white\"}},\"type\":\"table\"}],\"barpolar\":[{\"marker\":{\"line\":{\"color\":\"#E5ECF6\",\"width\":0.5},\"pattern\":{\"fillmode\":\"overlay\",\"size\":10,\"solidity\":0.2}},\"type\":\"barpolar\"}],\"pie\":[{\"automargin\":true,\"type\":\"pie\"}]},\"layout\":{\"autotypenumbers\":\"strict\",\"colorway\":[\"#636efa\",\"#EF553B\",\"#00cc96\",\"#ab63fa\",\"#FFA15A\",\"#19d3f3\",\"#FF6692\",\"#B6E880\",\"#FF97FF\",\"#FECB52\"],\"font\":{\"color\":\"#2a3f5f\"},\"hovermode\":\"closest\",\"hoverlabel\":{\"align\":\"left\"},\"paper_bgcolor\":\"white\",\"plot_bgcolor\":\"#E5ECF6\",\"polar\":{\"bgcolor\":\"#E5ECF6\",\"angularaxis\":{\"gridcolor\":\"white\",\"linecolor\":\"white\",\"ticks\":\"\"},\"radialaxis\":{\"gridcolor\":\"white\",\"linecolor\":\"white\",\"ticks\":\"\"}},\"ternary\":{\"bgcolor\":\"#E5ECF6\",\"aaxis\":{\"gridcolor\":\"white\",\"linecolor\":\"white\",\"ticks\":\"\"},\"baxis\":{\"gridcolor\":\"white\",\"linecolor\":\"white\",\"ticks\":\"\"},\"caxis\":{\"gridcolor\":\"white\",\"linecolor\":\"white\",\"ticks\":\"\"}},\"coloraxis\":{\"colorbar\":{\"outlinewidth\":0,\"ticks\":\"\"}},\"colorscale\":{\"sequential\":[[0.0,\"#0d0887\"],[0.1111111111111111,\"#46039f\"],[0.2222222222222222,\"#7201a8\"],[0.3333333333333333,\"#9c179e\"],[0.4444444444444444,\"#bd3786\"],[0.5555555555555556,\"#d8576b\"],[0.6666666666666666,\"#ed7953\"],[0.7777777777777778,\"#fb9f3a\"],[0.8888888888888888,\"#fdca26\"],[1.0,\"#f0f921\"]],\"sequentialminus\":[[0.0,\"#0d0887\"],[0.1111111111111111,\"#46039f\"],[0.2222222222222222,\"#7201a8\"],[0.3333333333333333,\"#9c179e\"],[0.4444444444444444,\"#bd3786\"],[0.5555555555555556,\"#d8576b\"],[0.6666666666666666,\"#ed7953\"],[0.7777777777777778,\"#fb9f3a\"],[0.8888888888888888,\"#fdca26\"],[1.0,\"#f0f921\"]],\"diverging\":[[0,\"#8e0152\"],[0.1,\"#c51b7d\"],[0.2,\"#de77ae\"],[0.3,\"#f1b6da\"],[0.4,\"#fde0ef\"],[0.5,\"#f7f7f7\"],[0.6,\"#e6f5d0\"],[0.7,\"#b8e186\"],[0.8,\"#7fbc41\"],[0.9,\"#4d9221\"],[1,\"#276419\"]]},\"xaxis\":{\"gridcolor\":\"white\",\"linecolor\":\"white\",\"ticks\":\"\",\"title\":{\"standoff\":15},\"zerolinecolor\":\"white\",\"automargin\":true,\"zerolinewidth\":2},\"yaxis\":{\"gridcolor\":\"white\",\"linecolor\":\"white\",\"ticks\":\"\",\"title\":{\"standoff\":15},\"zerolinecolor\":\"white\",\"automargin\":true,\"zerolinewidth\":2},\"scene\":{\"xaxis\":{\"backgroundcolor\":\"#E5ECF6\",\"gridcolor\":\"white\",\"linecolor\":\"white\",\"showbackground\":true,\"ticks\":\"\",\"zerolinecolor\":\"white\",\"gridwidth\":2},\"yaxis\":{\"backgroundcolor\":\"#E5ECF6\",\"gridcolor\":\"white\",\"linecolor\":\"white\",\"showbackground\":true,\"ticks\":\"\",\"zerolinecolor\":\"white\",\"gridwidth\":2},\"zaxis\":{\"backgroundcolor\":\"#E5ECF6\",\"gridcolor\":\"white\",\"linecolor\":\"white\",\"showbackground\":true,\"ticks\":\"\",\"zerolinecolor\":\"white\",\"gridwidth\":2}},\"shapedefaults\":{\"line\":{\"color\":\"#2a3f5f\"}},\"annotationdefaults\":{\"arrowcolor\":\"#2a3f5f\",\"arrowhead\":0,\"arrowwidth\":1},\"geo\":{\"bgcolor\":\"white\",\"landcolor\":\"#E5ECF6\",\"subunitcolor\":\"white\",\"showland\":true,\"showlakes\":true,\"lakecolor\":\"white\"},\"title\":{\"x\":0.05},\"mapbox\":{\"style\":\"light\"}}},\"xaxis\":{\"anchor\":\"y\",\"domain\":[0.0,1.0],\"title\":{\"text\":\"Year\"}},\"yaxis\":{\"anchor\":\"x\",\"domain\":[0.0,1.0],\"title\":{\"text\":\"Enrollment\"}},\"legend\":{\"title\":{\"text\":\"Ethnicity, Sex\"},\"tracegroupgap\":0},\"margin\":{\"t\":60},\"barmode\":\"relative\"},                        {\"responsive\": true}                    ).then(function(){\n",
       "                            \n",
       "var gd = document.getElementById('82ce3a01-4bfa-494e-abc4-4e790101704b');\n",
       "var x = new MutationObserver(function (mutations, observer) {{\n",
       "        var display = window.getComputedStyle(gd).display;\n",
       "        if (!display || display === 'none') {{\n",
       "            console.log([gd, 'removed!']);\n",
       "            Plotly.purge(gd);\n",
       "            observer.disconnect();\n",
       "        }}\n",
       "}});\n",
       "\n",
       "// Listen for the removal of the full notebook cells\n",
       "var notebookContainer = gd.closest('#notebook-container');\n",
       "if (notebookContainer) {{\n",
       "    x.observe(notebookContainer, {childList: true});\n",
       "}}\n",
       "\n",
       "// Listen for the clearing of the current output cell\n",
       "var outputEl = gd.closest('.output');\n",
       "if (outputEl) {{\n",
       "    x.observe(outputEl, {childList: true});\n",
       "}}\n",
       "\n",
       "                        })                };                });            </script>        </div>"
      ]
     },
     "metadata": {},
     "output_type": "display_data"
    }
   ],
   "source": [
    "import plotly.express as px\n",
    "fig = px.bar(enroll_ethn, x=\"Year\", y=\"Enrollment\", \n",
    "             color='Ethnicity, Sex', hover_name=\"Ethnicity, Sex\")\n",
    "fig.show()"
   ]
  },
  {
   "cell_type": "markdown",
   "id": "55a64f4f",
   "metadata": {},
   "source": [
    "## Sex & Race vs Enrollment for NIH-Defined Clinical Research"
   ]
  },
  {
   "cell_type": "code",
   "execution_count": 88,
   "id": "10d4a4e8",
   "metadata": {},
   "outputs": [
    {
     "data": {
      "text/html": [
       "<div>\n",
       "<style scoped>\n",
       "    .dataframe tbody tr th:only-of-type {\n",
       "        vertical-align: middle;\n",
       "    }\n",
       "\n",
       "    .dataframe tbody tr th {\n",
       "        vertical-align: top;\n",
       "    }\n",
       "\n",
       "    .dataframe thead th {\n",
       "        text-align: right;\n",
       "    }\n",
       "</style>\n",
       "<table border=\"1\" class=\"dataframe\">\n",
       "  <thead>\n",
       "    <tr style=\"text-align: right;\">\n",
       "      <th></th>\n",
       "      <th>Year</th>\n",
       "      <th>Sex</th>\n",
       "      <th>Race</th>\n",
       "      <th>Enrollment</th>\n",
       "    </tr>\n",
       "  </thead>\n",
       "  <tbody>\n",
       "    <tr>\n",
       "      <th>0</th>\n",
       "      <td>2016</td>\n",
       "      <td>Female</td>\n",
       "      <td>American Indian Alaska Native</td>\n",
       "      <td>8289</td>\n",
       "    </tr>\n",
       "    <tr>\n",
       "      <th>1</th>\n",
       "      <td>2016</td>\n",
       "      <td>Female</td>\n",
       "      <td>Asian</td>\n",
       "      <td>185301</td>\n",
       "    </tr>\n",
       "    <tr>\n",
       "      <th>2</th>\n",
       "      <td>2016</td>\n",
       "      <td>Female</td>\n",
       "      <td>Black African American</td>\n",
       "      <td>162469</td>\n",
       "    </tr>\n",
       "    <tr>\n",
       "      <th>3</th>\n",
       "      <td>2016</td>\n",
       "      <td>Female</td>\n",
       "      <td>Native Hawaiian Pacific Islander</td>\n",
       "      <td>3832</td>\n",
       "    </tr>\n",
       "    <tr>\n",
       "      <th>4</th>\n",
       "      <td>2016</td>\n",
       "      <td>Female</td>\n",
       "      <td>White</td>\n",
       "      <td>2147704</td>\n",
       "    </tr>\n",
       "    <tr>\n",
       "      <th>...</th>\n",
       "      <td>...</td>\n",
       "      <td>...</td>\n",
       "      <td>...</td>\n",
       "      <td>...</td>\n",
       "    </tr>\n",
       "    <tr>\n",
       "      <th>67</th>\n",
       "      <td>2021</td>\n",
       "      <td>Male</td>\n",
       "      <td>Asian</td>\n",
       "      <td>137938</td>\n",
       "    </tr>\n",
       "    <tr>\n",
       "      <th>68</th>\n",
       "      <td>2021</td>\n",
       "      <td>Male</td>\n",
       "      <td>Black African American</td>\n",
       "      <td>175627</td>\n",
       "    </tr>\n",
       "    <tr>\n",
       "      <th>69</th>\n",
       "      <td>2021</td>\n",
       "      <td>Male</td>\n",
       "      <td>Native Hawaiian Pacific Islander</td>\n",
       "      <td>29970</td>\n",
       "    </tr>\n",
       "    <tr>\n",
       "      <th>70</th>\n",
       "      <td>2021</td>\n",
       "      <td>Male</td>\n",
       "      <td>White</td>\n",
       "      <td>1420952</td>\n",
       "    </tr>\n",
       "    <tr>\n",
       "      <th>71</th>\n",
       "      <td>2021</td>\n",
       "      <td>Male</td>\n",
       "      <td>More Than One Race</td>\n",
       "      <td>13741</td>\n",
       "    </tr>\n",
       "  </tbody>\n",
       "</table>\n",
       "<p>72 rows × 4 columns</p>\n",
       "</div>"
      ],
      "text/plain": [
       "    Year     Sex                              Race  Enrollment\n",
       "0   2016  Female     American Indian Alaska Native        8289\n",
       "1   2016  Female                             Asian      185301\n",
       "2   2016  Female            Black African American      162469\n",
       "3   2016  Female  Native Hawaiian Pacific Islander        3832\n",
       "4   2016  Female                             White     2147704\n",
       "..   ...     ...                               ...         ...\n",
       "67  2021    Male                             Asian      137938\n",
       "68  2021    Male            Black African American      175627\n",
       "69  2021    Male  Native Hawaiian Pacific Islander       29970\n",
       "70  2021    Male                             White     1420952\n",
       "71  2021    Male                More Than One Race       13741\n",
       "\n",
       "[72 rows x 4 columns]"
      ]
     },
     "execution_count": 88,
     "metadata": {},
     "output_type": "execute_result"
    }
   ],
   "source": [
    "enroll_race=pd.read_csv('~/Desktop/PIC16B/PIC16B Project/diversity/cancer/Enroll_race.csv')\n",
    "enroll_race"
   ]
  },
  {
   "cell_type": "code",
   "execution_count": 107,
   "id": "34015bba",
   "metadata": {},
   "outputs": [
    {
     "data": {
      "application/vnd.plotly.v1+json": {
       "config": {
        "plotlyServerURL": "https://plot.ly"
       },
       "data": [
        {
         "alignmentgroup": "True",
         "hovertemplate": "<b>%{hovertext}</b><br><br>Race=American Indian Alaska Native<br>Year=2016<br>Sex=%{x}<br>Enrollment=%{y}<extra></extra>",
         "hovertext": [
          "Female, American Indian Alaska Native",
          "Male, American Indian Alaska Native"
         ],
         "legendgroup": "American Indian Alaska Native",
         "marker": {
          "color": "#636efa",
          "pattern": {
           "shape": ""
          }
         },
         "name": "American Indian Alaska Native",
         "offsetgroup": "American Indian Alaska Native",
         "orientation": "v",
         "showlegend": true,
         "textposition": "auto",
         "type": "bar",
         "x": [
          "Female",
          "Male"
         ],
         "xaxis": "x",
         "y": [
          8289,
          5867
         ],
         "yaxis": "y"
        },
        {
         "alignmentgroup": "True",
         "hovertemplate": "<b>%{hovertext}</b><br><br>Race=American Indian Alaska Native<br>Year=2017<br>Sex=%{x}<br>Enrollment=%{y}<extra></extra>",
         "hovertext": [
          "Female, American Indian Alaska Native",
          "Male, American Indian Alaska Native"
         ],
         "legendgroup": "American Indian Alaska Native",
         "marker": {
          "color": "#636efa",
          "pattern": {
           "shape": ""
          }
         },
         "name": "American Indian Alaska Native",
         "offsetgroup": "American Indian Alaska Native",
         "orientation": "v",
         "showlegend": false,
         "textposition": "auto",
         "type": "bar",
         "x": [
          "Female",
          "Male"
         ],
         "xaxis": "x2",
         "y": [
          8456,
          5835
         ],
         "yaxis": "y2"
        },
        {
         "alignmentgroup": "True",
         "hovertemplate": "<b>%{hovertext}</b><br><br>Race=American Indian Alaska Native<br>Year=2018<br>Sex=%{x}<br>Enrollment=%{y}<extra></extra>",
         "hovertext": [
          "Female, American Indian Alaska Native",
          "Male, American Indian Alaska Native"
         ],
         "legendgroup": "American Indian Alaska Native",
         "marker": {
          "color": "#636efa",
          "pattern": {
           "shape": ""
          }
         },
         "name": "American Indian Alaska Native",
         "offsetgroup": "American Indian Alaska Native",
         "orientation": "v",
         "showlegend": false,
         "textposition": "auto",
         "type": "bar",
         "x": [
          "Female",
          "Male"
         ],
         "xaxis": "x3",
         "y": [
          10211,
          4083
         ],
         "yaxis": "y3"
        },
        {
         "alignmentgroup": "True",
         "hovertemplate": "<b>%{hovertext}</b><br><br>Race=American Indian Alaska Native<br>Year=2019<br>Sex=%{x}<br>Enrollment=%{y}<extra></extra>",
         "hovertext": [
          "Female, American Indian Alaska Native",
          "Male, American Indian Alaska Native"
         ],
         "legendgroup": "American Indian Alaska Native",
         "marker": {
          "color": "#636efa",
          "pattern": {
           "shape": ""
          }
         },
         "name": "American Indian Alaska Native",
         "offsetgroup": "American Indian Alaska Native",
         "orientation": "v",
         "showlegend": false,
         "textposition": "auto",
         "type": "bar",
         "x": [
          "Female",
          "Male"
         ],
         "xaxis": "x4",
         "y": [
          10457,
          3941
         ],
         "yaxis": "y4"
        },
        {
         "alignmentgroup": "True",
         "hovertemplate": "<b>%{hovertext}</b><br><br>Race=American Indian Alaska Native<br>Year=2020<br>Sex=%{x}<br>Enrollment=%{y}<extra></extra>",
         "hovertext": [
          "Female, American Indian Alaska Native",
          "Male, American Indian Alaska Native"
         ],
         "legendgroup": "American Indian Alaska Native",
         "marker": {
          "color": "#636efa",
          "pattern": {
           "shape": ""
          }
         },
         "name": "American Indian Alaska Native",
         "offsetgroup": "American Indian Alaska Native",
         "orientation": "v",
         "showlegend": false,
         "textposition": "auto",
         "type": "bar",
         "x": [
          "Female",
          "Male"
         ],
         "xaxis": "x5",
         "y": [
          14376,
          5528
         ],
         "yaxis": "y5"
        },
        {
         "alignmentgroup": "True",
         "hovertemplate": "<b>%{hovertext}</b><br><br>Race=American Indian Alaska Native<br>Year=2021<br>Sex=%{x}<br>Enrollment=%{y}<extra></extra>",
         "hovertext": [
          "Female, American Indian Alaska Native",
          "Male, American Indian Alaska Native"
         ],
         "legendgroup": "American Indian Alaska Native",
         "marker": {
          "color": "#636efa",
          "pattern": {
           "shape": ""
          }
         },
         "name": "American Indian Alaska Native",
         "offsetgroup": "American Indian Alaska Native",
         "orientation": "v",
         "showlegend": false,
         "textposition": "auto",
         "type": "bar",
         "x": [
          "Female",
          "Male"
         ],
         "xaxis": "x6",
         "y": [
          19835,
          10089
         ],
         "yaxis": "y6"
        },
        {
         "alignmentgroup": "True",
         "hovertemplate": "<b>%{hovertext}</b><br><br>Race=Asian<br>Year=2016<br>Sex=%{x}<br>Enrollment=%{y}<extra></extra>",
         "hovertext": [
          "Female, Asian",
          "Male, Asian"
         ],
         "legendgroup": "Asian",
         "marker": {
          "color": "#EF553B",
          "pattern": {
           "shape": ""
          }
         },
         "name": "Asian",
         "offsetgroup": "Asian",
         "orientation": "v",
         "showlegend": true,
         "textposition": "auto",
         "type": "bar",
         "x": [
          "Female",
          "Male"
         ],
         "xaxis": "x",
         "y": [
          185301,
          103565
         ],
         "yaxis": "y"
        },
        {
         "alignmentgroup": "True",
         "hovertemplate": "<b>%{hovertext}</b><br><br>Race=Asian<br>Year=2017<br>Sex=%{x}<br>Enrollment=%{y}<extra></extra>",
         "hovertext": [
          "Female, Asian",
          "Male, Asian"
         ],
         "legendgroup": "Asian",
         "marker": {
          "color": "#EF553B",
          "pattern": {
           "shape": ""
          }
         },
         "name": "Asian",
         "offsetgroup": "Asian",
         "orientation": "v",
         "showlegend": false,
         "textposition": "auto",
         "type": "bar",
         "x": [
          "Female",
          "Male"
         ],
         "xaxis": "x2",
         "y": [
          1923906,
          3075798
         ],
         "yaxis": "y2"
        },
        {
         "alignmentgroup": "True",
         "hovertemplate": "<b>%{hovertext}</b><br><br>Race=Asian<br>Year=2018<br>Sex=%{x}<br>Enrollment=%{y}<extra></extra>",
         "hovertext": [
          "Female, Asian",
          "Male, Asian"
         ],
         "legendgroup": "Asian",
         "marker": {
          "color": "#EF553B",
          "pattern": {
           "shape": ""
          }
         },
         "name": "Asian",
         "offsetgroup": "Asian",
         "orientation": "v",
         "showlegend": false,
         "textposition": "auto",
         "type": "bar",
         "x": [
          "Female",
          "Male"
         ],
         "xaxis": "x3",
         "y": [
          208329,
          80030
         ],
         "yaxis": "y3"
        },
        {
         "alignmentgroup": "True",
         "hovertemplate": "<b>%{hovertext}</b><br><br>Race=Asian<br>Year=2019<br>Sex=%{x}<br>Enrollment=%{y}<extra></extra>",
         "hovertext": [
          "Female, Asian",
          "Male, Asian"
         ],
         "legendgroup": "Asian",
         "marker": {
          "color": "#EF553B",
          "pattern": {
           "shape": ""
          }
         },
         "name": "Asian",
         "offsetgroup": "Asian",
         "orientation": "v",
         "showlegend": false,
         "textposition": "auto",
         "type": "bar",
         "x": [
          "Female",
          "Male"
         ],
         "xaxis": "x4",
         "y": [
          233303,
          84850
         ],
         "yaxis": "y4"
        },
        {
         "alignmentgroup": "True",
         "hovertemplate": "<b>%{hovertext}</b><br><br>Race=Asian<br>Year=2020<br>Sex=%{x}<br>Enrollment=%{y}<extra></extra>",
         "hovertext": [
          "Female, Asian",
          "Male, Asian"
         ],
         "legendgroup": "Asian",
         "marker": {
          "color": "#EF553B",
          "pattern": {
           "shape": ""
          }
         },
         "name": "Asian",
         "offsetgroup": "Asian",
         "orientation": "v",
         "showlegend": false,
         "textposition": "auto",
         "type": "bar",
         "x": [
          "Female",
          "Male"
         ],
         "xaxis": "x5",
         "y": [
          258711,
          92959
         ],
         "yaxis": "y5"
        },
        {
         "alignmentgroup": "True",
         "hovertemplate": "<b>%{hovertext}</b><br><br>Race=Asian<br>Year=2021<br>Sex=%{x}<br>Enrollment=%{y}<extra></extra>",
         "hovertext": [
          "Female, Asian",
          "Male, Asian"
         ],
         "legendgroup": "Asian",
         "marker": {
          "color": "#EF553B",
          "pattern": {
           "shape": ""
          }
         },
         "name": "Asian",
         "offsetgroup": "Asian",
         "orientation": "v",
         "showlegend": false,
         "textposition": "auto",
         "type": "bar",
         "x": [
          "Female",
          "Male"
         ],
         "xaxis": "x6",
         "y": [
          335673,
          137938
         ],
         "yaxis": "y6"
        },
        {
         "alignmentgroup": "True",
         "hovertemplate": "<b>%{hovertext}</b><br><br>Race=Black African American<br>Year=2016<br>Sex=%{x}<br>Enrollment=%{y}<extra></extra>",
         "hovertext": [
          "Female, Black African American",
          "Male, Black African American"
         ],
         "legendgroup": "Black African American",
         "marker": {
          "color": "#00cc96",
          "pattern": {
           "shape": ""
          }
         },
         "name": "Black African American",
         "offsetgroup": "Black African American",
         "orientation": "v",
         "showlegend": true,
         "textposition": "auto",
         "type": "bar",
         "x": [
          "Female",
          "Male"
         ],
         "xaxis": "x",
         "y": [
          162469,
          119840
         ],
         "yaxis": "y"
        },
        {
         "alignmentgroup": "True",
         "hovertemplate": "<b>%{hovertext}</b><br><br>Race=Black African American<br>Year=2017<br>Sex=%{x}<br>Enrollment=%{y}<extra></extra>",
         "hovertext": [
          "Female, Black African American",
          "Male, Black African American"
         ],
         "legendgroup": "Black African American",
         "marker": {
          "color": "#00cc96",
          "pattern": {
           "shape": ""
          }
         },
         "name": "Black African American",
         "offsetgroup": "Black African American",
         "orientation": "v",
         "showlegend": false,
         "textposition": "auto",
         "type": "bar",
         "x": [
          "Female",
          "Male"
         ],
         "xaxis": "x2",
         "y": [
          139782,
          117312
         ],
         "yaxis": "y2"
        },
        {
         "alignmentgroup": "True",
         "hovertemplate": "<b>%{hovertext}</b><br><br>Race=Black African American<br>Year=2018<br>Sex=%{x}<br>Enrollment=%{y}<extra></extra>",
         "hovertext": [
          "Female, Black African American",
          "Male, Black African American"
         ],
         "legendgroup": "Black African American",
         "marker": {
          "color": "#00cc96",
          "pattern": {
           "shape": ""
          }
         },
         "name": "Black African American",
         "offsetgroup": "Black African American",
         "orientation": "v",
         "showlegend": false,
         "textposition": "auto",
         "type": "bar",
         "x": [
          "Female",
          "Male"
         ],
         "xaxis": "x3",
         "y": [
          189002,
          70791
         ],
         "yaxis": "y3"
        },
        {
         "alignmentgroup": "True",
         "hovertemplate": "<b>%{hovertext}</b><br><br>Race=Black African American<br>Year=2019<br>Sex=%{x}<br>Enrollment=%{y}<extra></extra>",
         "hovertext": [
          "Female, Black African American",
          "Male, Black African American"
         ],
         "legendgroup": "Black African American",
         "marker": {
          "color": "#00cc96",
          "pattern": {
           "shape": ""
          }
         },
         "name": "Black African American",
         "offsetgroup": "Black African American",
         "orientation": "v",
         "showlegend": false,
         "textposition": "auto",
         "type": "bar",
         "x": [
          "Female",
          "Male"
         ],
         "xaxis": "x4",
         "y": [
          185891,
          67415
         ],
         "yaxis": "y4"
        },
        {
         "alignmentgroup": "True",
         "hovertemplate": "<b>%{hovertext}</b><br><br>Race=Black African American<br>Year=2020<br>Sex=%{x}<br>Enrollment=%{y}<extra></extra>",
         "hovertext": [
          "Female, Black African American",
          "Male, Black African American"
         ],
         "legendgroup": "Black African American",
         "marker": {
          "color": "#00cc96",
          "pattern": {
           "shape": ""
          }
         },
         "name": "Black African American",
         "offsetgroup": "Black African American",
         "orientation": "v",
         "showlegend": false,
         "textposition": "auto",
         "type": "bar",
         "x": [
          "Female",
          "Male"
         ],
         "xaxis": "x5",
         "y": [
          215875,
          74458
         ],
         "yaxis": "y5"
        },
        {
         "alignmentgroup": "True",
         "hovertemplate": "<b>%{hovertext}</b><br><br>Race=Black African American<br>Year=2021<br>Sex=%{x}<br>Enrollment=%{y}<extra></extra>",
         "hovertext": [
          "Female, Black African American",
          "Male, Black African American"
         ],
         "legendgroup": "Black African American",
         "marker": {
          "color": "#00cc96",
          "pattern": {
           "shape": ""
          }
         },
         "name": "Black African American",
         "offsetgroup": "Black African American",
         "orientation": "v",
         "showlegend": false,
         "textposition": "auto",
         "type": "bar",
         "x": [
          "Female",
          "Male"
         ],
         "xaxis": "x6",
         "y": [
          387706,
          175627
         ],
         "yaxis": "y6"
        },
        {
         "alignmentgroup": "True",
         "hovertemplate": "<b>%{hovertext}</b><br><br>Race=Native Hawaiian Pacific Islander<br>Year=2016<br>Sex=%{x}<br>Enrollment=%{y}<extra></extra>",
         "hovertext": [
          "Female, Native Hawaiian Pacific Islander",
          "Male, Native Hawaiian Pacific Islander"
         ],
         "legendgroup": "Native Hawaiian Pacific Islander",
         "marker": {
          "color": "#ab63fa",
          "pattern": {
           "shape": ""
          }
         },
         "name": "Native Hawaiian Pacific Islander",
         "offsetgroup": "Native Hawaiian Pacific Islander",
         "orientation": "v",
         "showlegend": true,
         "textposition": "auto",
         "type": "bar",
         "x": [
          "Female",
          "Male"
         ],
         "xaxis": "x",
         "y": [
          3832,
          2992
         ],
         "yaxis": "y"
        },
        {
         "alignmentgroup": "True",
         "hovertemplate": "<b>%{hovertext}</b><br><br>Race=Native Hawaiian Pacific Islander<br>Year=2017<br>Sex=%{x}<br>Enrollment=%{y}<extra></extra>",
         "hovertext": [
          "Female, Native Hawaiian Pacific Islander",
          "Male, Native Hawaiian Pacific Islander"
         ],
         "legendgroup": "Native Hawaiian Pacific Islander",
         "marker": {
          "color": "#ab63fa",
          "pattern": {
           "shape": ""
          }
         },
         "name": "Native Hawaiian Pacific Islander",
         "offsetgroup": "Native Hawaiian Pacific Islander",
         "orientation": "v",
         "showlegend": false,
         "textposition": "auto",
         "type": "bar",
         "x": [
          "Female",
          "Male"
         ],
         "xaxis": "x2",
         "y": [
          3056,
          2264
         ],
         "yaxis": "y2"
        },
        {
         "alignmentgroup": "True",
         "hovertemplate": "<b>%{hovertext}</b><br><br>Race=Native Hawaiian Pacific Islander<br>Year=2018<br>Sex=%{x}<br>Enrollment=%{y}<extra></extra>",
         "hovertext": [
          "Female, Native Hawaiian Pacific Islander",
          "Male, Native Hawaiian Pacific Islander"
         ],
         "legendgroup": "Native Hawaiian Pacific Islander",
         "marker": {
          "color": "#ab63fa",
          "pattern": {
           "shape": ""
          }
         },
         "name": "Native Hawaiian Pacific Islander",
         "offsetgroup": "Native Hawaiian Pacific Islander",
         "orientation": "v",
         "showlegend": false,
         "textposition": "auto",
         "type": "bar",
         "x": [
          "Female",
          "Male"
         ],
         "xaxis": "x3",
         "y": [
          2648,
          1398
         ],
         "yaxis": "y3"
        },
        {
         "alignmentgroup": "True",
         "hovertemplate": "<b>%{hovertext}</b><br><br>Race=Native Hawaiian Pacific Islander<br>Year=2019<br>Sex=%{x}<br>Enrollment=%{y}<extra></extra>",
         "hovertext": [
          "Female, Native Hawaiian Pacific Islander",
          "Male, Native Hawaiian Pacific Islander"
         ],
         "legendgroup": "Native Hawaiian Pacific Islander",
         "marker": {
          "color": "#ab63fa",
          "pattern": {
           "shape": ""
          }
         },
         "name": "Native Hawaiian Pacific Islander",
         "offsetgroup": "Native Hawaiian Pacific Islander",
         "orientation": "v",
         "showlegend": false,
         "textposition": "auto",
         "type": "bar",
         "x": [
          "Female",
          "Male"
         ],
         "xaxis": "x4",
         "y": [
          3145,
          1706
         ],
         "yaxis": "y4"
        },
        {
         "alignmentgroup": "True",
         "hovertemplate": "<b>%{hovertext}</b><br><br>Race=Native Hawaiian Pacific Islander<br>Year=2020<br>Sex=%{x}<br>Enrollment=%{y}<extra></extra>",
         "hovertext": [
          "Female, Native Hawaiian Pacific Islander",
          "Male, Native Hawaiian Pacific Islander"
         ],
         "legendgroup": "Native Hawaiian Pacific Islander",
         "marker": {
          "color": "#ab63fa",
          "pattern": {
           "shape": ""
          }
         },
         "name": "Native Hawaiian Pacific Islander",
         "offsetgroup": "Native Hawaiian Pacific Islander",
         "orientation": "v",
         "showlegend": false,
         "textposition": "auto",
         "type": "bar",
         "x": [
          "Female",
          "Male"
         ],
         "xaxis": "x5",
         "y": [
          3851,
          2023
         ],
         "yaxis": "y5"
        },
        {
         "alignmentgroup": "True",
         "hovertemplate": "<b>%{hovertext}</b><br><br>Race=Native Hawaiian Pacific Islander<br>Year=2021<br>Sex=%{x}<br>Enrollment=%{y}<extra></extra>",
         "hovertext": [
          "Female, Native Hawaiian Pacific Islander",
          "Male, Native Hawaiian Pacific Islander"
         ],
         "legendgroup": "Native Hawaiian Pacific Islander",
         "marker": {
          "color": "#ab63fa",
          "pattern": {
           "shape": ""
          }
         },
         "name": "Native Hawaiian Pacific Islander",
         "offsetgroup": "Native Hawaiian Pacific Islander",
         "orientation": "v",
         "showlegend": false,
         "textposition": "auto",
         "type": "bar",
         "x": [
          "Female",
          "Male"
         ],
         "xaxis": "x6",
         "y": [
          33086,
          29970
         ],
         "yaxis": "y6"
        },
        {
         "alignmentgroup": "True",
         "hovertemplate": "<b>%{hovertext}</b><br><br>Race=White<br>Year=2016<br>Sex=%{x}<br>Enrollment=%{y}<extra></extra>",
         "hovertext": [
          "Female, White",
          "Male, White"
         ],
         "legendgroup": "White",
         "marker": {
          "color": "#FFA15A",
          "pattern": {
           "shape": ""
          }
         },
         "name": "White",
         "offsetgroup": "White",
         "orientation": "v",
         "showlegend": true,
         "textposition": "auto",
         "type": "bar",
         "x": [
          "Female",
          "Male"
         ],
         "xaxis": "x",
         "y": [
          2147704,
          1399518
         ],
         "yaxis": "y"
        },
        {
         "alignmentgroup": "True",
         "hovertemplate": "<b>%{hovertext}</b><br><br>Race=White<br>Year=2017<br>Sex=%{x}<br>Enrollment=%{y}<extra></extra>",
         "hovertext": [
          "Female, White",
          "Male, White"
         ],
         "legendgroup": "White",
         "marker": {
          "color": "#FFA15A",
          "pattern": {
           "shape": ""
          }
         },
         "name": "White",
         "offsetgroup": "White",
         "orientation": "v",
         "showlegend": false,
         "textposition": "auto",
         "type": "bar",
         "x": [
          "Female",
          "Male"
         ],
         "xaxis": "x2",
         "y": [
          1521500,
          1264625
         ],
         "yaxis": "y2"
        },
        {
         "alignmentgroup": "True",
         "hovertemplate": "<b>%{hovertext}</b><br><br>Race=White<br>Year=2018<br>Sex=%{x}<br>Enrollment=%{y}<extra></extra>",
         "hovertext": [
          "Female, White",
          "Male, White"
         ],
         "legendgroup": "White",
         "marker": {
          "color": "#FFA15A",
          "pattern": {
           "shape": ""
          }
         },
         "name": "White",
         "offsetgroup": "White",
         "orientation": "v",
         "showlegend": false,
         "textposition": "auto",
         "type": "bar",
         "x": [
          "Female",
          "Male"
         ],
         "xaxis": "x3",
         "y": [
          1286750,
          929958
         ],
         "yaxis": "y3"
        },
        {
         "alignmentgroup": "True",
         "hovertemplate": "<b>%{hovertext}</b><br><br>Race=White<br>Year=2019<br>Sex=%{x}<br>Enrollment=%{y}<extra></extra>",
         "hovertext": [
          "Female, White",
          "Male, White"
         ],
         "legendgroup": "White",
         "marker": {
          "color": "#FFA15A",
          "pattern": {
           "shape": ""
          }
         },
         "name": "White",
         "offsetgroup": "White",
         "orientation": "v",
         "showlegend": false,
         "textposition": "auto",
         "type": "bar",
         "x": [
          "Female",
          "Male"
         ],
         "xaxis": "x4",
         "y": [
          1328632,
          909335
         ],
         "yaxis": "y4"
        },
        {
         "alignmentgroup": "True",
         "hovertemplate": "<b>%{hovertext}</b><br><br>Race=White<br>Year=2020<br>Sex=%{x}<br>Enrollment=%{y}<extra></extra>",
         "hovertext": [
          "Female, White",
          "Male, White"
         ],
         "legendgroup": "White",
         "marker": {
          "color": "#FFA15A",
          "pattern": {
           "shape": ""
          }
         },
         "name": "White",
         "offsetgroup": "White",
         "orientation": "v",
         "showlegend": false,
         "textposition": "auto",
         "type": "bar",
         "x": [
          "Female",
          "Male"
         ],
         "xaxis": "x5",
         "y": [
          1509888,
          951835
         ],
         "yaxis": "y5"
        },
        {
         "alignmentgroup": "True",
         "hovertemplate": "<b>%{hovertext}</b><br><br>Race=White<br>Year=2021<br>Sex=%{x}<br>Enrollment=%{y}<extra></extra>",
         "hovertext": [
          "Female, White",
          "Male, White"
         ],
         "legendgroup": "White",
         "marker": {
          "color": "#FFA15A",
          "pattern": {
           "shape": ""
          }
         },
         "name": "White",
         "offsetgroup": "White",
         "orientation": "v",
         "showlegend": false,
         "textposition": "auto",
         "type": "bar",
         "x": [
          "Female",
          "Male"
         ],
         "xaxis": "x6",
         "y": [
          2105329,
          1420952
         ],
         "yaxis": "y6"
        },
        {
         "alignmentgroup": "True",
         "hovertemplate": "<b>%{hovertext}</b><br><br>Race=More Than One Race<br>Year=2016<br>Sex=%{x}<br>Enrollment=%{y}<extra></extra>",
         "hovertext": [
          "Female, More Than One Race",
          "Male, More Than One Race"
         ],
         "legendgroup": "More Than One Race",
         "marker": {
          "color": "#19d3f3",
          "pattern": {
           "shape": ""
          }
         },
         "name": "More Than One Race",
         "offsetgroup": "More Than One Race",
         "orientation": "v",
         "showlegend": true,
         "textposition": "auto",
         "type": "bar",
         "x": [
          "Female",
          "Male"
         ],
         "xaxis": "x",
         "y": [
          23184,
          11488
         ],
         "yaxis": "y"
        },
        {
         "alignmentgroup": "True",
         "hovertemplate": "<b>%{hovertext}</b><br><br>Race=More Than One Race<br>Year=2017<br>Sex=%{x}<br>Enrollment=%{y}<extra></extra>",
         "hovertext": [
          "Female, More Than One Race",
          "Male, More Than One Race"
         ],
         "legendgroup": "More Than One Race",
         "marker": {
          "color": "#19d3f3",
          "pattern": {
           "shape": ""
          }
         },
         "name": "More Than One Race",
         "offsetgroup": "More Than One Race",
         "orientation": "v",
         "showlegend": false,
         "textposition": "auto",
         "type": "bar",
         "x": [
          "Female",
          "Male"
         ],
         "xaxis": "x2",
         "y": [
          23780,
          15505
         ],
         "yaxis": "y2"
        },
        {
         "alignmentgroup": "True",
         "hovertemplate": "<b>%{hovertext}</b><br><br>Race=More Than One Race<br>Year=2018<br>Sex=%{x}<br>Enrollment=%{y}<extra></extra>",
         "hovertext": [
          "Female, More Than One Race",
          "Male, More Than One Race"
         ],
         "legendgroup": "More Than One Race",
         "marker": {
          "color": "#19d3f3",
          "pattern": {
           "shape": ""
          }
         },
         "name": "More Than One Race",
         "offsetgroup": "More Than One Race",
         "orientation": "v",
         "showlegend": false,
         "textposition": "auto",
         "type": "bar",
         "x": [
          "Female",
          "Male"
         ],
         "xaxis": "x3",
         "y": [
          35429,
          14286
         ],
         "yaxis": "y3"
        },
        {
         "alignmentgroup": "True",
         "hovertemplate": "<b>%{hovertext}</b><br><br>Race=More Than One Race<br>Year=2019<br>Sex=%{x}<br>Enrollment=%{y}<extra></extra>",
         "hovertext": [
          "Female, More Than One Race",
          "Male, More Than One Race"
         ],
         "legendgroup": "More Than One Race",
         "marker": {
          "color": "#19d3f3",
          "pattern": {
           "shape": ""
          }
         },
         "name": "More Than One Race",
         "offsetgroup": "More Than One Race",
         "orientation": "v",
         "showlegend": false,
         "textposition": "auto",
         "type": "bar",
         "x": [
          "Female",
          "Male"
         ],
         "xaxis": "x4",
         "y": [
          32052,
          12832
         ],
         "yaxis": "y4"
        },
        {
         "alignmentgroup": "True",
         "hovertemplate": "<b>%{hovertext}</b><br><br>Race=More Than One Race<br>Year=2020<br>Sex=%{x}<br>Enrollment=%{y}<extra></extra>",
         "hovertext": [
          "Female, More Than One Race",
          "Male, More Than One Race"
         ],
         "legendgroup": "More Than One Race",
         "marker": {
          "color": "#19d3f3",
          "pattern": {
           "shape": ""
          }
         },
         "name": "More Than One Race",
         "offsetgroup": "More Than One Race",
         "orientation": "v",
         "showlegend": false,
         "textposition": "auto",
         "type": "bar",
         "x": [
          "Female",
          "Male"
         ],
         "xaxis": "x5",
         "y": [
          45541,
          15841
         ],
         "yaxis": "y5"
        },
        {
         "alignmentgroup": "True",
         "hovertemplate": "<b>%{hovertext}</b><br><br>Race=More Than One Race<br>Year=2021<br>Sex=%{x}<br>Enrollment=%{y}<extra></extra>",
         "hovertext": [
          "Female, More Than One Race",
          "Male, More Than One Race"
         ],
         "legendgroup": "More Than One Race",
         "marker": {
          "color": "#19d3f3",
          "pattern": {
           "shape": ""
          }
         },
         "name": "More Than One Race",
         "offsetgroup": "More Than One Race",
         "orientation": "v",
         "showlegend": false,
         "textposition": "auto",
         "type": "bar",
         "x": [
          "Female",
          "Male"
         ],
         "xaxis": "x6",
         "y": [
          43192,
          13741
         ],
         "yaxis": "y6"
        }
       ],
       "layout": {
        "annotations": [
         {
          "font": {},
          "showarrow": false,
          "text": "Year=2016",
          "x": 0.075,
          "xanchor": "center",
          "xref": "paper",
          "y": 1,
          "yanchor": "bottom",
          "yref": "paper"
         },
         {
          "font": {},
          "showarrow": false,
          "text": "Year=2017",
          "x": 0.24499999999999997,
          "xanchor": "center",
          "xref": "paper",
          "y": 1,
          "yanchor": "bottom",
          "yref": "paper"
         },
         {
          "font": {},
          "showarrow": false,
          "text": "Year=2018",
          "x": 0.415,
          "xanchor": "center",
          "xref": "paper",
          "y": 1,
          "yanchor": "bottom",
          "yref": "paper"
         },
         {
          "font": {},
          "showarrow": false,
          "text": "Year=2019",
          "x": 0.585,
          "xanchor": "center",
          "xref": "paper",
          "y": 1,
          "yanchor": "bottom",
          "yref": "paper"
         },
         {
          "font": {},
          "showarrow": false,
          "text": "Year=2020",
          "x": 0.7549999999999999,
          "xanchor": "center",
          "xref": "paper",
          "y": 1,
          "yanchor": "bottom",
          "yref": "paper"
         },
         {
          "font": {},
          "showarrow": false,
          "text": "Year=2021",
          "x": 0.925,
          "xanchor": "center",
          "xref": "paper",
          "y": 1,
          "yanchor": "bottom",
          "yref": "paper"
         }
        ],
        "barmode": "group",
        "legend": {
         "title": {
          "text": "Race"
         },
         "tracegroupgap": 0
        },
        "margin": {
         "t": 60
        },
        "template": {
         "data": {
          "bar": [
           {
            "error_x": {
             "color": "#2a3f5f"
            },
            "error_y": {
             "color": "#2a3f5f"
            },
            "marker": {
             "line": {
              "color": "#E5ECF6",
              "width": 0.5
             },
             "pattern": {
              "fillmode": "overlay",
              "size": 10,
              "solidity": 0.2
             }
            },
            "type": "bar"
           }
          ],
          "barpolar": [
           {
            "marker": {
             "line": {
              "color": "#E5ECF6",
              "width": 0.5
             },
             "pattern": {
              "fillmode": "overlay",
              "size": 10,
              "solidity": 0.2
             }
            },
            "type": "barpolar"
           }
          ],
          "carpet": [
           {
            "aaxis": {
             "endlinecolor": "#2a3f5f",
             "gridcolor": "white",
             "linecolor": "white",
             "minorgridcolor": "white",
             "startlinecolor": "#2a3f5f"
            },
            "baxis": {
             "endlinecolor": "#2a3f5f",
             "gridcolor": "white",
             "linecolor": "white",
             "minorgridcolor": "white",
             "startlinecolor": "#2a3f5f"
            },
            "type": "carpet"
           }
          ],
          "choropleth": [
           {
            "colorbar": {
             "outlinewidth": 0,
             "ticks": ""
            },
            "type": "choropleth"
           }
          ],
          "contour": [
           {
            "colorbar": {
             "outlinewidth": 0,
             "ticks": ""
            },
            "colorscale": [
             [
              0,
              "#0d0887"
             ],
             [
              0.1111111111111111,
              "#46039f"
             ],
             [
              0.2222222222222222,
              "#7201a8"
             ],
             [
              0.3333333333333333,
              "#9c179e"
             ],
             [
              0.4444444444444444,
              "#bd3786"
             ],
             [
              0.5555555555555556,
              "#d8576b"
             ],
             [
              0.6666666666666666,
              "#ed7953"
             ],
             [
              0.7777777777777778,
              "#fb9f3a"
             ],
             [
              0.8888888888888888,
              "#fdca26"
             ],
             [
              1,
              "#f0f921"
             ]
            ],
            "type": "contour"
           }
          ],
          "contourcarpet": [
           {
            "colorbar": {
             "outlinewidth": 0,
             "ticks": ""
            },
            "type": "contourcarpet"
           }
          ],
          "heatmap": [
           {
            "colorbar": {
             "outlinewidth": 0,
             "ticks": ""
            },
            "colorscale": [
             [
              0,
              "#0d0887"
             ],
             [
              0.1111111111111111,
              "#46039f"
             ],
             [
              0.2222222222222222,
              "#7201a8"
             ],
             [
              0.3333333333333333,
              "#9c179e"
             ],
             [
              0.4444444444444444,
              "#bd3786"
             ],
             [
              0.5555555555555556,
              "#d8576b"
             ],
             [
              0.6666666666666666,
              "#ed7953"
             ],
             [
              0.7777777777777778,
              "#fb9f3a"
             ],
             [
              0.8888888888888888,
              "#fdca26"
             ],
             [
              1,
              "#f0f921"
             ]
            ],
            "type": "heatmap"
           }
          ],
          "heatmapgl": [
           {
            "colorbar": {
             "outlinewidth": 0,
             "ticks": ""
            },
            "colorscale": [
             [
              0,
              "#0d0887"
             ],
             [
              0.1111111111111111,
              "#46039f"
             ],
             [
              0.2222222222222222,
              "#7201a8"
             ],
             [
              0.3333333333333333,
              "#9c179e"
             ],
             [
              0.4444444444444444,
              "#bd3786"
             ],
             [
              0.5555555555555556,
              "#d8576b"
             ],
             [
              0.6666666666666666,
              "#ed7953"
             ],
             [
              0.7777777777777778,
              "#fb9f3a"
             ],
             [
              0.8888888888888888,
              "#fdca26"
             ],
             [
              1,
              "#f0f921"
             ]
            ],
            "type": "heatmapgl"
           }
          ],
          "histogram": [
           {
            "marker": {
             "pattern": {
              "fillmode": "overlay",
              "size": 10,
              "solidity": 0.2
             }
            },
            "type": "histogram"
           }
          ],
          "histogram2d": [
           {
            "colorbar": {
             "outlinewidth": 0,
             "ticks": ""
            },
            "colorscale": [
             [
              0,
              "#0d0887"
             ],
             [
              0.1111111111111111,
              "#46039f"
             ],
             [
              0.2222222222222222,
              "#7201a8"
             ],
             [
              0.3333333333333333,
              "#9c179e"
             ],
             [
              0.4444444444444444,
              "#bd3786"
             ],
             [
              0.5555555555555556,
              "#d8576b"
             ],
             [
              0.6666666666666666,
              "#ed7953"
             ],
             [
              0.7777777777777778,
              "#fb9f3a"
             ],
             [
              0.8888888888888888,
              "#fdca26"
             ],
             [
              1,
              "#f0f921"
             ]
            ],
            "type": "histogram2d"
           }
          ],
          "histogram2dcontour": [
           {
            "colorbar": {
             "outlinewidth": 0,
             "ticks": ""
            },
            "colorscale": [
             [
              0,
              "#0d0887"
             ],
             [
              0.1111111111111111,
              "#46039f"
             ],
             [
              0.2222222222222222,
              "#7201a8"
             ],
             [
              0.3333333333333333,
              "#9c179e"
             ],
             [
              0.4444444444444444,
              "#bd3786"
             ],
             [
              0.5555555555555556,
              "#d8576b"
             ],
             [
              0.6666666666666666,
              "#ed7953"
             ],
             [
              0.7777777777777778,
              "#fb9f3a"
             ],
             [
              0.8888888888888888,
              "#fdca26"
             ],
             [
              1,
              "#f0f921"
             ]
            ],
            "type": "histogram2dcontour"
           }
          ],
          "mesh3d": [
           {
            "colorbar": {
             "outlinewidth": 0,
             "ticks": ""
            },
            "type": "mesh3d"
           }
          ],
          "parcoords": [
           {
            "line": {
             "colorbar": {
              "outlinewidth": 0,
              "ticks": ""
             }
            },
            "type": "parcoords"
           }
          ],
          "pie": [
           {
            "automargin": true,
            "type": "pie"
           }
          ],
          "scatter": [
           {
            "fillpattern": {
             "fillmode": "overlay",
             "size": 10,
             "solidity": 0.2
            },
            "type": "scatter"
           }
          ],
          "scatter3d": [
           {
            "line": {
             "colorbar": {
              "outlinewidth": 0,
              "ticks": ""
             }
            },
            "marker": {
             "colorbar": {
              "outlinewidth": 0,
              "ticks": ""
             }
            },
            "type": "scatter3d"
           }
          ],
          "scattercarpet": [
           {
            "marker": {
             "colorbar": {
              "outlinewidth": 0,
              "ticks": ""
             }
            },
            "type": "scattercarpet"
           }
          ],
          "scattergeo": [
           {
            "marker": {
             "colorbar": {
              "outlinewidth": 0,
              "ticks": ""
             }
            },
            "type": "scattergeo"
           }
          ],
          "scattergl": [
           {
            "marker": {
             "colorbar": {
              "outlinewidth": 0,
              "ticks": ""
             }
            },
            "type": "scattergl"
           }
          ],
          "scattermapbox": [
           {
            "marker": {
             "colorbar": {
              "outlinewidth": 0,
              "ticks": ""
             }
            },
            "type": "scattermapbox"
           }
          ],
          "scatterpolar": [
           {
            "marker": {
             "colorbar": {
              "outlinewidth": 0,
              "ticks": ""
             }
            },
            "type": "scatterpolar"
           }
          ],
          "scatterpolargl": [
           {
            "marker": {
             "colorbar": {
              "outlinewidth": 0,
              "ticks": ""
             }
            },
            "type": "scatterpolargl"
           }
          ],
          "scatterternary": [
           {
            "marker": {
             "colorbar": {
              "outlinewidth": 0,
              "ticks": ""
             }
            },
            "type": "scatterternary"
           }
          ],
          "surface": [
           {
            "colorbar": {
             "outlinewidth": 0,
             "ticks": ""
            },
            "colorscale": [
             [
              0,
              "#0d0887"
             ],
             [
              0.1111111111111111,
              "#46039f"
             ],
             [
              0.2222222222222222,
              "#7201a8"
             ],
             [
              0.3333333333333333,
              "#9c179e"
             ],
             [
              0.4444444444444444,
              "#bd3786"
             ],
             [
              0.5555555555555556,
              "#d8576b"
             ],
             [
              0.6666666666666666,
              "#ed7953"
             ],
             [
              0.7777777777777778,
              "#fb9f3a"
             ],
             [
              0.8888888888888888,
              "#fdca26"
             ],
             [
              1,
              "#f0f921"
             ]
            ],
            "type": "surface"
           }
          ],
          "table": [
           {
            "cells": {
             "fill": {
              "color": "#EBF0F8"
             },
             "line": {
              "color": "white"
             }
            },
            "header": {
             "fill": {
              "color": "#C8D4E3"
             },
             "line": {
              "color": "white"
             }
            },
            "type": "table"
           }
          ]
         },
         "layout": {
          "annotationdefaults": {
           "arrowcolor": "#2a3f5f",
           "arrowhead": 0,
           "arrowwidth": 1
          },
          "autotypenumbers": "strict",
          "coloraxis": {
           "colorbar": {
            "outlinewidth": 0,
            "ticks": ""
           }
          },
          "colorscale": {
           "diverging": [
            [
             0,
             "#8e0152"
            ],
            [
             0.1,
             "#c51b7d"
            ],
            [
             0.2,
             "#de77ae"
            ],
            [
             0.3,
             "#f1b6da"
            ],
            [
             0.4,
             "#fde0ef"
            ],
            [
             0.5,
             "#f7f7f7"
            ],
            [
             0.6,
             "#e6f5d0"
            ],
            [
             0.7,
             "#b8e186"
            ],
            [
             0.8,
             "#7fbc41"
            ],
            [
             0.9,
             "#4d9221"
            ],
            [
             1,
             "#276419"
            ]
           ],
           "sequential": [
            [
             0,
             "#0d0887"
            ],
            [
             0.1111111111111111,
             "#46039f"
            ],
            [
             0.2222222222222222,
             "#7201a8"
            ],
            [
             0.3333333333333333,
             "#9c179e"
            ],
            [
             0.4444444444444444,
             "#bd3786"
            ],
            [
             0.5555555555555556,
             "#d8576b"
            ],
            [
             0.6666666666666666,
             "#ed7953"
            ],
            [
             0.7777777777777778,
             "#fb9f3a"
            ],
            [
             0.8888888888888888,
             "#fdca26"
            ],
            [
             1,
             "#f0f921"
            ]
           ],
           "sequentialminus": [
            [
             0,
             "#0d0887"
            ],
            [
             0.1111111111111111,
             "#46039f"
            ],
            [
             0.2222222222222222,
             "#7201a8"
            ],
            [
             0.3333333333333333,
             "#9c179e"
            ],
            [
             0.4444444444444444,
             "#bd3786"
            ],
            [
             0.5555555555555556,
             "#d8576b"
            ],
            [
             0.6666666666666666,
             "#ed7953"
            ],
            [
             0.7777777777777778,
             "#fb9f3a"
            ],
            [
             0.8888888888888888,
             "#fdca26"
            ],
            [
             1,
             "#f0f921"
            ]
           ]
          },
          "colorway": [
           "#636efa",
           "#EF553B",
           "#00cc96",
           "#ab63fa",
           "#FFA15A",
           "#19d3f3",
           "#FF6692",
           "#B6E880",
           "#FF97FF",
           "#FECB52"
          ],
          "font": {
           "color": "#2a3f5f"
          },
          "geo": {
           "bgcolor": "white",
           "lakecolor": "white",
           "landcolor": "#E5ECF6",
           "showlakes": true,
           "showland": true,
           "subunitcolor": "white"
          },
          "hoverlabel": {
           "align": "left"
          },
          "hovermode": "closest",
          "mapbox": {
           "style": "light"
          },
          "paper_bgcolor": "white",
          "plot_bgcolor": "#E5ECF6",
          "polar": {
           "angularaxis": {
            "gridcolor": "white",
            "linecolor": "white",
            "ticks": ""
           },
           "bgcolor": "#E5ECF6",
           "radialaxis": {
            "gridcolor": "white",
            "linecolor": "white",
            "ticks": ""
           }
          },
          "scene": {
           "xaxis": {
            "backgroundcolor": "#E5ECF6",
            "gridcolor": "white",
            "gridwidth": 2,
            "linecolor": "white",
            "showbackground": true,
            "ticks": "",
            "zerolinecolor": "white"
           },
           "yaxis": {
            "backgroundcolor": "#E5ECF6",
            "gridcolor": "white",
            "gridwidth": 2,
            "linecolor": "white",
            "showbackground": true,
            "ticks": "",
            "zerolinecolor": "white"
           },
           "zaxis": {
            "backgroundcolor": "#E5ECF6",
            "gridcolor": "white",
            "gridwidth": 2,
            "linecolor": "white",
            "showbackground": true,
            "ticks": "",
            "zerolinecolor": "white"
           }
          },
          "shapedefaults": {
           "line": {
            "color": "#2a3f5f"
           }
          },
          "ternary": {
           "aaxis": {
            "gridcolor": "white",
            "linecolor": "white",
            "ticks": ""
           },
           "baxis": {
            "gridcolor": "white",
            "linecolor": "white",
            "ticks": ""
           },
           "bgcolor": "#E5ECF6",
           "caxis": {
            "gridcolor": "white",
            "linecolor": "white",
            "ticks": ""
           }
          },
          "title": {
           "x": 0.05
          },
          "xaxis": {
           "automargin": true,
           "gridcolor": "white",
           "linecolor": "white",
           "ticks": "",
           "title": {
            "standoff": 15
           },
           "zerolinecolor": "white",
           "zerolinewidth": 2
          },
          "yaxis": {
           "automargin": true,
           "gridcolor": "white",
           "linecolor": "white",
           "ticks": "",
           "title": {
            "standoff": 15
           },
           "zerolinecolor": "white",
           "zerolinewidth": 2
          }
         }
        },
        "xaxis": {
         "anchor": "y",
         "domain": [
          0,
          0.15
         ],
         "title": {
          "text": "Sex"
         }
        },
        "xaxis2": {
         "anchor": "y2",
         "domain": [
          0.16999999999999998,
          0.31999999999999995
         ],
         "matches": "x",
         "title": {
          "text": "Sex"
         }
        },
        "xaxis3": {
         "anchor": "y3",
         "domain": [
          0.33999999999999997,
          0.49
         ],
         "matches": "x",
         "title": {
          "text": "Sex"
         }
        },
        "xaxis4": {
         "anchor": "y4",
         "domain": [
          0.51,
          0.66
         ],
         "matches": "x",
         "title": {
          "text": "Sex"
         }
        },
        "xaxis5": {
         "anchor": "y5",
         "domain": [
          0.6799999999999999,
          0.83
         ],
         "matches": "x",
         "title": {
          "text": "Sex"
         }
        },
        "xaxis6": {
         "anchor": "y6",
         "domain": [
          0.85,
          1
         ],
         "matches": "x",
         "title": {
          "text": "Sex"
         }
        },
        "yaxis": {
         "anchor": "x",
         "domain": [
          0,
          1
         ],
         "title": {
          "text": "Enrollment"
         }
        },
        "yaxis2": {
         "anchor": "x2",
         "domain": [
          0,
          1
         ],
         "matches": "y",
         "showticklabels": false
        },
        "yaxis3": {
         "anchor": "x3",
         "domain": [
          0,
          1
         ],
         "matches": "y",
         "showticklabels": false
        },
        "yaxis4": {
         "anchor": "x4",
         "domain": [
          0,
          1
         ],
         "matches": "y",
         "showticklabels": false
        },
        "yaxis5": {
         "anchor": "x5",
         "domain": [
          0,
          1
         ],
         "matches": "y",
         "showticklabels": false
        },
        "yaxis6": {
         "anchor": "x6",
         "domain": [
          0,
          1
         ],
         "matches": "y",
         "showticklabels": false
        }
       }
      },
      "text/html": [
       "<div>                            <div id=\"b50f2c46-caa7-4007-a29e-71b9914168ad\" class=\"plotly-graph-div\" style=\"height:525px; width:100%;\"></div>            <script type=\"text/javascript\">                require([\"plotly\"], function(Plotly) {                    window.PLOTLYENV=window.PLOTLYENV || {};                                    if (document.getElementById(\"b50f2c46-caa7-4007-a29e-71b9914168ad\")) {                    Plotly.newPlot(                        \"b50f2c46-caa7-4007-a29e-71b9914168ad\",                        [{\"alignmentgroup\":\"True\",\"hovertemplate\":\"<b>%{hovertext}</b><br><br>Race=American Indian Alaska Native<br>Year=2016<br>Sex=%{x}<br>Enrollment=%{y}<extra></extra>\",\"hovertext\":[\"Female, American Indian Alaska Native\",\"Male, American Indian Alaska Native\"],\"legendgroup\":\"American Indian Alaska Native\",\"marker\":{\"color\":\"#636efa\",\"pattern\":{\"shape\":\"\"}},\"name\":\"American Indian Alaska Native\",\"offsetgroup\":\"American Indian Alaska Native\",\"orientation\":\"v\",\"showlegend\":true,\"textposition\":\"auto\",\"x\":[\"Female\",\"Male\"],\"xaxis\":\"x\",\"y\":[8289,5867],\"yaxis\":\"y\",\"type\":\"bar\"},{\"alignmentgroup\":\"True\",\"hovertemplate\":\"<b>%{hovertext}</b><br><br>Race=American Indian Alaska Native<br>Year=2017<br>Sex=%{x}<br>Enrollment=%{y}<extra></extra>\",\"hovertext\":[\"Female, American Indian Alaska Native\",\"Male, American Indian Alaska Native\"],\"legendgroup\":\"American Indian Alaska Native\",\"marker\":{\"color\":\"#636efa\",\"pattern\":{\"shape\":\"\"}},\"name\":\"American Indian Alaska Native\",\"offsetgroup\":\"American Indian Alaska Native\",\"orientation\":\"v\",\"showlegend\":false,\"textposition\":\"auto\",\"x\":[\"Female\",\"Male\"],\"xaxis\":\"x2\",\"y\":[8456,5835],\"yaxis\":\"y2\",\"type\":\"bar\"},{\"alignmentgroup\":\"True\",\"hovertemplate\":\"<b>%{hovertext}</b><br><br>Race=American Indian Alaska Native<br>Year=2018<br>Sex=%{x}<br>Enrollment=%{y}<extra></extra>\",\"hovertext\":[\"Female, American Indian Alaska Native\",\"Male, American Indian Alaska Native\"],\"legendgroup\":\"American Indian Alaska Native\",\"marker\":{\"color\":\"#636efa\",\"pattern\":{\"shape\":\"\"}},\"name\":\"American Indian Alaska Native\",\"offsetgroup\":\"American Indian Alaska Native\",\"orientation\":\"v\",\"showlegend\":false,\"textposition\":\"auto\",\"x\":[\"Female\",\"Male\"],\"xaxis\":\"x3\",\"y\":[10211,4083],\"yaxis\":\"y3\",\"type\":\"bar\"},{\"alignmentgroup\":\"True\",\"hovertemplate\":\"<b>%{hovertext}</b><br><br>Race=American Indian Alaska Native<br>Year=2019<br>Sex=%{x}<br>Enrollment=%{y}<extra></extra>\",\"hovertext\":[\"Female, American Indian Alaska Native\",\"Male, American Indian Alaska Native\"],\"legendgroup\":\"American Indian Alaska Native\",\"marker\":{\"color\":\"#636efa\",\"pattern\":{\"shape\":\"\"}},\"name\":\"American Indian Alaska Native\",\"offsetgroup\":\"American Indian Alaska Native\",\"orientation\":\"v\",\"showlegend\":false,\"textposition\":\"auto\",\"x\":[\"Female\",\"Male\"],\"xaxis\":\"x4\",\"y\":[10457,3941],\"yaxis\":\"y4\",\"type\":\"bar\"},{\"alignmentgroup\":\"True\",\"hovertemplate\":\"<b>%{hovertext}</b><br><br>Race=American Indian Alaska Native<br>Year=2020<br>Sex=%{x}<br>Enrollment=%{y}<extra></extra>\",\"hovertext\":[\"Female, American Indian Alaska Native\",\"Male, American Indian Alaska Native\"],\"legendgroup\":\"American Indian Alaska Native\",\"marker\":{\"color\":\"#636efa\",\"pattern\":{\"shape\":\"\"}},\"name\":\"American Indian Alaska Native\",\"offsetgroup\":\"American Indian Alaska Native\",\"orientation\":\"v\",\"showlegend\":false,\"textposition\":\"auto\",\"x\":[\"Female\",\"Male\"],\"xaxis\":\"x5\",\"y\":[14376,5528],\"yaxis\":\"y5\",\"type\":\"bar\"},{\"alignmentgroup\":\"True\",\"hovertemplate\":\"<b>%{hovertext}</b><br><br>Race=American Indian Alaska Native<br>Year=2021<br>Sex=%{x}<br>Enrollment=%{y}<extra></extra>\",\"hovertext\":[\"Female, American Indian Alaska Native\",\"Male, American Indian Alaska Native\"],\"legendgroup\":\"American Indian Alaska Native\",\"marker\":{\"color\":\"#636efa\",\"pattern\":{\"shape\":\"\"}},\"name\":\"American Indian Alaska Native\",\"offsetgroup\":\"American Indian Alaska Native\",\"orientation\":\"v\",\"showlegend\":false,\"textposition\":\"auto\",\"x\":[\"Female\",\"Male\"],\"xaxis\":\"x6\",\"y\":[19835,10089],\"yaxis\":\"y6\",\"type\":\"bar\"},{\"alignmentgroup\":\"True\",\"hovertemplate\":\"<b>%{hovertext}</b><br><br>Race=Asian<br>Year=2016<br>Sex=%{x}<br>Enrollment=%{y}<extra></extra>\",\"hovertext\":[\"Female, Asian\",\"Male, Asian\"],\"legendgroup\":\"Asian\",\"marker\":{\"color\":\"#EF553B\",\"pattern\":{\"shape\":\"\"}},\"name\":\"Asian\",\"offsetgroup\":\"Asian\",\"orientation\":\"v\",\"showlegend\":true,\"textposition\":\"auto\",\"x\":[\"Female\",\"Male\"],\"xaxis\":\"x\",\"y\":[185301,103565],\"yaxis\":\"y\",\"type\":\"bar\"},{\"alignmentgroup\":\"True\",\"hovertemplate\":\"<b>%{hovertext}</b><br><br>Race=Asian<br>Year=2017<br>Sex=%{x}<br>Enrollment=%{y}<extra></extra>\",\"hovertext\":[\"Female, Asian\",\"Male, Asian\"],\"legendgroup\":\"Asian\",\"marker\":{\"color\":\"#EF553B\",\"pattern\":{\"shape\":\"\"}},\"name\":\"Asian\",\"offsetgroup\":\"Asian\",\"orientation\":\"v\",\"showlegend\":false,\"textposition\":\"auto\",\"x\":[\"Female\",\"Male\"],\"xaxis\":\"x2\",\"y\":[1923906,3075798],\"yaxis\":\"y2\",\"type\":\"bar\"},{\"alignmentgroup\":\"True\",\"hovertemplate\":\"<b>%{hovertext}</b><br><br>Race=Asian<br>Year=2018<br>Sex=%{x}<br>Enrollment=%{y}<extra></extra>\",\"hovertext\":[\"Female, Asian\",\"Male, Asian\"],\"legendgroup\":\"Asian\",\"marker\":{\"color\":\"#EF553B\",\"pattern\":{\"shape\":\"\"}},\"name\":\"Asian\",\"offsetgroup\":\"Asian\",\"orientation\":\"v\",\"showlegend\":false,\"textposition\":\"auto\",\"x\":[\"Female\",\"Male\"],\"xaxis\":\"x3\",\"y\":[208329,80030],\"yaxis\":\"y3\",\"type\":\"bar\"},{\"alignmentgroup\":\"True\",\"hovertemplate\":\"<b>%{hovertext}</b><br><br>Race=Asian<br>Year=2019<br>Sex=%{x}<br>Enrollment=%{y}<extra></extra>\",\"hovertext\":[\"Female, Asian\",\"Male, Asian\"],\"legendgroup\":\"Asian\",\"marker\":{\"color\":\"#EF553B\",\"pattern\":{\"shape\":\"\"}},\"name\":\"Asian\",\"offsetgroup\":\"Asian\",\"orientation\":\"v\",\"showlegend\":false,\"textposition\":\"auto\",\"x\":[\"Female\",\"Male\"],\"xaxis\":\"x4\",\"y\":[233303,84850],\"yaxis\":\"y4\",\"type\":\"bar\"},{\"alignmentgroup\":\"True\",\"hovertemplate\":\"<b>%{hovertext}</b><br><br>Race=Asian<br>Year=2020<br>Sex=%{x}<br>Enrollment=%{y}<extra></extra>\",\"hovertext\":[\"Female, Asian\",\"Male, Asian\"],\"legendgroup\":\"Asian\",\"marker\":{\"color\":\"#EF553B\",\"pattern\":{\"shape\":\"\"}},\"name\":\"Asian\",\"offsetgroup\":\"Asian\",\"orientation\":\"v\",\"showlegend\":false,\"textposition\":\"auto\",\"x\":[\"Female\",\"Male\"],\"xaxis\":\"x5\",\"y\":[258711,92959],\"yaxis\":\"y5\",\"type\":\"bar\"},{\"alignmentgroup\":\"True\",\"hovertemplate\":\"<b>%{hovertext}</b><br><br>Race=Asian<br>Year=2021<br>Sex=%{x}<br>Enrollment=%{y}<extra></extra>\",\"hovertext\":[\"Female, Asian\",\"Male, Asian\"],\"legendgroup\":\"Asian\",\"marker\":{\"color\":\"#EF553B\",\"pattern\":{\"shape\":\"\"}},\"name\":\"Asian\",\"offsetgroup\":\"Asian\",\"orientation\":\"v\",\"showlegend\":false,\"textposition\":\"auto\",\"x\":[\"Female\",\"Male\"],\"xaxis\":\"x6\",\"y\":[335673,137938],\"yaxis\":\"y6\",\"type\":\"bar\"},{\"alignmentgroup\":\"True\",\"hovertemplate\":\"<b>%{hovertext}</b><br><br>Race=Black African American<br>Year=2016<br>Sex=%{x}<br>Enrollment=%{y}<extra></extra>\",\"hovertext\":[\"Female, Black African American\",\"Male, Black African American\"],\"legendgroup\":\"Black African American\",\"marker\":{\"color\":\"#00cc96\",\"pattern\":{\"shape\":\"\"}},\"name\":\"Black African American\",\"offsetgroup\":\"Black African American\",\"orientation\":\"v\",\"showlegend\":true,\"textposition\":\"auto\",\"x\":[\"Female\",\"Male\"],\"xaxis\":\"x\",\"y\":[162469,119840],\"yaxis\":\"y\",\"type\":\"bar\"},{\"alignmentgroup\":\"True\",\"hovertemplate\":\"<b>%{hovertext}</b><br><br>Race=Black African American<br>Year=2017<br>Sex=%{x}<br>Enrollment=%{y}<extra></extra>\",\"hovertext\":[\"Female, Black African American\",\"Male, Black African American\"],\"legendgroup\":\"Black African American\",\"marker\":{\"color\":\"#00cc96\",\"pattern\":{\"shape\":\"\"}},\"name\":\"Black African American\",\"offsetgroup\":\"Black African American\",\"orientation\":\"v\",\"showlegend\":false,\"textposition\":\"auto\",\"x\":[\"Female\",\"Male\"],\"xaxis\":\"x2\",\"y\":[139782,117312],\"yaxis\":\"y2\",\"type\":\"bar\"},{\"alignmentgroup\":\"True\",\"hovertemplate\":\"<b>%{hovertext}</b><br><br>Race=Black African American<br>Year=2018<br>Sex=%{x}<br>Enrollment=%{y}<extra></extra>\",\"hovertext\":[\"Female, Black African American\",\"Male, Black African American\"],\"legendgroup\":\"Black African American\",\"marker\":{\"color\":\"#00cc96\",\"pattern\":{\"shape\":\"\"}},\"name\":\"Black African American\",\"offsetgroup\":\"Black African American\",\"orientation\":\"v\",\"showlegend\":false,\"textposition\":\"auto\",\"x\":[\"Female\",\"Male\"],\"xaxis\":\"x3\",\"y\":[189002,70791],\"yaxis\":\"y3\",\"type\":\"bar\"},{\"alignmentgroup\":\"True\",\"hovertemplate\":\"<b>%{hovertext}</b><br><br>Race=Black African American<br>Year=2019<br>Sex=%{x}<br>Enrollment=%{y}<extra></extra>\",\"hovertext\":[\"Female, Black African American\",\"Male, Black African American\"],\"legendgroup\":\"Black African American\",\"marker\":{\"color\":\"#00cc96\",\"pattern\":{\"shape\":\"\"}},\"name\":\"Black African American\",\"offsetgroup\":\"Black African American\",\"orientation\":\"v\",\"showlegend\":false,\"textposition\":\"auto\",\"x\":[\"Female\",\"Male\"],\"xaxis\":\"x4\",\"y\":[185891,67415],\"yaxis\":\"y4\",\"type\":\"bar\"},{\"alignmentgroup\":\"True\",\"hovertemplate\":\"<b>%{hovertext}</b><br><br>Race=Black African American<br>Year=2020<br>Sex=%{x}<br>Enrollment=%{y}<extra></extra>\",\"hovertext\":[\"Female, Black African American\",\"Male, Black African American\"],\"legendgroup\":\"Black African American\",\"marker\":{\"color\":\"#00cc96\",\"pattern\":{\"shape\":\"\"}},\"name\":\"Black African American\",\"offsetgroup\":\"Black African American\",\"orientation\":\"v\",\"showlegend\":false,\"textposition\":\"auto\",\"x\":[\"Female\",\"Male\"],\"xaxis\":\"x5\",\"y\":[215875,74458],\"yaxis\":\"y5\",\"type\":\"bar\"},{\"alignmentgroup\":\"True\",\"hovertemplate\":\"<b>%{hovertext}</b><br><br>Race=Black African American<br>Year=2021<br>Sex=%{x}<br>Enrollment=%{y}<extra></extra>\",\"hovertext\":[\"Female, Black African American\",\"Male, Black African American\"],\"legendgroup\":\"Black African American\",\"marker\":{\"color\":\"#00cc96\",\"pattern\":{\"shape\":\"\"}},\"name\":\"Black African American\",\"offsetgroup\":\"Black African American\",\"orientation\":\"v\",\"showlegend\":false,\"textposition\":\"auto\",\"x\":[\"Female\",\"Male\"],\"xaxis\":\"x6\",\"y\":[387706,175627],\"yaxis\":\"y6\",\"type\":\"bar\"},{\"alignmentgroup\":\"True\",\"hovertemplate\":\"<b>%{hovertext}</b><br><br>Race=Native Hawaiian Pacific Islander<br>Year=2016<br>Sex=%{x}<br>Enrollment=%{y}<extra></extra>\",\"hovertext\":[\"Female, Native Hawaiian Pacific Islander\",\"Male, Native Hawaiian Pacific Islander\"],\"legendgroup\":\"Native Hawaiian Pacific Islander\",\"marker\":{\"color\":\"#ab63fa\",\"pattern\":{\"shape\":\"\"}},\"name\":\"Native Hawaiian Pacific Islander\",\"offsetgroup\":\"Native Hawaiian Pacific Islander\",\"orientation\":\"v\",\"showlegend\":true,\"textposition\":\"auto\",\"x\":[\"Female\",\"Male\"],\"xaxis\":\"x\",\"y\":[3832,2992],\"yaxis\":\"y\",\"type\":\"bar\"},{\"alignmentgroup\":\"True\",\"hovertemplate\":\"<b>%{hovertext}</b><br><br>Race=Native Hawaiian Pacific Islander<br>Year=2017<br>Sex=%{x}<br>Enrollment=%{y}<extra></extra>\",\"hovertext\":[\"Female, Native Hawaiian Pacific Islander\",\"Male, Native Hawaiian Pacific Islander\"],\"legendgroup\":\"Native Hawaiian Pacific Islander\",\"marker\":{\"color\":\"#ab63fa\",\"pattern\":{\"shape\":\"\"}},\"name\":\"Native Hawaiian Pacific Islander\",\"offsetgroup\":\"Native Hawaiian Pacific Islander\",\"orientation\":\"v\",\"showlegend\":false,\"textposition\":\"auto\",\"x\":[\"Female\",\"Male\"],\"xaxis\":\"x2\",\"y\":[3056,2264],\"yaxis\":\"y2\",\"type\":\"bar\"},{\"alignmentgroup\":\"True\",\"hovertemplate\":\"<b>%{hovertext}</b><br><br>Race=Native Hawaiian Pacific Islander<br>Year=2018<br>Sex=%{x}<br>Enrollment=%{y}<extra></extra>\",\"hovertext\":[\"Female, Native Hawaiian Pacific Islander\",\"Male, Native Hawaiian Pacific Islander\"],\"legendgroup\":\"Native Hawaiian Pacific Islander\",\"marker\":{\"color\":\"#ab63fa\",\"pattern\":{\"shape\":\"\"}},\"name\":\"Native Hawaiian Pacific Islander\",\"offsetgroup\":\"Native Hawaiian Pacific Islander\",\"orientation\":\"v\",\"showlegend\":false,\"textposition\":\"auto\",\"x\":[\"Female\",\"Male\"],\"xaxis\":\"x3\",\"y\":[2648,1398],\"yaxis\":\"y3\",\"type\":\"bar\"},{\"alignmentgroup\":\"True\",\"hovertemplate\":\"<b>%{hovertext}</b><br><br>Race=Native Hawaiian Pacific Islander<br>Year=2019<br>Sex=%{x}<br>Enrollment=%{y}<extra></extra>\",\"hovertext\":[\"Female, Native Hawaiian Pacific Islander\",\"Male, Native Hawaiian Pacific Islander\"],\"legendgroup\":\"Native Hawaiian Pacific Islander\",\"marker\":{\"color\":\"#ab63fa\",\"pattern\":{\"shape\":\"\"}},\"name\":\"Native Hawaiian Pacific Islander\",\"offsetgroup\":\"Native Hawaiian Pacific Islander\",\"orientation\":\"v\",\"showlegend\":false,\"textposition\":\"auto\",\"x\":[\"Female\",\"Male\"],\"xaxis\":\"x4\",\"y\":[3145,1706],\"yaxis\":\"y4\",\"type\":\"bar\"},{\"alignmentgroup\":\"True\",\"hovertemplate\":\"<b>%{hovertext}</b><br><br>Race=Native Hawaiian Pacific Islander<br>Year=2020<br>Sex=%{x}<br>Enrollment=%{y}<extra></extra>\",\"hovertext\":[\"Female, Native Hawaiian Pacific Islander\",\"Male, Native Hawaiian Pacific Islander\"],\"legendgroup\":\"Native Hawaiian Pacific Islander\",\"marker\":{\"color\":\"#ab63fa\",\"pattern\":{\"shape\":\"\"}},\"name\":\"Native Hawaiian Pacific Islander\",\"offsetgroup\":\"Native Hawaiian Pacific Islander\",\"orientation\":\"v\",\"showlegend\":false,\"textposition\":\"auto\",\"x\":[\"Female\",\"Male\"],\"xaxis\":\"x5\",\"y\":[3851,2023],\"yaxis\":\"y5\",\"type\":\"bar\"},{\"alignmentgroup\":\"True\",\"hovertemplate\":\"<b>%{hovertext}</b><br><br>Race=Native Hawaiian Pacific Islander<br>Year=2021<br>Sex=%{x}<br>Enrollment=%{y}<extra></extra>\",\"hovertext\":[\"Female, Native Hawaiian Pacific Islander\",\"Male, Native Hawaiian Pacific Islander\"],\"legendgroup\":\"Native Hawaiian Pacific Islander\",\"marker\":{\"color\":\"#ab63fa\",\"pattern\":{\"shape\":\"\"}},\"name\":\"Native Hawaiian Pacific Islander\",\"offsetgroup\":\"Native Hawaiian Pacific Islander\",\"orientation\":\"v\",\"showlegend\":false,\"textposition\":\"auto\",\"x\":[\"Female\",\"Male\"],\"xaxis\":\"x6\",\"y\":[33086,29970],\"yaxis\":\"y6\",\"type\":\"bar\"},{\"alignmentgroup\":\"True\",\"hovertemplate\":\"<b>%{hovertext}</b><br><br>Race=White<br>Year=2016<br>Sex=%{x}<br>Enrollment=%{y}<extra></extra>\",\"hovertext\":[\"Female, White\",\"Male, White\"],\"legendgroup\":\"White\",\"marker\":{\"color\":\"#FFA15A\",\"pattern\":{\"shape\":\"\"}},\"name\":\"White\",\"offsetgroup\":\"White\",\"orientation\":\"v\",\"showlegend\":true,\"textposition\":\"auto\",\"x\":[\"Female\",\"Male\"],\"xaxis\":\"x\",\"y\":[2147704,1399518],\"yaxis\":\"y\",\"type\":\"bar\"},{\"alignmentgroup\":\"True\",\"hovertemplate\":\"<b>%{hovertext}</b><br><br>Race=White<br>Year=2017<br>Sex=%{x}<br>Enrollment=%{y}<extra></extra>\",\"hovertext\":[\"Female, White\",\"Male, White\"],\"legendgroup\":\"White\",\"marker\":{\"color\":\"#FFA15A\",\"pattern\":{\"shape\":\"\"}},\"name\":\"White\",\"offsetgroup\":\"White\",\"orientation\":\"v\",\"showlegend\":false,\"textposition\":\"auto\",\"x\":[\"Female\",\"Male\"],\"xaxis\":\"x2\",\"y\":[1521500,1264625],\"yaxis\":\"y2\",\"type\":\"bar\"},{\"alignmentgroup\":\"True\",\"hovertemplate\":\"<b>%{hovertext}</b><br><br>Race=White<br>Year=2018<br>Sex=%{x}<br>Enrollment=%{y}<extra></extra>\",\"hovertext\":[\"Female, White\",\"Male, White\"],\"legendgroup\":\"White\",\"marker\":{\"color\":\"#FFA15A\",\"pattern\":{\"shape\":\"\"}},\"name\":\"White\",\"offsetgroup\":\"White\",\"orientation\":\"v\",\"showlegend\":false,\"textposition\":\"auto\",\"x\":[\"Female\",\"Male\"],\"xaxis\":\"x3\",\"y\":[1286750,929958],\"yaxis\":\"y3\",\"type\":\"bar\"},{\"alignmentgroup\":\"True\",\"hovertemplate\":\"<b>%{hovertext}</b><br><br>Race=White<br>Year=2019<br>Sex=%{x}<br>Enrollment=%{y}<extra></extra>\",\"hovertext\":[\"Female, White\",\"Male, White\"],\"legendgroup\":\"White\",\"marker\":{\"color\":\"#FFA15A\",\"pattern\":{\"shape\":\"\"}},\"name\":\"White\",\"offsetgroup\":\"White\",\"orientation\":\"v\",\"showlegend\":false,\"textposition\":\"auto\",\"x\":[\"Female\",\"Male\"],\"xaxis\":\"x4\",\"y\":[1328632,909335],\"yaxis\":\"y4\",\"type\":\"bar\"},{\"alignmentgroup\":\"True\",\"hovertemplate\":\"<b>%{hovertext}</b><br><br>Race=White<br>Year=2020<br>Sex=%{x}<br>Enrollment=%{y}<extra></extra>\",\"hovertext\":[\"Female, White\",\"Male, White\"],\"legendgroup\":\"White\",\"marker\":{\"color\":\"#FFA15A\",\"pattern\":{\"shape\":\"\"}},\"name\":\"White\",\"offsetgroup\":\"White\",\"orientation\":\"v\",\"showlegend\":false,\"textposition\":\"auto\",\"x\":[\"Female\",\"Male\"],\"xaxis\":\"x5\",\"y\":[1509888,951835],\"yaxis\":\"y5\",\"type\":\"bar\"},{\"alignmentgroup\":\"True\",\"hovertemplate\":\"<b>%{hovertext}</b><br><br>Race=White<br>Year=2021<br>Sex=%{x}<br>Enrollment=%{y}<extra></extra>\",\"hovertext\":[\"Female, White\",\"Male, White\"],\"legendgroup\":\"White\",\"marker\":{\"color\":\"#FFA15A\",\"pattern\":{\"shape\":\"\"}},\"name\":\"White\",\"offsetgroup\":\"White\",\"orientation\":\"v\",\"showlegend\":false,\"textposition\":\"auto\",\"x\":[\"Female\",\"Male\"],\"xaxis\":\"x6\",\"y\":[2105329,1420952],\"yaxis\":\"y6\",\"type\":\"bar\"},{\"alignmentgroup\":\"True\",\"hovertemplate\":\"<b>%{hovertext}</b><br><br>Race=More Than One Race<br>Year=2016<br>Sex=%{x}<br>Enrollment=%{y}<extra></extra>\",\"hovertext\":[\"Female, More Than One Race\",\"Male, More Than One Race\"],\"legendgroup\":\"More Than One Race\",\"marker\":{\"color\":\"#19d3f3\",\"pattern\":{\"shape\":\"\"}},\"name\":\"More Than One Race\",\"offsetgroup\":\"More Than One Race\",\"orientation\":\"v\",\"showlegend\":true,\"textposition\":\"auto\",\"x\":[\"Female\",\"Male\"],\"xaxis\":\"x\",\"y\":[23184,11488],\"yaxis\":\"y\",\"type\":\"bar\"},{\"alignmentgroup\":\"True\",\"hovertemplate\":\"<b>%{hovertext}</b><br><br>Race=More Than One Race<br>Year=2017<br>Sex=%{x}<br>Enrollment=%{y}<extra></extra>\",\"hovertext\":[\"Female, More Than One Race\",\"Male, More Than One Race\"],\"legendgroup\":\"More Than One Race\",\"marker\":{\"color\":\"#19d3f3\",\"pattern\":{\"shape\":\"\"}},\"name\":\"More Than One Race\",\"offsetgroup\":\"More Than One Race\",\"orientation\":\"v\",\"showlegend\":false,\"textposition\":\"auto\",\"x\":[\"Female\",\"Male\"],\"xaxis\":\"x2\",\"y\":[23780,15505],\"yaxis\":\"y2\",\"type\":\"bar\"},{\"alignmentgroup\":\"True\",\"hovertemplate\":\"<b>%{hovertext}</b><br><br>Race=More Than One Race<br>Year=2018<br>Sex=%{x}<br>Enrollment=%{y}<extra></extra>\",\"hovertext\":[\"Female, More Than One Race\",\"Male, More Than One Race\"],\"legendgroup\":\"More Than One Race\",\"marker\":{\"color\":\"#19d3f3\",\"pattern\":{\"shape\":\"\"}},\"name\":\"More Than One Race\",\"offsetgroup\":\"More Than One Race\",\"orientation\":\"v\",\"showlegend\":false,\"textposition\":\"auto\",\"x\":[\"Female\",\"Male\"],\"xaxis\":\"x3\",\"y\":[35429,14286],\"yaxis\":\"y3\",\"type\":\"bar\"},{\"alignmentgroup\":\"True\",\"hovertemplate\":\"<b>%{hovertext}</b><br><br>Race=More Than One Race<br>Year=2019<br>Sex=%{x}<br>Enrollment=%{y}<extra></extra>\",\"hovertext\":[\"Female, More Than One Race\",\"Male, More Than One Race\"],\"legendgroup\":\"More Than One Race\",\"marker\":{\"color\":\"#19d3f3\",\"pattern\":{\"shape\":\"\"}},\"name\":\"More Than One Race\",\"offsetgroup\":\"More Than One Race\",\"orientation\":\"v\",\"showlegend\":false,\"textposition\":\"auto\",\"x\":[\"Female\",\"Male\"],\"xaxis\":\"x4\",\"y\":[32052,12832],\"yaxis\":\"y4\",\"type\":\"bar\"},{\"alignmentgroup\":\"True\",\"hovertemplate\":\"<b>%{hovertext}</b><br><br>Race=More Than One Race<br>Year=2020<br>Sex=%{x}<br>Enrollment=%{y}<extra></extra>\",\"hovertext\":[\"Female, More Than One Race\",\"Male, More Than One Race\"],\"legendgroup\":\"More Than One Race\",\"marker\":{\"color\":\"#19d3f3\",\"pattern\":{\"shape\":\"\"}},\"name\":\"More Than One Race\",\"offsetgroup\":\"More Than One Race\",\"orientation\":\"v\",\"showlegend\":false,\"textposition\":\"auto\",\"x\":[\"Female\",\"Male\"],\"xaxis\":\"x5\",\"y\":[45541,15841],\"yaxis\":\"y5\",\"type\":\"bar\"},{\"alignmentgroup\":\"True\",\"hovertemplate\":\"<b>%{hovertext}</b><br><br>Race=More Than One Race<br>Year=2021<br>Sex=%{x}<br>Enrollment=%{y}<extra></extra>\",\"hovertext\":[\"Female, More Than One Race\",\"Male, More Than One Race\"],\"legendgroup\":\"More Than One Race\",\"marker\":{\"color\":\"#19d3f3\",\"pattern\":{\"shape\":\"\"}},\"name\":\"More Than One Race\",\"offsetgroup\":\"More Than One Race\",\"orientation\":\"v\",\"showlegend\":false,\"textposition\":\"auto\",\"x\":[\"Female\",\"Male\"],\"xaxis\":\"x6\",\"y\":[43192,13741],\"yaxis\":\"y6\",\"type\":\"bar\"}],                        {\"template\":{\"data\":{\"histogram2dcontour\":[{\"type\":\"histogram2dcontour\",\"colorbar\":{\"outlinewidth\":0,\"ticks\":\"\"},\"colorscale\":[[0.0,\"#0d0887\"],[0.1111111111111111,\"#46039f\"],[0.2222222222222222,\"#7201a8\"],[0.3333333333333333,\"#9c179e\"],[0.4444444444444444,\"#bd3786\"],[0.5555555555555556,\"#d8576b\"],[0.6666666666666666,\"#ed7953\"],[0.7777777777777778,\"#fb9f3a\"],[0.8888888888888888,\"#fdca26\"],[1.0,\"#f0f921\"]]}],\"choropleth\":[{\"type\":\"choropleth\",\"colorbar\":{\"outlinewidth\":0,\"ticks\":\"\"}}],\"histogram2d\":[{\"type\":\"histogram2d\",\"colorbar\":{\"outlinewidth\":0,\"ticks\":\"\"},\"colorscale\":[[0.0,\"#0d0887\"],[0.1111111111111111,\"#46039f\"],[0.2222222222222222,\"#7201a8\"],[0.3333333333333333,\"#9c179e\"],[0.4444444444444444,\"#bd3786\"],[0.5555555555555556,\"#d8576b\"],[0.6666666666666666,\"#ed7953\"],[0.7777777777777778,\"#fb9f3a\"],[0.8888888888888888,\"#fdca26\"],[1.0,\"#f0f921\"]]}],\"heatmap\":[{\"type\":\"heatmap\",\"colorbar\":{\"outlinewidth\":0,\"ticks\":\"\"},\"colorscale\":[[0.0,\"#0d0887\"],[0.1111111111111111,\"#46039f\"],[0.2222222222222222,\"#7201a8\"],[0.3333333333333333,\"#9c179e\"],[0.4444444444444444,\"#bd3786\"],[0.5555555555555556,\"#d8576b\"],[0.6666666666666666,\"#ed7953\"],[0.7777777777777778,\"#fb9f3a\"],[0.8888888888888888,\"#fdca26\"],[1.0,\"#f0f921\"]]}],\"heatmapgl\":[{\"type\":\"heatmapgl\",\"colorbar\":{\"outlinewidth\":0,\"ticks\":\"\"},\"colorscale\":[[0.0,\"#0d0887\"],[0.1111111111111111,\"#46039f\"],[0.2222222222222222,\"#7201a8\"],[0.3333333333333333,\"#9c179e\"],[0.4444444444444444,\"#bd3786\"],[0.5555555555555556,\"#d8576b\"],[0.6666666666666666,\"#ed7953\"],[0.7777777777777778,\"#fb9f3a\"],[0.8888888888888888,\"#fdca26\"],[1.0,\"#f0f921\"]]}],\"contourcarpet\":[{\"type\":\"contourcarpet\",\"colorbar\":{\"outlinewidth\":0,\"ticks\":\"\"}}],\"contour\":[{\"type\":\"contour\",\"colorbar\":{\"outlinewidth\":0,\"ticks\":\"\"},\"colorscale\":[[0.0,\"#0d0887\"],[0.1111111111111111,\"#46039f\"],[0.2222222222222222,\"#7201a8\"],[0.3333333333333333,\"#9c179e\"],[0.4444444444444444,\"#bd3786\"],[0.5555555555555556,\"#d8576b\"],[0.6666666666666666,\"#ed7953\"],[0.7777777777777778,\"#fb9f3a\"],[0.8888888888888888,\"#fdca26\"],[1.0,\"#f0f921\"]]}],\"surface\":[{\"type\":\"surface\",\"colorbar\":{\"outlinewidth\":0,\"ticks\":\"\"},\"colorscale\":[[0.0,\"#0d0887\"],[0.1111111111111111,\"#46039f\"],[0.2222222222222222,\"#7201a8\"],[0.3333333333333333,\"#9c179e\"],[0.4444444444444444,\"#bd3786\"],[0.5555555555555556,\"#d8576b\"],[0.6666666666666666,\"#ed7953\"],[0.7777777777777778,\"#fb9f3a\"],[0.8888888888888888,\"#fdca26\"],[1.0,\"#f0f921\"]]}],\"mesh3d\":[{\"type\":\"mesh3d\",\"colorbar\":{\"outlinewidth\":0,\"ticks\":\"\"}}],\"scatter\":[{\"fillpattern\":{\"fillmode\":\"overlay\",\"size\":10,\"solidity\":0.2},\"type\":\"scatter\"}],\"parcoords\":[{\"type\":\"parcoords\",\"line\":{\"colorbar\":{\"outlinewidth\":0,\"ticks\":\"\"}}}],\"scatterpolargl\":[{\"type\":\"scatterpolargl\",\"marker\":{\"colorbar\":{\"outlinewidth\":0,\"ticks\":\"\"}}}],\"bar\":[{\"error_x\":{\"color\":\"#2a3f5f\"},\"error_y\":{\"color\":\"#2a3f5f\"},\"marker\":{\"line\":{\"color\":\"#E5ECF6\",\"width\":0.5},\"pattern\":{\"fillmode\":\"overlay\",\"size\":10,\"solidity\":0.2}},\"type\":\"bar\"}],\"scattergeo\":[{\"type\":\"scattergeo\",\"marker\":{\"colorbar\":{\"outlinewidth\":0,\"ticks\":\"\"}}}],\"scatterpolar\":[{\"type\":\"scatterpolar\",\"marker\":{\"colorbar\":{\"outlinewidth\":0,\"ticks\":\"\"}}}],\"histogram\":[{\"marker\":{\"pattern\":{\"fillmode\":\"overlay\",\"size\":10,\"solidity\":0.2}},\"type\":\"histogram\"}],\"scattergl\":[{\"type\":\"scattergl\",\"marker\":{\"colorbar\":{\"outlinewidth\":0,\"ticks\":\"\"}}}],\"scatter3d\":[{\"type\":\"scatter3d\",\"line\":{\"colorbar\":{\"outlinewidth\":0,\"ticks\":\"\"}},\"marker\":{\"colorbar\":{\"outlinewidth\":0,\"ticks\":\"\"}}}],\"scattermapbox\":[{\"type\":\"scattermapbox\",\"marker\":{\"colorbar\":{\"outlinewidth\":0,\"ticks\":\"\"}}}],\"scatterternary\":[{\"type\":\"scatterternary\",\"marker\":{\"colorbar\":{\"outlinewidth\":0,\"ticks\":\"\"}}}],\"scattercarpet\":[{\"type\":\"scattercarpet\",\"marker\":{\"colorbar\":{\"outlinewidth\":0,\"ticks\":\"\"}}}],\"carpet\":[{\"aaxis\":{\"endlinecolor\":\"#2a3f5f\",\"gridcolor\":\"white\",\"linecolor\":\"white\",\"minorgridcolor\":\"white\",\"startlinecolor\":\"#2a3f5f\"},\"baxis\":{\"endlinecolor\":\"#2a3f5f\",\"gridcolor\":\"white\",\"linecolor\":\"white\",\"minorgridcolor\":\"white\",\"startlinecolor\":\"#2a3f5f\"},\"type\":\"carpet\"}],\"table\":[{\"cells\":{\"fill\":{\"color\":\"#EBF0F8\"},\"line\":{\"color\":\"white\"}},\"header\":{\"fill\":{\"color\":\"#C8D4E3\"},\"line\":{\"color\":\"white\"}},\"type\":\"table\"}],\"barpolar\":[{\"marker\":{\"line\":{\"color\":\"#E5ECF6\",\"width\":0.5},\"pattern\":{\"fillmode\":\"overlay\",\"size\":10,\"solidity\":0.2}},\"type\":\"barpolar\"}],\"pie\":[{\"automargin\":true,\"type\":\"pie\"}]},\"layout\":{\"autotypenumbers\":\"strict\",\"colorway\":[\"#636efa\",\"#EF553B\",\"#00cc96\",\"#ab63fa\",\"#FFA15A\",\"#19d3f3\",\"#FF6692\",\"#B6E880\",\"#FF97FF\",\"#FECB52\"],\"font\":{\"color\":\"#2a3f5f\"},\"hovermode\":\"closest\",\"hoverlabel\":{\"align\":\"left\"},\"paper_bgcolor\":\"white\",\"plot_bgcolor\":\"#E5ECF6\",\"polar\":{\"bgcolor\":\"#E5ECF6\",\"angularaxis\":{\"gridcolor\":\"white\",\"linecolor\":\"white\",\"ticks\":\"\"},\"radialaxis\":{\"gridcolor\":\"white\",\"linecolor\":\"white\",\"ticks\":\"\"}},\"ternary\":{\"bgcolor\":\"#E5ECF6\",\"aaxis\":{\"gridcolor\":\"white\",\"linecolor\":\"white\",\"ticks\":\"\"},\"baxis\":{\"gridcolor\":\"white\",\"linecolor\":\"white\",\"ticks\":\"\"},\"caxis\":{\"gridcolor\":\"white\",\"linecolor\":\"white\",\"ticks\":\"\"}},\"coloraxis\":{\"colorbar\":{\"outlinewidth\":0,\"ticks\":\"\"}},\"colorscale\":{\"sequential\":[[0.0,\"#0d0887\"],[0.1111111111111111,\"#46039f\"],[0.2222222222222222,\"#7201a8\"],[0.3333333333333333,\"#9c179e\"],[0.4444444444444444,\"#bd3786\"],[0.5555555555555556,\"#d8576b\"],[0.6666666666666666,\"#ed7953\"],[0.7777777777777778,\"#fb9f3a\"],[0.8888888888888888,\"#fdca26\"],[1.0,\"#f0f921\"]],\"sequentialminus\":[[0.0,\"#0d0887\"],[0.1111111111111111,\"#46039f\"],[0.2222222222222222,\"#7201a8\"],[0.3333333333333333,\"#9c179e\"],[0.4444444444444444,\"#bd3786\"],[0.5555555555555556,\"#d8576b\"],[0.6666666666666666,\"#ed7953\"],[0.7777777777777778,\"#fb9f3a\"],[0.8888888888888888,\"#fdca26\"],[1.0,\"#f0f921\"]],\"diverging\":[[0,\"#8e0152\"],[0.1,\"#c51b7d\"],[0.2,\"#de77ae\"],[0.3,\"#f1b6da\"],[0.4,\"#fde0ef\"],[0.5,\"#f7f7f7\"],[0.6,\"#e6f5d0\"],[0.7,\"#b8e186\"],[0.8,\"#7fbc41\"],[0.9,\"#4d9221\"],[1,\"#276419\"]]},\"xaxis\":{\"gridcolor\":\"white\",\"linecolor\":\"white\",\"ticks\":\"\",\"title\":{\"standoff\":15},\"zerolinecolor\":\"white\",\"automargin\":true,\"zerolinewidth\":2},\"yaxis\":{\"gridcolor\":\"white\",\"linecolor\":\"white\",\"ticks\":\"\",\"title\":{\"standoff\":15},\"zerolinecolor\":\"white\",\"automargin\":true,\"zerolinewidth\":2},\"scene\":{\"xaxis\":{\"backgroundcolor\":\"#E5ECF6\",\"gridcolor\":\"white\",\"linecolor\":\"white\",\"showbackground\":true,\"ticks\":\"\",\"zerolinecolor\":\"white\",\"gridwidth\":2},\"yaxis\":{\"backgroundcolor\":\"#E5ECF6\",\"gridcolor\":\"white\",\"linecolor\":\"white\",\"showbackground\":true,\"ticks\":\"\",\"zerolinecolor\":\"white\",\"gridwidth\":2},\"zaxis\":{\"backgroundcolor\":\"#E5ECF6\",\"gridcolor\":\"white\",\"linecolor\":\"white\",\"showbackground\":true,\"ticks\":\"\",\"zerolinecolor\":\"white\",\"gridwidth\":2}},\"shapedefaults\":{\"line\":{\"color\":\"#2a3f5f\"}},\"annotationdefaults\":{\"arrowcolor\":\"#2a3f5f\",\"arrowhead\":0,\"arrowwidth\":1},\"geo\":{\"bgcolor\":\"white\",\"landcolor\":\"#E5ECF6\",\"subunitcolor\":\"white\",\"showland\":true,\"showlakes\":true,\"lakecolor\":\"white\"},\"title\":{\"x\":0.05},\"mapbox\":{\"style\":\"light\"}}},\"xaxis\":{\"anchor\":\"y\",\"domain\":[0.0,0.15],\"title\":{\"text\":\"Sex\"}},\"yaxis\":{\"anchor\":\"x\",\"domain\":[0.0,1.0],\"title\":{\"text\":\"Enrollment\"}},\"xaxis2\":{\"anchor\":\"y2\",\"domain\":[0.16999999999999998,0.31999999999999995],\"matches\":\"x\",\"title\":{\"text\":\"Sex\"}},\"yaxis2\":{\"anchor\":\"x2\",\"domain\":[0.0,1.0],\"matches\":\"y\",\"showticklabels\":false},\"xaxis3\":{\"anchor\":\"y3\",\"domain\":[0.33999999999999997,0.49],\"matches\":\"x\",\"title\":{\"text\":\"Sex\"}},\"yaxis3\":{\"anchor\":\"x3\",\"domain\":[0.0,1.0],\"matches\":\"y\",\"showticklabels\":false},\"xaxis4\":{\"anchor\":\"y4\",\"domain\":[0.51,0.66],\"matches\":\"x\",\"title\":{\"text\":\"Sex\"}},\"yaxis4\":{\"anchor\":\"x4\",\"domain\":[0.0,1.0],\"matches\":\"y\",\"showticklabels\":false},\"xaxis5\":{\"anchor\":\"y5\",\"domain\":[0.6799999999999999,0.83],\"matches\":\"x\",\"title\":{\"text\":\"Sex\"}},\"yaxis5\":{\"anchor\":\"x5\",\"domain\":[0.0,1.0],\"matches\":\"y\",\"showticklabels\":false},\"xaxis6\":{\"anchor\":\"y6\",\"domain\":[0.85,1.0],\"matches\":\"x\",\"title\":{\"text\":\"Sex\"}},\"yaxis6\":{\"anchor\":\"x6\",\"domain\":[0.0,1.0],\"matches\":\"y\",\"showticklabels\":false},\"annotations\":[{\"font\":{},\"showarrow\":false,\"text\":\"Year=2016\",\"x\":0.075,\"xanchor\":\"center\",\"xref\":\"paper\",\"y\":1.0,\"yanchor\":\"bottom\",\"yref\":\"paper\"},{\"font\":{},\"showarrow\":false,\"text\":\"Year=2017\",\"x\":0.24499999999999997,\"xanchor\":\"center\",\"xref\":\"paper\",\"y\":1.0,\"yanchor\":\"bottom\",\"yref\":\"paper\"},{\"font\":{},\"showarrow\":false,\"text\":\"Year=2018\",\"x\":0.415,\"xanchor\":\"center\",\"xref\":\"paper\",\"y\":1.0,\"yanchor\":\"bottom\",\"yref\":\"paper\"},{\"font\":{},\"showarrow\":false,\"text\":\"Year=2019\",\"x\":0.585,\"xanchor\":\"center\",\"xref\":\"paper\",\"y\":1.0,\"yanchor\":\"bottom\",\"yref\":\"paper\"},{\"font\":{},\"showarrow\":false,\"text\":\"Year=2020\",\"x\":0.7549999999999999,\"xanchor\":\"center\",\"xref\":\"paper\",\"y\":1.0,\"yanchor\":\"bottom\",\"yref\":\"paper\"},{\"font\":{},\"showarrow\":false,\"text\":\"Year=2021\",\"x\":0.925,\"xanchor\":\"center\",\"xref\":\"paper\",\"y\":1.0,\"yanchor\":\"bottom\",\"yref\":\"paper\"}],\"legend\":{\"title\":{\"text\":\"Race\"},\"tracegroupgap\":0},\"margin\":{\"t\":60},\"barmode\":\"group\"},                        {\"responsive\": true}                    ).then(function(){\n",
       "                            \n",
       "var gd = document.getElementById('b50f2c46-caa7-4007-a29e-71b9914168ad');\n",
       "var x = new MutationObserver(function (mutations, observer) {{\n",
       "        var display = window.getComputedStyle(gd).display;\n",
       "        if (!display || display === 'none') {{\n",
       "            console.log([gd, 'removed!']);\n",
       "            Plotly.purge(gd);\n",
       "            observer.disconnect();\n",
       "        }}\n",
       "}});\n",
       "\n",
       "// Listen for the removal of the full notebook cells\n",
       "var notebookContainer = gd.closest('#notebook-container');\n",
       "if (notebookContainer) {{\n",
       "    x.observe(notebookContainer, {childList: true});\n",
       "}}\n",
       "\n",
       "// Listen for the clearing of the current output cell\n",
       "var outputEl = gd.closest('.output');\n",
       "if (outputEl) {{\n",
       "    x.observe(outputEl, {childList: true});\n",
       "}}\n",
       "\n",
       "                        })                };                });            </script>        </div>"
      ]
     },
     "metadata": {},
     "output_type": "display_data"
    }
   ],
   "source": [
    "enroll_race['Race, Sex'] = enroll_race[enroll_race.columns[1:3]].apply(\n",
    "    lambda x: ', '.join(x.dropna().astype(str)), axis=1)\n",
    "\n",
    "fig = px.bar(enroll_race, x=\"Sex\", y=\"Enrollment\", facet_col=\"Year\",\n",
    "             color='Race', hover_name=\"Race, Sex\", barmode='group')\n",
    "fig.show()"
   ]
  },
  {
   "cell_type": "raw",
   "id": "e1c52a61",
   "metadata": {},
   "source": [
    "import plotly.graph_objects as go\n",
    "\n",
    "fig = go.Figure()\n",
    "\n",
    "fig.update_layout(\n",
    "    template=\"simple_white\",\n",
    "    xaxis=dict(title_text=\"Year\"),\n",
    "    yaxis=dict(title_text=\"Enrollment\"),\n",
    "    #barmode=\"group\",\n",
    ")\n",
    "\n",
    "colors = [\"aqua\", \"goldenrod\", \"plum\", \"olive\", \"firebrick\", \"coral\"]\n",
    "\n",
    "for r, c in zip(enroll_race['Year'].unique(), colors):\n",
    "    plot_df = enroll_race[enroll_race['Year'] == r]\n",
    "    fig.add_trace(\n",
    "        go.Bar(x=[enroll_race['Year'], enroll_race['Race']], \n",
    "               y=enroll_race['Enrollment'],\n",
    "               name=str(r), marker_color=c),\n",
    "    )\n",
    "\n",
    "fig.show()"
   ]
  },
  {
   "cell_type": "markdown",
   "id": "9acca95d",
   "metadata": {},
   "source": [
    "# Data from NIH RCDC Inclusion Statistics Report\n",
    "- https://report.nih.gov/RISR/#/home?single=All%20Studies&ic=NCI&rcdcFilter=cancer&facet=Race&fiscalYear=2021"
   ]
  },
  {
   "cell_type": "code",
   "execution_count": 145,
   "id": "e54a3e11",
   "metadata": {},
   "outputs": [
    {
     "data": {
      "text/html": [
       "<div>\n",
       "<style scoped>\n",
       "    .dataframe tbody tr th:only-of-type {\n",
       "        vertical-align: middle;\n",
       "    }\n",
       "\n",
       "    .dataframe tbody tr th {\n",
       "        vertical-align: top;\n",
       "    }\n",
       "\n",
       "    .dataframe thead th {\n",
       "        text-align: right;\n",
       "    }\n",
       "</style>\n",
       "<table border=\"1\" class=\"dataframe\">\n",
       "  <thead>\n",
       "    <tr style=\"text-align: right;\">\n",
       "      <th></th>\n",
       "      <th>RCDC Category</th>\n",
       "      <th>American Indian or Alaska Native Participants</th>\n",
       "      <th>Asian Participants</th>\n",
       "      <th>Native Hawaiian or Other Pacific Islander Participants</th>\n",
       "      <th>Black or African American Participants</th>\n",
       "      <th>White Participants</th>\n",
       "      <th>Participants of More than One Race</th>\n",
       "      <th>Participants of Unknown or Unreported Race</th>\n",
       "    </tr>\n",
       "  </thead>\n",
       "  <tbody>\n",
       "    <tr>\n",
       "      <th>0</th>\n",
       "      <td>Brain Cancer</td>\n",
       "      <td>187</td>\n",
       "      <td>81047</td>\n",
       "      <td>50</td>\n",
       "      <td>7894</td>\n",
       "      <td>45793</td>\n",
       "      <td>190</td>\n",
       "      <td>8202</td>\n",
       "    </tr>\n",
       "    <tr>\n",
       "      <th>1</th>\n",
       "      <td>Breast Cancer</td>\n",
       "      <td>9142</td>\n",
       "      <td>200317</td>\n",
       "      <td>2394</td>\n",
       "      <td>161097</td>\n",
       "      <td>1256260</td>\n",
       "      <td>23005</td>\n",
       "      <td>299274</td>\n",
       "    </tr>\n",
       "    <tr>\n",
       "      <th>2</th>\n",
       "      <td>Cancer</td>\n",
       "      <td>29466</td>\n",
       "      <td>456813</td>\n",
       "      <td>62967</td>\n",
       "      <td>552598</td>\n",
       "      <td>3502761</td>\n",
       "      <td>55345</td>\n",
       "      <td>863694</td>\n",
       "    </tr>\n",
       "    <tr>\n",
       "      <th>3</th>\n",
       "      <td>Cancer Genomics</td>\n",
       "      <td>622</td>\n",
       "      <td>35986</td>\n",
       "      <td>223</td>\n",
       "      <td>29577</td>\n",
       "      <td>330304</td>\n",
       "      <td>1006</td>\n",
       "      <td>22825</td>\n",
       "    </tr>\n",
       "    <tr>\n",
       "      <th>4</th>\n",
       "      <td>Cervical Cancer</td>\n",
       "      <td>689</td>\n",
       "      <td>2947</td>\n",
       "      <td>107</td>\n",
       "      <td>11052</td>\n",
       "      <td>52663</td>\n",
       "      <td>565</td>\n",
       "      <td>120817</td>\n",
       "    </tr>\n",
       "    <tr>\n",
       "      <th>5</th>\n",
       "      <td>Colo-Rectal Cancer</td>\n",
       "      <td>2146</td>\n",
       "      <td>4498</td>\n",
       "      <td>270</td>\n",
       "      <td>14704</td>\n",
       "      <td>109212</td>\n",
       "      <td>1304</td>\n",
       "      <td>24393</td>\n",
       "    </tr>\n",
       "    <tr>\n",
       "      <th>6</th>\n",
       "      <td>Esophageal Cancer</td>\n",
       "      <td>46</td>\n",
       "      <td>40709</td>\n",
       "      <td>0</td>\n",
       "      <td>867</td>\n",
       "      <td>59410</td>\n",
       "      <td>54</td>\n",
       "      <td>1027</td>\n",
       "    </tr>\n",
       "    <tr>\n",
       "      <th>7</th>\n",
       "      <td>HPV and/or Cervical Cancer Vaccines</td>\n",
       "      <td>583</td>\n",
       "      <td>1899</td>\n",
       "      <td>26</td>\n",
       "      <td>6354</td>\n",
       "      <td>11899</td>\n",
       "      <td>242</td>\n",
       "      <td>114025</td>\n",
       "    </tr>\n",
       "    <tr>\n",
       "      <th>8</th>\n",
       "      <td>Liver Cancer</td>\n",
       "      <td>399</td>\n",
       "      <td>11072</td>\n",
       "      <td>22</td>\n",
       "      <td>6128</td>\n",
       "      <td>35445</td>\n",
       "      <td>317</td>\n",
       "      <td>3166</td>\n",
       "    </tr>\n",
       "    <tr>\n",
       "      <th>9</th>\n",
       "      <td>Lung Cancer</td>\n",
       "      <td>13647</td>\n",
       "      <td>236492</td>\n",
       "      <td>59214</td>\n",
       "      <td>297611</td>\n",
       "      <td>1373180</td>\n",
       "      <td>1395</td>\n",
       "      <td>371791</td>\n",
       "    </tr>\n",
       "    <tr>\n",
       "      <th>10</th>\n",
       "      <td>Ovarian Cancer</td>\n",
       "      <td>384</td>\n",
       "      <td>981</td>\n",
       "      <td>20</td>\n",
       "      <td>7085</td>\n",
       "      <td>78753</td>\n",
       "      <td>388</td>\n",
       "      <td>6280</td>\n",
       "    </tr>\n",
       "    <tr>\n",
       "      <th>11</th>\n",
       "      <td>Pancreatic Cancer</td>\n",
       "      <td>48</td>\n",
       "      <td>86097</td>\n",
       "      <td>19</td>\n",
       "      <td>942</td>\n",
       "      <td>28299</td>\n",
       "      <td>25</td>\n",
       "      <td>517</td>\n",
       "    </tr>\n",
       "    <tr>\n",
       "      <th>12</th>\n",
       "      <td>Pediatric Cancer</td>\n",
       "      <td>841</td>\n",
       "      <td>13385</td>\n",
       "      <td>657</td>\n",
       "      <td>25882</td>\n",
       "      <td>142501</td>\n",
       "      <td>4118</td>\n",
       "      <td>91047</td>\n",
       "    </tr>\n",
       "    <tr>\n",
       "      <th>13</th>\n",
       "      <td>Prostate Cancer</td>\n",
       "      <td>52</td>\n",
       "      <td>2280</td>\n",
       "      <td>29</td>\n",
       "      <td>8262</td>\n",
       "      <td>89644</td>\n",
       "      <td>204</td>\n",
       "      <td>9454</td>\n",
       "    </tr>\n",
       "    <tr>\n",
       "      <th>14</th>\n",
       "      <td>Stomach Cancer</td>\n",
       "      <td>440</td>\n",
       "      <td>40689</td>\n",
       "      <td>0</td>\n",
       "      <td>759</td>\n",
       "      <td>59140</td>\n",
       "      <td>39</td>\n",
       "      <td>980</td>\n",
       "    </tr>\n",
       "    <tr>\n",
       "      <th>15</th>\n",
       "      <td>Uterine Cancer</td>\n",
       "      <td>366</td>\n",
       "      <td>744</td>\n",
       "      <td>13</td>\n",
       "      <td>6613</td>\n",
       "      <td>70363</td>\n",
       "      <td>220</td>\n",
       "      <td>3294</td>\n",
       "    </tr>\n",
       "    <tr>\n",
       "      <th>16</th>\n",
       "      <td>Vaginal Cancer</td>\n",
       "      <td>0</td>\n",
       "      <td>463</td>\n",
       "      <td>0</td>\n",
       "      <td>97</td>\n",
       "      <td>9801</td>\n",
       "      <td>0</td>\n",
       "      <td>1047</td>\n",
       "    </tr>\n",
       "  </tbody>\n",
       "</table>\n",
       "</div>"
      ],
      "text/plain": [
       "                          RCDC Category  \\\n",
       "0                          Brain Cancer   \n",
       "1                         Breast Cancer   \n",
       "2                                Cancer   \n",
       "3                       Cancer Genomics   \n",
       "4                       Cervical Cancer   \n",
       "5                    Colo-Rectal Cancer   \n",
       "6                     Esophageal Cancer   \n",
       "7   HPV and/or Cervical Cancer Vaccines   \n",
       "8                          Liver Cancer   \n",
       "9                           Lung Cancer   \n",
       "10                       Ovarian Cancer   \n",
       "11                    Pancreatic Cancer   \n",
       "12                     Pediatric Cancer   \n",
       "13                      Prostate Cancer   \n",
       "14                       Stomach Cancer   \n",
       "15                       Uterine Cancer   \n",
       "16                       Vaginal Cancer   \n",
       "\n",
       "    American Indian or Alaska Native Participants  Asian Participants  \\\n",
       "0                                             187               81047   \n",
       "1                                            9142              200317   \n",
       "2                                           29466              456813   \n",
       "3                                             622               35986   \n",
       "4                                             689                2947   \n",
       "5                                            2146                4498   \n",
       "6                                              46               40709   \n",
       "7                                             583                1899   \n",
       "8                                             399               11072   \n",
       "9                                           13647              236492   \n",
       "10                                            384                 981   \n",
       "11                                             48               86097   \n",
       "12                                            841               13385   \n",
       "13                                             52                2280   \n",
       "14                                            440               40689   \n",
       "15                                            366                 744   \n",
       "16                                              0                 463   \n",
       "\n",
       "    Native Hawaiian or Other Pacific Islander Participants  \\\n",
       "0                                                  50        \n",
       "1                                                2394        \n",
       "2                                               62967        \n",
       "3                                                 223        \n",
       "4                                                 107        \n",
       "5                                                 270        \n",
       "6                                                   0        \n",
       "7                                                  26        \n",
       "8                                                  22        \n",
       "9                                               59214        \n",
       "10                                                 20        \n",
       "11                                                 19        \n",
       "12                                                657        \n",
       "13                                                 29        \n",
       "14                                                  0        \n",
       "15                                                 13        \n",
       "16                                                  0        \n",
       "\n",
       "    Black or African American Participants  White Participants  \\\n",
       "0                                     7894               45793   \n",
       "1                                   161097             1256260   \n",
       "2                                   552598             3502761   \n",
       "3                                    29577              330304   \n",
       "4                                    11052               52663   \n",
       "5                                    14704              109212   \n",
       "6                                      867               59410   \n",
       "7                                     6354               11899   \n",
       "8                                     6128               35445   \n",
       "9                                   297611             1373180   \n",
       "10                                    7085               78753   \n",
       "11                                     942               28299   \n",
       "12                                   25882              142501   \n",
       "13                                    8262               89644   \n",
       "14                                     759               59140   \n",
       "15                                    6613               70363   \n",
       "16                                      97                9801   \n",
       "\n",
       "    Participants of More than One Race  \\\n",
       "0                                  190   \n",
       "1                                23005   \n",
       "2                                55345   \n",
       "3                                 1006   \n",
       "4                                  565   \n",
       "5                                 1304   \n",
       "6                                   54   \n",
       "7                                  242   \n",
       "8                                  317   \n",
       "9                                 1395   \n",
       "10                                 388   \n",
       "11                                  25   \n",
       "12                                4118   \n",
       "13                                 204   \n",
       "14                                  39   \n",
       "15                                 220   \n",
       "16                                   0   \n",
       "\n",
       "    Participants of Unknown or Unreported Race  \n",
       "0                                         8202  \n",
       "1                                       299274  \n",
       "2                                       863694  \n",
       "3                                        22825  \n",
       "4                                       120817  \n",
       "5                                        24393  \n",
       "6                                         1027  \n",
       "7                                       114025  \n",
       "8                                         3166  \n",
       "9                                       371791  \n",
       "10                                        6280  \n",
       "11                                         517  \n",
       "12                                       91047  \n",
       "13                                        9454  \n",
       "14                                         980  \n",
       "15                                        3294  \n",
       "16                                        1047  "
      ]
     },
     "execution_count": 145,
     "metadata": {},
     "output_type": "execute_result"
    }
   ],
   "source": [
    "rcdc=pd.read_csv('2021-Race-Exc-Single.csv')\n",
    "cols=['RCDC Category',\n",
    "      'American Indian or Alaska Native Participants','Asian Participants',\n",
    "      'Native Hawaiian or Other Pacific Islander Participants','Black or African American Participants',\n",
    "      'White Participants','Participants of More than One Race','Participants of Unknown or Unreported Race']\n",
    "rcdc=rcdc[cols]\n",
    "rcdc=pd.DataFrame(rcdc.replace('<12',0))\n",
    "\n",
    "for col in cols[1:]:\n",
    "    rcdc[col]=rcdc[col].astype(int)\n",
    "\n",
    "rcdc"
   ]
  },
  {
   "cell_type": "code",
   "execution_count": 153,
   "id": "b9b83693",
   "metadata": {},
   "outputs": [
    {
     "data": {
      "text/plain": [
       "<matplotlib.legend.Legend at 0x7f7a0d1250a0>"
      ]
     },
     "execution_count": 153,
     "metadata": {},
     "output_type": "execute_result"
    },
    {
     "data": {
      "image/png": "[encoded data removed]",
      "text/plain": [
       "<Figure size 720x720 with 1 Axes>"
      ]
     },
     "metadata": {
      "needs_background": "light"
     },
     "output_type": "display_data"
    }
   ],
   "source": [
    "import matplotlib.pyplot as plt\n",
    "rcdc.set_index('RCDC Category').plot(kind='bar', stacked=True,figsize=(10,10))\n",
    "plt.tight_layout()\n",
    "plt.legend()"
   ]
  },
  {
   "cell_type": "code",
   "execution_count": 152,
   "id": "a6954ef7",
   "metadata": {},
   "outputs": [
    {
     "data": {
      "application/vnd.plotly.v1+json": {
       "config": {
        "plotlyServerURL": "https://plot.ly"
       },
       "data": [
        {
         "alignmentgroup": "True",
         "hovertemplate": "variable=American Indian or Alaska Native Participants<br>RCDC Category=%{x}<br>value=%{y}<extra></extra>",
         "legendgroup": "American Indian or Alaska Native Participants",
         "marker": {
          "color": "#636efa",
          "pattern": {
           "shape": ""
          }
         },
         "name": "American Indian or Alaska Native Participants",
         "offsetgroup": "American Indian or Alaska Native Participants",
         "orientation": "v",
         "showlegend": true,
         "textposition": "auto",
         "type": "bar",
         "x": [
          "Brain Cancer",
          "Breast Cancer",
          "Cancer",
          "Cancer Genomics",
          "Cervical Cancer",
          "Colo-Rectal Cancer",
          "Esophageal Cancer",
          "HPV and/or Cervical Cancer Vaccines",
          "Liver Cancer",
          "Lung Cancer",
          "Ovarian Cancer",
          "Pancreatic Cancer",
          "Pediatric Cancer",
          "Prostate Cancer",
          "Stomach Cancer",
          "Uterine Cancer",
          "Vaginal Cancer"
         ],
         "xaxis": "x",
         "y": [
          187,
          9142,
          29466,
          622,
          689,
          2146,
          46,
          583,
          399,
          13647,
          384,
          48,
          841,
          52,
          440,
          366,
          0
         ],
         "yaxis": "y"
        },
        {
         "alignmentgroup": "True",
         "hovertemplate": "variable=Asian Participants<br>RCDC Category=%{x}<br>value=%{y}<extra></extra>",
         "legendgroup": "Asian Participants",
         "marker": {
          "color": "#EF553B",
          "pattern": {
           "shape": ""
          }
         },
         "name": "Asian Participants",
         "offsetgroup": "Asian Participants",
         "orientation": "v",
         "showlegend": true,
         "textposition": "auto",
         "type": "bar",
         "x": [
          "Brain Cancer",
          "Breast Cancer",
          "Cancer",
          "Cancer Genomics",
          "Cervical Cancer",
          "Colo-Rectal Cancer",
          "Esophageal Cancer",
          "HPV and/or Cervical Cancer Vaccines",
          "Liver Cancer",
          "Lung Cancer",
          "Ovarian Cancer",
          "Pancreatic Cancer",
          "Pediatric Cancer",
          "Prostate Cancer",
          "Stomach Cancer",
          "Uterine Cancer",
          "Vaginal Cancer"
         ],
         "xaxis": "x",
         "y": [
          81047,
          200317,
          456813,
          35986,
          2947,
          4498,
          40709,
          1899,
          11072,
          236492,
          981,
          86097,
          13385,
          2280,
          40689,
          744,
          463
         ],
         "yaxis": "y"
        },
        {
         "alignmentgroup": "True",
         "hovertemplate": "variable=Native Hawaiian or Other Pacific Islander Participants<br>RCDC Category=%{x}<br>value=%{y}<extra></extra>",
         "legendgroup": "Native Hawaiian or Other Pacific Islander Participants",
         "marker": {
          "color": "#00cc96",
          "pattern": {
           "shape": ""
          }
         },
         "name": "Native Hawaiian or Other Pacific Islander Participants",
         "offsetgroup": "Native Hawaiian or Other Pacific Islander Participants",
         "orientation": "v",
         "showlegend": true,
         "textposition": "auto",
         "type": "bar",
         "x": [
          "Brain Cancer",
          "Breast Cancer",
          "Cancer",
          "Cancer Genomics",
          "Cervical Cancer",
          "Colo-Rectal Cancer",
          "Esophageal Cancer",
          "HPV and/or Cervical Cancer Vaccines",
          "Liver Cancer",
          "Lung Cancer",
          "Ovarian Cancer",
          "Pancreatic Cancer",
          "Pediatric Cancer",
          "Prostate Cancer",
          "Stomach Cancer",
          "Uterine Cancer",
          "Vaginal Cancer"
         ],
         "xaxis": "x",
         "y": [
          50,
          2394,
          62967,
          223,
          107,
          270,
          0,
          26,
          22,
          59214,
          20,
          19,
          657,
          29,
          0,
          13,
          0
         ],
         "yaxis": "y"
        },
        {
         "alignmentgroup": "True",
         "hovertemplate": "variable=Black or African American Participants<br>RCDC Category=%{x}<br>value=%{y}<extra></extra>",
         "legendgroup": "Black or African American Participants",
         "marker": {
          "color": "#ab63fa",
          "pattern": {
           "shape": ""
          }
         },
         "name": "Black or African American Participants",
         "offsetgroup": "Black or African American Participants",
         "orientation": "v",
         "showlegend": true,
         "textposition": "auto",
         "type": "bar",
         "x": [
          "Brain Cancer",
          "Breast Cancer",
          "Cancer",
          "Cancer Genomics",
          "Cervical Cancer",
          "Colo-Rectal Cancer",
          "Esophageal Cancer",
          "HPV and/or Cervical Cancer Vaccines",
          "Liver Cancer",
          "Lung Cancer",
          "Ovarian Cancer",
          "Pancreatic Cancer",
          "Pediatric Cancer",
          "Prostate Cancer",
          "Stomach Cancer",
          "Uterine Cancer",
          "Vaginal Cancer"
         ],
         "xaxis": "x",
         "y": [
          7894,
          161097,
          552598,
          29577,
          11052,
          14704,
          867,
          6354,
          6128,
          297611,
          7085,
          942,
          25882,
          8262,
          759,
          6613,
          97
         ],
         "yaxis": "y"
        },
        {
         "alignmentgroup": "True",
         "hovertemplate": "variable=White Participants<br>RCDC Category=%{x}<br>value=%{y}<extra></extra>",
         "legendgroup": "White Participants",
         "marker": {
          "color": "#FFA15A",
          "pattern": {
           "shape": ""
          }
         },
         "name": "White Participants",
         "offsetgroup": "White Participants",
         "orientation": "v",
         "showlegend": true,
         "textposition": "auto",
         "type": "bar",
         "x": [
          "Brain Cancer",
          "Breast Cancer",
          "Cancer",
          "Cancer Genomics",
          "Cervical Cancer",
          "Colo-Rectal Cancer",
          "Esophageal Cancer",
          "HPV and/or Cervical Cancer Vaccines",
          "Liver Cancer",
          "Lung Cancer",
          "Ovarian Cancer",
          "Pancreatic Cancer",
          "Pediatric Cancer",
          "Prostate Cancer",
          "Stomach Cancer",
          "Uterine Cancer",
          "Vaginal Cancer"
         ],
         "xaxis": "x",
         "y": [
          45793,
          1256260,
          3502761,
          330304,
          52663,
          109212,
          59410,
          11899,
          35445,
          1373180,
          78753,
          28299,
          142501,
          89644,
          59140,
          70363,
          9801
         ],
         "yaxis": "y"
        },
        {
         "alignmentgroup": "True",
         "hovertemplate": "variable=Participants of More than One Race<br>RCDC Category=%{x}<br>value=%{y}<extra></extra>",
         "legendgroup": "Participants of More than One Race",
         "marker": {
          "color": "#19d3f3",
          "pattern": {
           "shape": ""
          }
         },
         "name": "Participants of More than One Race",
         "offsetgroup": "Participants of More than One Race",
         "orientation": "v",
         "showlegend": true,
         "textposition": "auto",
         "type": "bar",
         "x": [
          "Brain Cancer",
          "Breast Cancer",
          "Cancer",
          "Cancer Genomics",
          "Cervical Cancer",
          "Colo-Rectal Cancer",
          "Esophageal Cancer",
          "HPV and/or Cervical Cancer Vaccines",
          "Liver Cancer",
          "Lung Cancer",
          "Ovarian Cancer",
          "Pancreatic Cancer",
          "Pediatric Cancer",
          "Prostate Cancer",
          "Stomach Cancer",
          "Uterine Cancer",
          "Vaginal Cancer"
         ],
         "xaxis": "x",
         "y": [
          190,
          23005,
          55345,
          1006,
          565,
          1304,
          54,
          242,
          317,
          1395,
          388,
          25,
          4118,
          204,
          39,
          220,
          0
         ],
         "yaxis": "y"
        },
        {
         "alignmentgroup": "True",
         "hovertemplate": "variable=Participants of Unknown or Unreported Race<br>RCDC Category=%{x}<br>value=%{y}<extra></extra>",
         "legendgroup": "Participants of Unknown or Unreported Race",
         "marker": {
          "color": "#FF6692",
          "pattern": {
           "shape": ""
          }
         },
         "name": "Participants of Unknown or Unreported Race",
         "offsetgroup": "Participants of Unknown or Unreported Race",
         "orientation": "v",
         "showlegend": true,
         "textposition": "auto",
         "type": "bar",
         "x": [
          "Brain Cancer",
          "Breast Cancer",
          "Cancer",
          "Cancer Genomics",
          "Cervical Cancer",
          "Colo-Rectal Cancer",
          "Esophageal Cancer",
          "HPV and/or Cervical Cancer Vaccines",
          "Liver Cancer",
          "Lung Cancer",
          "Ovarian Cancer",
          "Pancreatic Cancer",
          "Pediatric Cancer",
          "Prostate Cancer",
          "Stomach Cancer",
          "Uterine Cancer",
          "Vaginal Cancer"
         ],
         "xaxis": "x",
         "y": [
          8202,
          299274,
          863694,
          22825,
          120817,
          24393,
          1027,
          114025,
          3166,
          371791,
          6280,
          517,
          91047,
          9454,
          980,
          3294,
          1047
         ],
         "yaxis": "y"
        }
       ],
       "layout": {
        "barmode": "relative",
        "legend": {
         "title": {
          "text": "variable"
         },
         "tracegroupgap": 0
        },
        "margin": {
         "t": 60
        },
        "template": {
         "data": {
          "bar": [
           {
            "error_x": {
             "color": "#2a3f5f"
            },
            "error_y": {
             "color": "#2a3f5f"
            },
            "marker": {
             "line": {
              "color": "#E5ECF6",
              "width": 0.5
             },
             "pattern": {
              "fillmode": "overlay",
              "size": 10,
              "solidity": 0.2
             }
            },
            "type": "bar"
           }
          ],
          "barpolar": [
           {
            "marker": {
             "line": {
              "color": "#E5ECF6",
              "width": 0.5
             },
             "pattern": {
              "fillmode": "overlay",
              "size": 10,
              "solidity": 0.2
             }
            },
            "type": "barpolar"
           }
          ],
          "carpet": [
           {
            "aaxis": {
             "endlinecolor": "#2a3f5f",
             "gridcolor": "white",
             "linecolor": "white",
             "minorgridcolor": "white",
             "startlinecolor": "#2a3f5f"
            },
            "baxis": {
             "endlinecolor": "#2a3f5f",
             "gridcolor": "white",
             "linecolor": "white",
             "minorgridcolor": "white",
             "startlinecolor": "#2a3f5f"
            },
            "type": "carpet"
           }
          ],
          "choropleth": [
           {
            "colorbar": {
             "outlinewidth": 0,
             "ticks": ""
            },
            "type": "choropleth"
           }
          ],
          "contour": [
           {
            "colorbar": {
             "outlinewidth": 0,
             "ticks": ""
            },
            "colorscale": [
             [
              0,
              "#0d0887"
             ],
             [
              0.1111111111111111,
              "#46039f"
             ],
             [
              0.2222222222222222,
              "#7201a8"
             ],
             [
              0.3333333333333333,
              "#9c179e"
             ],
             [
              0.4444444444444444,
              "#bd3786"
             ],
             [
              0.5555555555555556,
              "#d8576b"
             ],
             [
              0.6666666666666666,
              "#ed7953"
             ],
             [
              0.7777777777777778,
              "#fb9f3a"
             ],
             [
              0.8888888888888888,
              "#fdca26"
             ],
             [
              1,
              "#f0f921"
             ]
            ],
            "type": "contour"
           }
          ],
          "contourcarpet": [
           {
            "colorbar": {
             "outlinewidth": 0,
             "ticks": ""
            },
            "type": "contourcarpet"
           }
          ],
          "heatmap": [
           {
            "colorbar": {
             "outlinewidth": 0,
             "ticks": ""
            },
            "colorscale": [
             [
              0,
              "#0d0887"
             ],
             [
              0.1111111111111111,
              "#46039f"
             ],
             [
              0.2222222222222222,
              "#7201a8"
             ],
             [
              0.3333333333333333,
              "#9c179e"
             ],
             [
              0.4444444444444444,
              "#bd3786"
             ],
             [
              0.5555555555555556,
              "#d8576b"
             ],
             [
              0.6666666666666666,
              "#ed7953"
             ],
             [
              0.7777777777777778,
              "#fb9f3a"
             ],
             [
              0.8888888888888888,
              "#fdca26"
             ],
             [
              1,
              "#f0f921"
             ]
            ],
            "type": "heatmap"
           }
          ],
          "heatmapgl": [
           {
            "colorbar": {
             "outlinewidth": 0,
             "ticks": ""
            },
            "colorscale": [
             [
              0,
              "#0d0887"
             ],
             [
              0.1111111111111111,
              "#46039f"
             ],
             [
              0.2222222222222222,
              "#7201a8"
             ],
             [
              0.3333333333333333,
              "#9c179e"
             ],
             [
              0.4444444444444444,
              "#bd3786"
             ],
             [
              0.5555555555555556,
              "#d8576b"
             ],
             [
              0.6666666666666666,
              "#ed7953"
             ],
             [
              0.7777777777777778,
              "#fb9f3a"
             ],
             [
              0.8888888888888888,
              "#fdca26"
             ],
             [
              1,
              "#f0f921"
             ]
            ],
            "type": "heatmapgl"
           }
          ],
          "histogram": [
           {
            "marker": {
             "pattern": {
              "fillmode": "overlay",
              "size": 10,
              "solidity": 0.2
             }
            },
            "type": "histogram"
           }
          ],
          "histogram2d": [
           {
            "colorbar": {
             "outlinewidth": 0,
             "ticks": ""
            },
            "colorscale": [
             [
              0,
              "#0d0887"
             ],
             [
              0.1111111111111111,
              "#46039f"
             ],
             [
              0.2222222222222222,
              "#7201a8"
             ],
             [
              0.3333333333333333,
              "#9c179e"
             ],
             [
              0.4444444444444444,
              "#bd3786"
             ],
             [
              0.5555555555555556,
              "#d8576b"
             ],
             [
              0.6666666666666666,
              "#ed7953"
             ],
             [
              0.7777777777777778,
              "#fb9f3a"
             ],
             [
              0.8888888888888888,
              "#fdca26"
             ],
             [
              1,
              "#f0f921"
             ]
            ],
            "type": "histogram2d"
           }
          ],
          "histogram2dcontour": [
           {
            "colorbar": {
             "outlinewidth": 0,
             "ticks": ""
            },
            "colorscale": [
             [
              0,
              "#0d0887"
             ],
             [
              0.1111111111111111,
              "#46039f"
             ],
             [
              0.2222222222222222,
              "#7201a8"
             ],
             [
              0.3333333333333333,
              "#9c179e"
             ],
             [
              0.4444444444444444,
              "#bd3786"
             ],
             [
              0.5555555555555556,
              "#d8576b"
             ],
             [
              0.6666666666666666,
              "#ed7953"
             ],
             [
              0.7777777777777778,
              "#fb9f3a"
             ],
             [
              0.8888888888888888,
              "#fdca26"
             ],
             [
              1,
              "#f0f921"
             ]
            ],
            "type": "histogram2dcontour"
           }
          ],
          "mesh3d": [
           {
            "colorbar": {
             "outlinewidth": 0,
             "ticks": ""
            },
            "type": "mesh3d"
           }
          ],
          "parcoords": [
           {
            "line": {
             "colorbar": {
              "outlinewidth": 0,
              "ticks": ""
             }
            },
            "type": "parcoords"
           }
          ],
          "pie": [
           {
            "automargin": true,
            "type": "pie"
           }
          ],
          "scatter": [
           {
            "fillpattern": {
             "fillmode": "overlay",
             "size": 10,
             "solidity": 0.2
            },
            "type": "scatter"
           }
          ],
          "scatter3d": [
           {
            "line": {
             "colorbar": {
              "outlinewidth": 0,
              "ticks": ""
             }
            },
            "marker": {
             "colorbar": {
              "outlinewidth": 0,
              "ticks": ""
             }
            },
            "type": "scatter3d"
           }
          ],
          "scattercarpet": [
           {
            "marker": {
             "colorbar": {
              "outlinewidth": 0,
              "ticks": ""
             }
            },
            "type": "scattercarpet"
           }
          ],
          "scattergeo": [
           {
            "marker": {
             "colorbar": {
              "outlinewidth": 0,
              "ticks": ""
             }
            },
            "type": "scattergeo"
           }
          ],
          "scattergl": [
           {
            "marker": {
             "colorbar": {
              "outlinewidth": 0,
              "ticks": ""
             }
            },
            "type": "scattergl"
           }
          ],
          "scattermapbox": [
           {
            "marker": {
             "colorbar": {
              "outlinewidth": 0,
              "ticks": ""
             }
            },
            "type": "scattermapbox"
           }
          ],
          "scatterpolar": [
           {
            "marker": {
             "colorbar": {
              "outlinewidth": 0,
              "ticks": ""
             }
            },
            "type": "scatterpolar"
           }
          ],
          "scatterpolargl": [
           {
            "marker": {
             "colorbar": {
              "outlinewidth": 0,
              "ticks": ""
             }
            },
            "type": "scatterpolargl"
           }
          ],
          "scatterternary": [
           {
            "marker": {
             "colorbar": {
              "outlinewidth": 0,
              "ticks": ""
             }
            },
            "type": "scatterternary"
           }
          ],
          "surface": [
           {
            "colorbar": {
             "outlinewidth": 0,
             "ticks": ""
            },
            "colorscale": [
             [
              0,
              "#0d0887"
             ],
             [
              0.1111111111111111,
              "#46039f"
             ],
             [
              0.2222222222222222,
              "#7201a8"
             ],
             [
              0.3333333333333333,
              "#9c179e"
             ],
             [
              0.4444444444444444,
              "#bd3786"
             ],
             [
              0.5555555555555556,
              "#d8576b"
             ],
             [
              0.6666666666666666,
              "#ed7953"
             ],
             [
              0.7777777777777778,
              "#fb9f3a"
             ],
             [
              0.8888888888888888,
              "#fdca26"
             ],
             [
              1,
              "#f0f921"
             ]
            ],
            "type": "surface"
           }
          ],
          "table": [
           {
            "cells": {
             "fill": {
              "color": "#EBF0F8"
             },
             "line": {
              "color": "white"
             }
            },
            "header": {
             "fill": {
              "color": "#C8D4E3"
             },
             "line": {
              "color": "white"
             }
            },
            "type": "table"
           }
          ]
         },
         "layout": {
          "annotationdefaults": {
           "arrowcolor": "#2a3f5f",
           "arrowhead": 0,
           "arrowwidth": 1
          },
          "autotypenumbers": "strict",
          "coloraxis": {
           "colorbar": {
            "outlinewidth": 0,
            "ticks": ""
           }
          },
          "colorscale": {
           "diverging": [
            [
             0,
             "#8e0152"
            ],
            [
             0.1,
             "#c51b7d"
            ],
            [
             0.2,
             "#de77ae"
            ],
            [
             0.3,
             "#f1b6da"
            ],
            [
             0.4,
             "#fde0ef"
            ],
            [
             0.5,
             "#f7f7f7"
            ],
            [
             0.6,
             "#e6f5d0"
            ],
            [
             0.7,
             "#b8e186"
            ],
            [
             0.8,
             "#7fbc41"
            ],
            [
             0.9,
             "#4d9221"
            ],
            [
             1,
             "#276419"
            ]
           ],
           "sequential": [
            [
             0,
             "#0d0887"
            ],
            [
             0.1111111111111111,
             "#46039f"
            ],
            [
             0.2222222222222222,
             "#7201a8"
            ],
            [
             0.3333333333333333,
             "#9c179e"
            ],
            [
             0.4444444444444444,
             "#bd3786"
            ],
            [
             0.5555555555555556,
             "#d8576b"
            ],
            [
             0.6666666666666666,
             "#ed7953"
            ],
            [
             0.7777777777777778,
             "#fb9f3a"
            ],
            [
             0.8888888888888888,
             "#fdca26"
            ],
            [
             1,
             "#f0f921"
            ]
           ],
           "sequentialminus": [
            [
             0,
             "#0d0887"
            ],
            [
             0.1111111111111111,
             "#46039f"
            ],
            [
             0.2222222222222222,
             "#7201a8"
            ],
            [
             0.3333333333333333,
             "#9c179e"
            ],
            [
             0.4444444444444444,
             "#bd3786"
            ],
            [
             0.5555555555555556,
             "#d8576b"
            ],
            [
             0.6666666666666666,
             "#ed7953"
            ],
            [
             0.7777777777777778,
             "#fb9f3a"
            ],
            [
             0.8888888888888888,
             "#fdca26"
            ],
            [
             1,
             "#f0f921"
            ]
           ]
          },
          "colorway": [
           "#636efa",
           "#EF553B",
           "#00cc96",
           "#ab63fa",
           "#FFA15A",
           "#19d3f3",
           "#FF6692",
           "#B6E880",
           "#FF97FF",
           "#FECB52"
          ],
          "font": {
           "color": "#2a3f5f"
          },
          "geo": {
           "bgcolor": "white",
           "lakecolor": "white",
           "landcolor": "#E5ECF6",
           "showlakes": true,
           "showland": true,
           "subunitcolor": "white"
          },
          "hoverlabel": {
           "align": "left"
          },
          "hovermode": "closest",
          "mapbox": {
           "style": "light"
          },
          "paper_bgcolor": "white",
          "plot_bgcolor": "#E5ECF6",
          "polar": {
           "angularaxis": {
            "gridcolor": "white",
            "linecolor": "white",
            "ticks": ""
           },
           "bgcolor": "#E5ECF6",
           "radialaxis": {
            "gridcolor": "white",
            "linecolor": "white",
            "ticks": ""
           }
          },
          "scene": {
           "xaxis": {
            "backgroundcolor": "#E5ECF6",
            "gridcolor": "white",
            "gridwidth": 2,
            "linecolor": "white",
            "showbackground": true,
            "ticks": "",
            "zerolinecolor": "white"
           },
           "yaxis": {
            "backgroundcolor": "#E5ECF6",
            "gridcolor": "white",
            "gridwidth": 2,
            "linecolor": "white",
            "showbackground": true,
            "ticks": "",
            "zerolinecolor": "white"
           },
           "zaxis": {
            "backgroundcolor": "#E5ECF6",
            "gridcolor": "white",
            "gridwidth": 2,
            "linecolor": "white",
            "showbackground": true,
            "ticks": "",
            "zerolinecolor": "white"
           }
          },
          "shapedefaults": {
           "line": {
            "color": "#2a3f5f"
           }
          },
          "ternary": {
           "aaxis": {
            "gridcolor": "white",
            "linecolor": "white",
            "ticks": ""
           },
           "baxis": {
            "gridcolor": "white",
            "linecolor": "white",
            "ticks": ""
           },
           "bgcolor": "#E5ECF6",
           "caxis": {
            "gridcolor": "white",
            "linecolor": "white",
            "ticks": ""
           }
          },
          "title": {
           "x": 0.05
          },
          "xaxis": {
           "automargin": true,
           "gridcolor": "white",
           "linecolor": "white",
           "ticks": "",
           "title": {
            "standoff": 15
           },
           "zerolinecolor": "white",
           "zerolinewidth": 2
          },
          "yaxis": {
           "automargin": true,
           "gridcolor": "white",
           "linecolor": "white",
           "ticks": "",
           "title": {
            "standoff": 15
           },
           "zerolinecolor": "white",
           "zerolinewidth": 2
          }
         }
        },
        "xaxis": {
         "anchor": "y",
         "domain": [
          0,
          1
         ],
         "tickangle": -45,
         "title": {
          "text": "RCDC Category"
         }
        },
        "yaxis": {
         "anchor": "x",
         "domain": [
          0,
          1
         ],
         "title": {
          "text": "value"
         }
        }
       }
      },
      "text/html": [
       "<div>                            <div id=\"d46f820b-30b6-47e4-8f9d-c260f2b8a979\" class=\"plotly-graph-div\" style=\"height:525px; width:100%;\"></div>            <script type=\"text/javascript\">                require([\"plotly\"], function(Plotly) {                    window.PLOTLYENV=window.PLOTLYENV || {};                                    if (document.getElementById(\"d46f820b-30b6-47e4-8f9d-c260f2b8a979\")) {                    Plotly.newPlot(                        \"d46f820b-30b6-47e4-8f9d-c260f2b8a979\",                        [{\"alignmentgroup\":\"True\",\"hovertemplate\":\"variable=American Indian or Alaska Native Participants<br>RCDC Category=%{x}<br>value=%{y}<extra></extra>\",\"legendgroup\":\"American Indian or Alaska Native Participants\",\"marker\":{\"color\":\"#636efa\",\"pattern\":{\"shape\":\"\"}},\"name\":\"American Indian or Alaska Native Participants\",\"offsetgroup\":\"American Indian or Alaska Native Participants\",\"orientation\":\"v\",\"showlegend\":true,\"textposition\":\"auto\",\"x\":[\"Brain Cancer\",\"Breast Cancer\",\"Cancer\",\"Cancer Genomics\",\"Cervical Cancer\",\"Colo-Rectal Cancer\",\"Esophageal Cancer\",\"HPV and/or Cervical Cancer Vaccines\",\"Liver Cancer\",\"Lung Cancer\",\"Ovarian Cancer\",\"Pancreatic Cancer\",\"Pediatric Cancer\",\"Prostate Cancer\",\"Stomach Cancer\",\"Uterine Cancer\",\"Vaginal Cancer\"],\"xaxis\":\"x\",\"y\":[187,9142,29466,622,689,2146,46,583,399,13647,384,48,841,52,440,366,0],\"yaxis\":\"y\",\"type\":\"bar\"},{\"alignmentgroup\":\"True\",\"hovertemplate\":\"variable=Asian Participants<br>RCDC Category=%{x}<br>value=%{y}<extra></extra>\",\"legendgroup\":\"Asian Participants\",\"marker\":{\"color\":\"#EF553B\",\"pattern\":{\"shape\":\"\"}},\"name\":\"Asian Participants\",\"offsetgroup\":\"Asian Participants\",\"orientation\":\"v\",\"showlegend\":true,\"textposition\":\"auto\",\"x\":[\"Brain Cancer\",\"Breast Cancer\",\"Cancer\",\"Cancer Genomics\",\"Cervical Cancer\",\"Colo-Rectal Cancer\",\"Esophageal Cancer\",\"HPV and/or Cervical Cancer Vaccines\",\"Liver Cancer\",\"Lung Cancer\",\"Ovarian Cancer\",\"Pancreatic Cancer\",\"Pediatric Cancer\",\"Prostate Cancer\",\"Stomach Cancer\",\"Uterine Cancer\",\"Vaginal Cancer\"],\"xaxis\":\"x\",\"y\":[81047,200317,456813,35986,2947,4498,40709,1899,11072,236492,981,86097,13385,2280,40689,744,463],\"yaxis\":\"y\",\"type\":\"bar\"},{\"alignmentgroup\":\"True\",\"hovertemplate\":\"variable=Native Hawaiian or Other Pacific Islander Participants<br>RCDC Category=%{x}<br>value=%{y}<extra></extra>\",\"legendgroup\":\"Native Hawaiian or Other Pacific Islander Participants\",\"marker\":{\"color\":\"#00cc96\",\"pattern\":{\"shape\":\"\"}},\"name\":\"Native Hawaiian or Other Pacific Islander Participants\",\"offsetgroup\":\"Native Hawaiian or Other Pacific Islander Participants\",\"orientation\":\"v\",\"showlegend\":true,\"textposition\":\"auto\",\"x\":[\"Brain Cancer\",\"Breast Cancer\",\"Cancer\",\"Cancer Genomics\",\"Cervical Cancer\",\"Colo-Rectal Cancer\",\"Esophageal Cancer\",\"HPV and/or Cervical Cancer Vaccines\",\"Liver Cancer\",\"Lung Cancer\",\"Ovarian Cancer\",\"Pancreatic Cancer\",\"Pediatric Cancer\",\"Prostate Cancer\",\"Stomach Cancer\",\"Uterine Cancer\",\"Vaginal Cancer\"],\"xaxis\":\"x\",\"y\":[50,2394,62967,223,107,270,0,26,22,59214,20,19,657,29,0,13,0],\"yaxis\":\"y\",\"type\":\"bar\"},{\"alignmentgroup\":\"True\",\"hovertemplate\":\"variable=Black or African American Participants<br>RCDC Category=%{x}<br>value=%{y}<extra></extra>\",\"legendgroup\":\"Black or African American Participants\",\"marker\":{\"color\":\"#ab63fa\",\"pattern\":{\"shape\":\"\"}},\"name\":\"Black or African American Participants\",\"offsetgroup\":\"Black or African American Participants\",\"orientation\":\"v\",\"showlegend\":true,\"textposition\":\"auto\",\"x\":[\"Brain Cancer\",\"Breast Cancer\",\"Cancer\",\"Cancer Genomics\",\"Cervical Cancer\",\"Colo-Rectal Cancer\",\"Esophageal Cancer\",\"HPV and/or Cervical Cancer Vaccines\",\"Liver Cancer\",\"Lung Cancer\",\"Ovarian Cancer\",\"Pancreatic Cancer\",\"Pediatric Cancer\",\"Prostate Cancer\",\"Stomach Cancer\",\"Uterine Cancer\",\"Vaginal Cancer\"],\"xaxis\":\"x\",\"y\":[7894,161097,552598,29577,11052,14704,867,6354,6128,297611,7085,942,25882,8262,759,6613,97],\"yaxis\":\"y\",\"type\":\"bar\"},{\"alignmentgroup\":\"True\",\"hovertemplate\":\"variable=White Participants<br>RCDC Category=%{x}<br>value=%{y}<extra></extra>\",\"legendgroup\":\"White Participants\",\"marker\":{\"color\":\"#FFA15A\",\"pattern\":{\"shape\":\"\"}},\"name\":\"White Participants\",\"offsetgroup\":\"White Participants\",\"orientation\":\"v\",\"showlegend\":true,\"textposition\":\"auto\",\"x\":[\"Brain Cancer\",\"Breast Cancer\",\"Cancer\",\"Cancer Genomics\",\"Cervical Cancer\",\"Colo-Rectal Cancer\",\"Esophageal Cancer\",\"HPV and/or Cervical Cancer Vaccines\",\"Liver Cancer\",\"Lung Cancer\",\"Ovarian Cancer\",\"Pancreatic Cancer\",\"Pediatric Cancer\",\"Prostate Cancer\",\"Stomach Cancer\",\"Uterine Cancer\",\"Vaginal Cancer\"],\"xaxis\":\"x\",\"y\":[45793,1256260,3502761,330304,52663,109212,59410,11899,35445,1373180,78753,28299,142501,89644,59140,70363,9801],\"yaxis\":\"y\",\"type\":\"bar\"},{\"alignmentgroup\":\"True\",\"hovertemplate\":\"variable=Participants of More than One Race<br>RCDC Category=%{x}<br>value=%{y}<extra></extra>\",\"legendgroup\":\"Participants of More than One Race\",\"marker\":{\"color\":\"#19d3f3\",\"pattern\":{\"shape\":\"\"}},\"name\":\"Participants of More than One Race\",\"offsetgroup\":\"Participants of More than One Race\",\"orientation\":\"v\",\"showlegend\":true,\"textposition\":\"auto\",\"x\":[\"Brain Cancer\",\"Breast Cancer\",\"Cancer\",\"Cancer Genomics\",\"Cervical Cancer\",\"Colo-Rectal Cancer\",\"Esophageal Cancer\",\"HPV and/or Cervical Cancer Vaccines\",\"Liver Cancer\",\"Lung Cancer\",\"Ovarian Cancer\",\"Pancreatic Cancer\",\"Pediatric Cancer\",\"Prostate Cancer\",\"Stomach Cancer\",\"Uterine Cancer\",\"Vaginal Cancer\"],\"xaxis\":\"x\",\"y\":[190,23005,55345,1006,565,1304,54,242,317,1395,388,25,4118,204,39,220,0],\"yaxis\":\"y\",\"type\":\"bar\"},{\"alignmentgroup\":\"True\",\"hovertemplate\":\"variable=Participants of Unknown or Unreported Race<br>RCDC Category=%{x}<br>value=%{y}<extra></extra>\",\"legendgroup\":\"Participants of Unknown or Unreported Race\",\"marker\":{\"color\":\"#FF6692\",\"pattern\":{\"shape\":\"\"}},\"name\":\"Participants of Unknown or Unreported Race\",\"offsetgroup\":\"Participants of Unknown or Unreported Race\",\"orientation\":\"v\",\"showlegend\":true,\"textposition\":\"auto\",\"x\":[\"Brain Cancer\",\"Breast Cancer\",\"Cancer\",\"Cancer Genomics\",\"Cervical Cancer\",\"Colo-Rectal Cancer\",\"Esophageal Cancer\",\"HPV and/or Cervical Cancer Vaccines\",\"Liver Cancer\",\"Lung Cancer\",\"Ovarian Cancer\",\"Pancreatic Cancer\",\"Pediatric Cancer\",\"Prostate Cancer\",\"Stomach Cancer\",\"Uterine Cancer\",\"Vaginal Cancer\"],\"xaxis\":\"x\",\"y\":[8202,299274,863694,22825,120817,24393,1027,114025,3166,371791,6280,517,91047,9454,980,3294,1047],\"yaxis\":\"y\",\"type\":\"bar\"}],                        {\"template\":{\"data\":{\"histogram2dcontour\":[{\"type\":\"histogram2dcontour\",\"colorbar\":{\"outlinewidth\":0,\"ticks\":\"\"},\"colorscale\":[[0.0,\"#0d0887\"],[0.1111111111111111,\"#46039f\"],[0.2222222222222222,\"#7201a8\"],[0.3333333333333333,\"#9c179e\"],[0.4444444444444444,\"#bd3786\"],[0.5555555555555556,\"#d8576b\"],[0.6666666666666666,\"#ed7953\"],[0.7777777777777778,\"#fb9f3a\"],[0.8888888888888888,\"#fdca26\"],[1.0,\"#f0f921\"]]}],\"choropleth\":[{\"type\":\"choropleth\",\"colorbar\":{\"outlinewidth\":0,\"ticks\":\"\"}}],\"histogram2d\":[{\"type\":\"histogram2d\",\"colorbar\":{\"outlinewidth\":0,\"ticks\":\"\"},\"colorscale\":[[0.0,\"#0d0887\"],[0.1111111111111111,\"#46039f\"],[0.2222222222222222,\"#7201a8\"],[0.3333333333333333,\"#9c179e\"],[0.4444444444444444,\"#bd3786\"],[0.5555555555555556,\"#d8576b\"],[0.6666666666666666,\"#ed7953\"],[0.7777777777777778,\"#fb9f3a\"],[0.8888888888888888,\"#fdca26\"],[1.0,\"#f0f921\"]]}],\"heatmap\":[{\"type\":\"heatmap\",\"colorbar\":{\"outlinewidth\":0,\"ticks\":\"\"},\"colorscale\":[[0.0,\"#0d0887\"],[0.1111111111111111,\"#46039f\"],[0.2222222222222222,\"#7201a8\"],[0.3333333333333333,\"#9c179e\"],[0.4444444444444444,\"#bd3786\"],[0.5555555555555556,\"#d8576b\"],[0.6666666666666666,\"#ed7953\"],[0.7777777777777778,\"#fb9f3a\"],[0.8888888888888888,\"#fdca26\"],[1.0,\"#f0f921\"]]}],\"heatmapgl\":[{\"type\":\"heatmapgl\",\"colorbar\":{\"outlinewidth\":0,\"ticks\":\"\"},\"colorscale\":[[0.0,\"#0d0887\"],[0.1111111111111111,\"#46039f\"],[0.2222222222222222,\"#7201a8\"],[0.3333333333333333,\"#9c179e\"],[0.4444444444444444,\"#bd3786\"],[0.5555555555555556,\"#d8576b\"],[0.6666666666666666,\"#ed7953\"],[0.7777777777777778,\"#fb9f3a\"],[0.8888888888888888,\"#fdca26\"],[1.0,\"#f0f921\"]]}],\"contourcarpet\":[{\"type\":\"contourcarpet\",\"colorbar\":{\"outlinewidth\":0,\"ticks\":\"\"}}],\"contour\":[{\"type\":\"contour\",\"colorbar\":{\"outlinewidth\":0,\"ticks\":\"\"},\"colorscale\":[[0.0,\"#0d0887\"],[0.1111111111111111,\"#46039f\"],[0.2222222222222222,\"#7201a8\"],[0.3333333333333333,\"#9c179e\"],[0.4444444444444444,\"#bd3786\"],[0.5555555555555556,\"#d8576b\"],[0.6666666666666666,\"#ed7953\"],[0.7777777777777778,\"#fb9f3a\"],[0.8888888888888888,\"#fdca26\"],[1.0,\"#f0f921\"]]}],\"surface\":[{\"type\":\"surface\",\"colorbar\":{\"outlinewidth\":0,\"ticks\":\"\"},\"colorscale\":[[0.0,\"#0d0887\"],[0.1111111111111111,\"#46039f\"],[0.2222222222222222,\"#7201a8\"],[0.3333333333333333,\"#9c179e\"],[0.4444444444444444,\"#bd3786\"],[0.5555555555555556,\"#d8576b\"],[0.6666666666666666,\"#ed7953\"],[0.7777777777777778,\"#fb9f3a\"],[0.8888888888888888,\"#fdca26\"],[1.0,\"#f0f921\"]]}],\"mesh3d\":[{\"type\":\"mesh3d\",\"colorbar\":{\"outlinewidth\":0,\"ticks\":\"\"}}],\"scatter\":[{\"fillpattern\":{\"fillmode\":\"overlay\",\"size\":10,\"solidity\":0.2},\"type\":\"scatter\"}],\"parcoords\":[{\"type\":\"parcoords\",\"line\":{\"colorbar\":{\"outlinewidth\":0,\"ticks\":\"\"}}}],\"scatterpolargl\":[{\"type\":\"scatterpolargl\",\"marker\":{\"colorbar\":{\"outlinewidth\":0,\"ticks\":\"\"}}}],\"bar\":[{\"error_x\":{\"color\":\"#2a3f5f\"},\"error_y\":{\"color\":\"#2a3f5f\"},\"marker\":{\"line\":{\"color\":\"#E5ECF6\",\"width\":0.5},\"pattern\":{\"fillmode\":\"overlay\",\"size\":10,\"solidity\":0.2}},\"type\":\"bar\"}],\"scattergeo\":[{\"type\":\"scattergeo\",\"marker\":{\"colorbar\":{\"outlinewidth\":0,\"ticks\":\"\"}}}],\"scatterpolar\":[{\"type\":\"scatterpolar\",\"marker\":{\"colorbar\":{\"outlinewidth\":0,\"ticks\":\"\"}}}],\"histogram\":[{\"marker\":{\"pattern\":{\"fillmode\":\"overlay\",\"size\":10,\"solidity\":0.2}},\"type\":\"histogram\"}],\"scattergl\":[{\"type\":\"scattergl\",\"marker\":{\"colorbar\":{\"outlinewidth\":0,\"ticks\":\"\"}}}],\"scatter3d\":[{\"type\":\"scatter3d\",\"line\":{\"colorbar\":{\"outlinewidth\":0,\"ticks\":\"\"}},\"marker\":{\"colorbar\":{\"outlinewidth\":0,\"ticks\":\"\"}}}],\"scattermapbox\":[{\"type\":\"scattermapbox\",\"marker\":{\"colorbar\":{\"outlinewidth\":0,\"ticks\":\"\"}}}],\"scatterternary\":[{\"type\":\"scatterternary\",\"marker\":{\"colorbar\":{\"outlinewidth\":0,\"ticks\":\"\"}}}],\"scattercarpet\":[{\"type\":\"scattercarpet\",\"marker\":{\"colorbar\":{\"outlinewidth\":0,\"ticks\":\"\"}}}],\"carpet\":[{\"aaxis\":{\"endlinecolor\":\"#2a3f5f\",\"gridcolor\":\"white\",\"linecolor\":\"white\",\"minorgridcolor\":\"white\",\"startlinecolor\":\"#2a3f5f\"},\"baxis\":{\"endlinecolor\":\"#2a3f5f\",\"gridcolor\":\"white\",\"linecolor\":\"white\",\"minorgridcolor\":\"white\",\"startlinecolor\":\"#2a3f5f\"},\"type\":\"carpet\"}],\"table\":[{\"cells\":{\"fill\":{\"color\":\"#EBF0F8\"},\"line\":{\"color\":\"white\"}},\"header\":{\"fill\":{\"color\":\"#C8D4E3\"},\"line\":{\"color\":\"white\"}},\"type\":\"table\"}],\"barpolar\":[{\"marker\":{\"line\":{\"color\":\"#E5ECF6\",\"width\":0.5},\"pattern\":{\"fillmode\":\"overlay\",\"size\":10,\"solidity\":0.2}},\"type\":\"barpolar\"}],\"pie\":[{\"automargin\":true,\"type\":\"pie\"}]},\"layout\":{\"autotypenumbers\":\"strict\",\"colorway\":[\"#636efa\",\"#EF553B\",\"#00cc96\",\"#ab63fa\",\"#FFA15A\",\"#19d3f3\",\"#FF6692\",\"#B6E880\",\"#FF97FF\",\"#FECB52\"],\"font\":{\"color\":\"#2a3f5f\"},\"hovermode\":\"closest\",\"hoverlabel\":{\"align\":\"left\"},\"paper_bgcolor\":\"white\",\"plot_bgcolor\":\"#E5ECF6\",\"polar\":{\"bgcolor\":\"#E5ECF6\",\"angularaxis\":{\"gridcolor\":\"white\",\"linecolor\":\"white\",\"ticks\":\"\"},\"radialaxis\":{\"gridcolor\":\"white\",\"linecolor\":\"white\",\"ticks\":\"\"}},\"ternary\":{\"bgcolor\":\"#E5ECF6\",\"aaxis\":{\"gridcolor\":\"white\",\"linecolor\":\"white\",\"ticks\":\"\"},\"baxis\":{\"gridcolor\":\"white\",\"linecolor\":\"white\",\"ticks\":\"\"},\"caxis\":{\"gridcolor\":\"white\",\"linecolor\":\"white\",\"ticks\":\"\"}},\"coloraxis\":{\"colorbar\":{\"outlinewidth\":0,\"ticks\":\"\"}},\"colorscale\":{\"sequential\":[[0.0,\"#0d0887\"],[0.1111111111111111,\"#46039f\"],[0.2222222222222222,\"#7201a8\"],[0.3333333333333333,\"#9c179e\"],[0.4444444444444444,\"#bd3786\"],[0.5555555555555556,\"#d8576b\"],[0.6666666666666666,\"#ed7953\"],[0.7777777777777778,\"#fb9f3a\"],[0.8888888888888888,\"#fdca26\"],[1.0,\"#f0f921\"]],\"sequentialminus\":[[0.0,\"#0d0887\"],[0.1111111111111111,\"#46039f\"],[0.2222222222222222,\"#7201a8\"],[0.3333333333333333,\"#9c179e\"],[0.4444444444444444,\"#bd3786\"],[0.5555555555555556,\"#d8576b\"],[0.6666666666666666,\"#ed7953\"],[0.7777777777777778,\"#fb9f3a\"],[0.8888888888888888,\"#fdca26\"],[1.0,\"#f0f921\"]],\"diverging\":[[0,\"#8e0152\"],[0.1,\"#c51b7d\"],[0.2,\"#de77ae\"],[0.3,\"#f1b6da\"],[0.4,\"#fde0ef\"],[0.5,\"#f7f7f7\"],[0.6,\"#e6f5d0\"],[0.7,\"#b8e186\"],[0.8,\"#7fbc41\"],[0.9,\"#4d9221\"],[1,\"#276419\"]]},\"xaxis\":{\"gridcolor\":\"white\",\"linecolor\":\"white\",\"ticks\":\"\",\"title\":{\"standoff\":15},\"zerolinecolor\":\"white\",\"automargin\":true,\"zerolinewidth\":2},\"yaxis\":{\"gridcolor\":\"white\",\"linecolor\":\"white\",\"ticks\":\"\",\"title\":{\"standoff\":15},\"zerolinecolor\":\"white\",\"automargin\":true,\"zerolinewidth\":2},\"scene\":{\"xaxis\":{\"backgroundcolor\":\"#E5ECF6\",\"gridcolor\":\"white\",\"linecolor\":\"white\",\"showbackground\":true,\"ticks\":\"\",\"zerolinecolor\":\"white\",\"gridwidth\":2},\"yaxis\":{\"backgroundcolor\":\"#E5ECF6\",\"gridcolor\":\"white\",\"linecolor\":\"white\",\"showbackground\":true,\"ticks\":\"\",\"zerolinecolor\":\"white\",\"gridwidth\":2},\"zaxis\":{\"backgroundcolor\":\"#E5ECF6\",\"gridcolor\":\"white\",\"linecolor\":\"white\",\"showbackground\":true,\"ticks\":\"\",\"zerolinecolor\":\"white\",\"gridwidth\":2}},\"shapedefaults\":{\"line\":{\"color\":\"#2a3f5f\"}},\"annotationdefaults\":{\"arrowcolor\":\"#2a3f5f\",\"arrowhead\":0,\"arrowwidth\":1},\"geo\":{\"bgcolor\":\"white\",\"landcolor\":\"#E5ECF6\",\"subunitcolor\":\"white\",\"showland\":true,\"showlakes\":true,\"lakecolor\":\"white\"},\"title\":{\"x\":0.05},\"mapbox\":{\"style\":\"light\"}}},\"xaxis\":{\"anchor\":\"y\",\"domain\":[0.0,1.0],\"title\":{\"text\":\"RCDC Category\"},\"tickangle\":-45},\"yaxis\":{\"anchor\":\"x\",\"domain\":[0.0,1.0],\"title\":{\"text\":\"value\"}},\"legend\":{\"title\":{\"text\":\"variable\"},\"tracegroupgap\":0},\"margin\":{\"t\":60},\"barmode\":\"relative\"},                        {\"responsive\": true}                    ).then(function(){\n",
       "                            \n",
       "var gd = document.getElementById('d46f820b-30b6-47e4-8f9d-c260f2b8a979');\n",
       "var x = new MutationObserver(function (mutations, observer) {{\n",
       "        var display = window.getComputedStyle(gd).display;\n",
       "        if (!display || display === 'none') {{\n",
       "            console.log([gd, 'removed!']);\n",
       "            Plotly.purge(gd);\n",
       "            observer.disconnect();\n",
       "        }}\n",
       "}});\n",
       "\n",
       "// Listen for the removal of the full notebook cells\n",
       "var notebookContainer = gd.closest('#notebook-container');\n",
       "if (notebookContainer) {{\n",
       "    x.observe(notebookContainer, {childList: true});\n",
       "}}\n",
       "\n",
       "// Listen for the clearing of the current output cell\n",
       "var outputEl = gd.closest('.output');\n",
       "if (outputEl) {{\n",
       "    x.observe(outputEl, {childList: true});\n",
       "}}\n",
       "\n",
       "                        })                };                });            </script>        </div>"
      ]
     },
     "metadata": {},
     "output_type": "display_data"
    }
   ],
   "source": [
    "import plotly.express as px\n",
    "\n",
    "fig = px.bar(rcdc, x=\"RCDC Category\", y=cols[1:])\n",
    "fig.update_layout(xaxis_tickangle=-45)\n",
    "fig.show()"
   ]
  }
 ],
 "metadata": {
  "kernelspec": {
   "display_name": "Python 3 (ipykernel)",
   "language": "python",
   "name": "python3"
  },
  "language_info": {
   "codemirror_mode": {
    "name": "ipython",
    "version": 3
   },
   "file_extension": ".py",
   "mimetype": "text/x-python",
   "name": "python",
   "nbconvert_exporter": "python",
   "pygments_lexer": "ipython3",
   "version": "3.9.7"
  }
 },
 "nbformat": 4,
 "nbformat_minor": 5
}
