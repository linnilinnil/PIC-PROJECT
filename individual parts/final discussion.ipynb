{
 "cells": [
  {
   "cell_type": "markdown",
   "id": "7c6ffc4d-2cdc-4090-b05e-f6441d8897c3",
   "metadata": {},
   "source": [
    "**Ethics**"
   ]
  },
  {
   "cell_type": "markdown",
   "id": "115cb9e9-8516-4eb2-8eba-f2d1fcfb3fea",
   "metadata": {},
   "source": [
    "There are various factors that could potentially hinder us from achieving our goal of creating a real-time, interactive data dashboard that monitors and showcases trends in funding distributed by the NIH. Two of these factors are:\n",
    "1. Availability and quality of data: One significant challenge we may face is the availability and quality of data. Although the NIH provides detailed information on grants awarded, the data may not be comprehensive, accurate, or up-to-date. The quality of data can significantly impact the accuracy of our analysis, and if we do not have access to the right data, we may not be able to produce meaningful insights.\n",
    "2. Technical constraints: Developing a real-time, interactive data dashboard requires expertise in data visualization, web development, and computational power. Technical issues such as system crashes, slow loading times, and data storage can also be a challenge. Inadequate computational resources may also limit the amount of data we can analyze, or slow down the process, making it difficult to produce the dashboard in a timely and efficient manner.\n",
    "Some of the risks that may be applicable for our project include:\n",
    "1. Data privacy and security: As we are dealing with sensitive data, there is a risk of data breaches or unauthorized access to the information we collect. Ensuring data privacy and security will be critical to maintaining the trust of our users and protecting the confidentiality of grant applicants and recipients.\n",
    "2. Bias in analysis: Data analysis is subject to bias, and there is a risk that our analysis may be biased, either intentionally or unintentionally. To mitigate this risk, we will need to ensure that our data sources are diverse and representative of different perspectives and that we use rigorous statistical methods to analyze the data.\n",
    "3. Limited user adoption: The success of our dashboard will depend on user adoption, and there is a risk that our target audience may not find the dashboard useful or engaging. To address this risk, we will need to involve users in the design process, gather feedback, and iterate on the design to ensure that it meets the needs of our users."
   ]
  },
  {
   "cell_type": "markdown",
   "id": "62969ad7-2aa6-4d71-824e-fb0de2a25deb",
   "metadata": {},
   "source": [
    "**impact/risk**"
   ]
  },
  {
   "cell_type": "markdown",
   "id": "7d9ee28c-06a6-4010-9f5b-3a6ca9f1de22",
   "metadata": {},
   "source": [
    "As we develop the real-time, interactive data dashboard to monitor and showcase trends in funding distributed by the NIH, it is crucial to consider the potential impacts of our product on its users and the broader world. Our dashboard has the potential to be a powerful tool for promoting transparency in funding distribution, and we need to ensure that it is not biased or harmful to any group.\n",
    "One potential bias is the representation of different research areas. We must ensure that the dashboard's data is representative of the different research areas and accurately reflects their funding trends. We will mitigate this bias by using data sources from multiple institutions, verifying the data's accuracy, and using rigorous statistical methods to analyze the data.\n",
    "Another potential bias is the representation of different groups of researchers. We must ensure that the dashboard's data accurately represents the funding distribution to different groups of researchers, including those from underrepresented communities. We will mitigate this bias by using data sources from diverse institutions and using statistical methods that are sensitive to underrepresented groups' needs.\n",
    "We also need to consider the potential impacts of our dashboard on its users and the broader world. Our dashboard has the potential to change the way researchers approach grant applications, reviews, and usage, and we need to ensure that it is not harmful to any group. To mitigate this risk, we will:\n",
    "1. Engage with diverse stakeholders: We will engage with a diverse group of stakeholders, including researchers, institutions, and community groups, to gather feedback on our dashboard's potential impacts and identify any potential biases.\n",
    "2. Regularly update and improve the dashboard: We will regularly update and improve the dashboard based on user feedback to ensure that it meets the needs of its users and that it is not harmful to any group.\n",
    "3. Ensure data privacy and security: We will ensure data privacy and security to maintain the trust of our users and protect the confidentiality of grant applicants and recipients.\n",
    "Overall, we will be transparent about our methods and analysis, involve diverse stakeholders in the development process, and regularly evaluate and improve our dashboard to ensure that it is not biased or harmful to any group."
   ]
  },
  {
   "cell_type": "markdown",
   "id": "c74c8405-c942-47ac-af9a-040c5a68e2ab",
   "metadata": {},
   "source": [
    "**institution type**"
   ]
  },
  {
   "cell_type": "markdown",
   "id": "bcf298e5-6f72-4ad4-8cc2-2167a5ce9785",
   "metadata": {},
   "source": [
    "The National Institutes of Health (NIH) is made up of 27 different Institutes and Centers, each focused on specific areas of medical research and public health. These Institutes and Centers conduct and support research across a wide range of fields, from basic science to clinical trials, with the goal of improving human health and advancing medical knowledge.\n",
    "\n",
    "The different types of institutions within the NIH include the National Cancer Institute, which focuses on cancer research and treatment; the National Heart, Lung, and Blood Institute, which studies heart, lung, and blood diseases; and the National Institute of Mental Health, which conducts research on mental health disorders and treatments. Other Institutes and Centers include the National Institute of Diabetes and Digestive and Kidney Diseases, the National Institute of Neurological Disorders and Stroke, and the National Institute on Aging.\n",
    "\n",
    "In addition to these Institutes and Centers, the NIH also includes the Clinical Center, which is the largest research hospital in the world and conducts clinical research studies; the National Library of Medicine, which is the world's largest biomedical library; and the Center for Scientific Review, which reviews grant applications for NIH funding.\n",
    "\n",
    "Through their research and support of medical advancements, these different institutions within the NIH work together to improve human health and prevent and treat a wide range of diseases and conditions."
   ]
  },
  {
   "cell_type": "markdown",
   "id": "046a6c21-3169-4161-9966-767d8cdba747",
   "metadata": {},
   "source": [
    "**funding mechanism**"
   ]
  },
  {
   "cell_type": "markdown",
   "id": "028bb31c-1977-4361-a3da-ecfabca27c7d",
   "metadata": {},
   "source": [
    "The National Institutes of Health (NIH) uses a variety of funding mechanisms to support medical research and advance public health. These funding mechanisms are designed to provide support for researchers at all stages of their careers and for a wide range of research topics.\n",
    "\n",
    "One common type of funding mechanism is the research project grant (R01), which provides funding for a specific research project for up to five years. These grants are awarded based on the scientific merit of the proposed research, as determined by peer review.\n",
    "\n",
    "Other types of funding mechanisms include program project grants (P01), which provide support for a group of related research projects; center grants (P50), which support multidisciplinary research centers; and training grants (T32), which provide funding for graduate and postdoctoral training programs.\n",
    "\n",
    "The NIH also offers small business innovation research (SBIR) and small business technology transfer (STTR) grants, which provide funding to small businesses for research and development of new technologies and therapies.\n",
    "\n",
    "Additionally, the NIH provides funding for research infrastructure through facilities and equipment grants (S10), which support the purchase of large, expensive equipment or the construction or renovation of research facilities.\n",
    "\n",
    "Through these different funding mechanisms, the NIH supports a broad range of research and researchers, from basic science to clinical trials, with the goal of advancing medical knowledge and improving public health."
   ]
  }
 ],
 "metadata": {
  "kernelspec": {
   "display_name": "Python 3 (ipykernel)",
   "language": "python",
   "name": "python3"
  },
  "language_info": {
   "codemirror_mode": {
    "name": "ipython",
    "version": 3
   },
   "file_extension": ".py",
   "mimetype": "text/x-python",
   "name": "python",
   "nbconvert_exporter": "python",
   "pygments_lexer": "ipython3",
   "version": "3.9.13"
  }
 },
 "nbformat": 4,
 "nbformat_minor": 5
}
